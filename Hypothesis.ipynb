{
  "cells": [
    {
      "cell_type": "markdown",
      "metadata": {
        "id": "rePJgDoV-dmN"
      },
      "source": [
        "# <center><u>Hypothesis Testing</u></center>\n",
        "Well probably all who are beginner in machine learning or in intermediate level or statistic student heard about this buzz word hypothesis testing.\n",
        "\n",
        "A hypothesis test evaluates two mutually exclusive statements about a population to determine which statement is best supported by the sample data. When we say that a finding is statistically significant, it’s thanks to a hypothesis test.\n",
        "\n",
        "Ex : you say avg student in class is 40 or a boy is taller than girls.\n",
        "\n",
        "“Hypothesis is described as a recommended solution for an undefinable incident which doesn’t into current theory”.\n",
        "\n",
        "\n",
        "\n",
        "#### Basic of hypothesis\n",
        "\n",
        "The basic of hypothesis is normalisation and standard normalisation. all our hypothesis is revolve around basic of these 2 terms. let’s see these.\n",
        "\n",
        "Normal distributions are a family of distributions with a symmetrical bell shape. The area under each of the curves above is the same and most of the values occur in the middle of the curve. The mean and standard deviation of a normal distribution control how tall and wide it is.\n",
        "properties of normal distribution is that the mean, median, and mode are equal.\n",
        "\n",
        "The standard normal distribution (z distribution) is a normal distribution with a mean of 0 and a standard deviation of 1. Any point (x) from a normal distribution can be converted to the standard normal distribution (z) with the formula z = (x-mean) / standard deviation\n",
        "\n",
        "The Standard Normal Distribution is a specific instance of the Normal Distribution that has a mean of ‘0’ and a standard deviation of ‘1’.\n",
        "\n",
        "The visual way to understand it would be the following image\n",
        "\n",
        "\n",
        "\n",
        "The four curves are Normal distributions, but only the red one is Standard Normal (since it’s mean is zero, which means that’s where it’s centred, and its standard deviation is one.\n",
        "\n",
        "#### Central Limit Theorem \n",
        "The Central Limit Theorem states that the sampling distribution of the sample means approaches a normal distribution as the sample size gets larger — no matter what the shape of the population distribution. This fact holds especially true for sample sizes over 30.\n",
        "\n",
        "All this is saying is that as you take more samples, especially large ones, your graph of the sample means will look more like a normal distribution.\n",
        "\n",
        "Here’s what the Central Limit Theorem is saying, graphically. The picture below shows one of the simplest types of test: rolling a fair die. The more times you roll the die, the more likely the shape of the distribution of the means tends to look like a normal distribution graph.\n",
        "\n",
        "\n",
        "#### Important parameter of hypothesis testing\n",
        "\n",
        "1. Null hypothesis: It is regarding the assumption that there is no anomaly pattern or believing according to the assumption made.\n",
        "\n",
        "2. Alternate hypothesis: Contrary to the null hypothesis, it shows that observation is the result of real effect.\n",
        "\n",
        "3. Level of significance: Refers to the degree of significance in which we accept or reject the null-hypothesis. 100% accuracy is not possible for accepting or rejecting a hypothesis, so we therefore select a level of significance that is usually 5%.\n",
        "This is normally denoted with alpha(maths symbol ) and generally it is 0.05 or 5% , which means your output should be 95% confident to give similar kind of result in each sample.\n",
        "\n",
        "4. Type I error ( ${\\alpha}$): When we reject the null hypothesis, although that hypothesis was true. Type I error is denoted by alpha. In hypothesis testing, the normal curve that shows the critical region is called the alpha region.\n",
        "5. Type II errors ( ${\\beta}$): When we failed to reject (* never say accept null hypo- stated in many papers) the null hypothesis but it is false. Type II errors are denoted by beta. In Hypothesis testing, the normal curve that shows the acceptance region is called the beta region.\n",
        "\n",
        "alpha can only be committed when the null hypothesis is rejected and beta can only be committed when the null hypothesis is not rejected, a business researcher cannot commit both a Type I error and a Type II error at the same time on the same hypothesis test\n",
        "\n",
        "beta occurs only when the null hypothesis is not true, the computation of beta varies with the many possible alternative parameters that might occur.\n",
        "\n",
        "#### Tests of Statistical hypothesis\n",
        "6. Lower critical value/ Upper Critical value : We can refer to each critical value as the lower and upper critical values for the left and right of the distribution respectively. Test statistic values more than or equal to the lower critical value and less than or equal to the upper critical value indicate the failure to reject the null hypothesis\n",
        "\n",
        "LCV= x +(-z * σ) <br>\n",
        "UCV= x+ (z * σ)\n",
        "\n",
        "\n",
        "7. One tailed test :- A test of a statistical hypothesis , where the region of rejection is on only one side of the sampling distribution , is called a one-tailed test.\n",
        "Example :- a college has ≥ 4000 student or data science ≤ 80% org adopted.\n",
        "\n",
        "- Test Statistic <= Critical Value: Fail to reject the null hypothesis of the statistical test.\n",
        "- Test Statistic > Critical Value: Reject the null hypothesis of the statistical test.\n",
        "\n",
        "8. Two-tailed test  :- A two-tailed test is a statistical test in which the critical area of a distribution is two-sided and tests whether a sample is greater than or less than a certain range of values. If the sample being tested falls into either of the critical areas, the alternative hypothesis is accepted instead of the null hypothesis.\n",
        "Example : a college != 4000 student or data science != 80% org adopted\n",
        "\n",
        "- Lower CR <= Test Statistic <= Upper CR: Failure to reject the null hypothesis of the statistical test.\n",
        "- Test Statistic < Lower CR OR Test Statistic > Upper CR: Reject the null hypothesis of the statistical test.\n",
        "\n",
        "\n",
        "\n",
        "9. P value : The P value, or calculated probability, is the probability of finding the observed, or more extreme, results when the null hypothesis (H0) of a study question is true – the definition of ‘extreme’ depends on how the hypothesis is being tested. P is also described in terms of rejecting H0 when it is actually true, however, it is not a direct probability of this state.\n",
        "\n",
        "`Example : you have a coin and you don’t know whether that is fair or tricky so let’s decide null and alternate hypothesis\n",
        "H0 : a coin is a fair coin.\n",
        "H1 : a coin is a tricky coin. and alpha = 5% or 0.05\n",
        "Now let’s toss the coin and calculate p- value ( probability value).\n",
        "Toss a coin 1st time and result is tail- P-value = 50% (as head and tail have equal probability)\n",
        "Toss a coin 2nd time and result is tail, now p-value = 50/2 = 25%\n",
        "and similarly we Toss 6 consecutive time and got result as P-value = 1.5% but we set our significance level as 95% means 5% error rate we allow and here we see we are beyond that level i.e. our null- hypothesis does not hold good so we need to reject and propose that this coin is a tricky coin which is actually.`\n",
        "\n",
        "10. Degrees of Freedom : Degrees of Freedom refers to the maximum number of logically independent values, which are values that have the freedom to vary, in the data sample.\n",
        "\n",
        "\n",
        "\n",
        "\n",
        "11. Z Score:  z-score (also called a standard score) gives you an idea of how far from the mean a data point is. But more technically it’s a measure of how many standard deviations below or above the population mean a raw score is.\n",
        "\n",
        "The basic z score formula for a sample is:\n",
        "\n",
        "z = (x – μ) / σ\n",
        "\n",
        "For example, let’s say you have a test score of 190. The test has a mean (μ) of 150 and a standard deviation (σ) of 25. Assuming a normal distribution, your z score would be:\n",
        "\n",
        "z = (x – μ) / σ<br>\n",
        "z= (190 – 150) / 25 = 1.6.<br>\n",
        "The z score tells you how many standard deviations from the mean your score is. In this example, your score is 1.6 standard deviations above the mean.\n",
        "\n",
        "\n",
        "\n",
        "### Statistical method when population information is known\n",
        "\n",
        "- step 1: create the hypothesis (Null and Alternate Hypothesis)\n",
        "- Step 2: Appropriate statistical test\n",
        "- step 3: let set $\\alpha$ as .05 i.e Type l error\n",
        "- step 4: Get data\n",
        "- Step 5: Analyze\n",
        "\n",
        "\n",
        "$$z= \\frac{\\bar{x}-\\mu}{\\frac{\\sigma}{\\sqrt n}}$$\n",
        "$$H_{o}: \\space \\space  \\mu = 150$$$$H_{a}: \\space \\space  \\mu \\ne 150$$\n",
        "\n",
        "Above you can see that here null Hypothesis is that mean height of students is 150 and alternate hypothesis is mean height not equal to 150. \n",
        "\n",
        "\n",
        "\n",
        "\n",
        "\n",
        "\n",
        "\n"
      ]
    },
    {
      "cell_type": "code",
      "execution_count": null,
      "metadata": {
        "id": "dpqy0MZS-dmm"
      },
      "outputs": [],
      "source": [
        "# import pandas, numpy and math libraries\n",
        "import pandas as pd\n",
        "import numpy as np\n",
        "import math\n",
        "\n"
      ]
    },
    {
      "cell_type": "code",
      "execution_count": null,
      "metadata": {
        "id": "DEsRVJuC-dmr"
      },
      "outputs": [],
      "source": [
        "#read Height.csv data\n",
        "data= pd.read_csv('/content/Height.csv')\n"
      ]
    },
    {
      "cell_type": "code",
      "source": [
        "data.head()"
      ],
      "metadata": {
        "colab": {
          "base_uri": "https://localhost:8080/",
          "height": 206
        },
        "id": "yvcYVn4s_Z7i",
        "outputId": "d9c2b4a4-3c5b-4fb7-8698-34cf41c0d9a0"
      },
      "execution_count": null,
      "outputs": [
        {
          "output_type": "execute_result",
          "data": {
            "text/plain": [
              "   Unnamed: 0      Height\n",
              "0           0  150.710517\n",
              "1           1  147.493573\n",
              "2           2  142.378153\n",
              "3           3  149.189373\n",
              "4           4  146.621717"
            ],
            "text/html": [
              "\n",
              "  <div id=\"df-80ed598c-8685-4d37-ac86-ddc73580a33c\">\n",
              "    <div class=\"colab-df-container\">\n",
              "      <div>\n",
              "<style scoped>\n",
              "    .dataframe tbody tr th:only-of-type {\n",
              "        vertical-align: middle;\n",
              "    }\n",
              "\n",
              "    .dataframe tbody tr th {\n",
              "        vertical-align: top;\n",
              "    }\n",
              "\n",
              "    .dataframe thead th {\n",
              "        text-align: right;\n",
              "    }\n",
              "</style>\n",
              "<table border=\"1\" class=\"dataframe\">\n",
              "  <thead>\n",
              "    <tr style=\"text-align: right;\">\n",
              "      <th></th>\n",
              "      <th>Unnamed: 0</th>\n",
              "      <th>Height</th>\n",
              "    </tr>\n",
              "  </thead>\n",
              "  <tbody>\n",
              "    <tr>\n",
              "      <th>0</th>\n",
              "      <td>0</td>\n",
              "      <td>150.710517</td>\n",
              "    </tr>\n",
              "    <tr>\n",
              "      <th>1</th>\n",
              "      <td>1</td>\n",
              "      <td>147.493573</td>\n",
              "    </tr>\n",
              "    <tr>\n",
              "      <th>2</th>\n",
              "      <td>2</td>\n",
              "      <td>142.378153</td>\n",
              "    </tr>\n",
              "    <tr>\n",
              "      <th>3</th>\n",
              "      <td>3</td>\n",
              "      <td>149.189373</td>\n",
              "    </tr>\n",
              "    <tr>\n",
              "      <th>4</th>\n",
              "      <td>4</td>\n",
              "      <td>146.621717</td>\n",
              "    </tr>\n",
              "  </tbody>\n",
              "</table>\n",
              "</div>\n",
              "      <button class=\"colab-df-convert\" onclick=\"convertToInteractive('df-80ed598c-8685-4d37-ac86-ddc73580a33c')\"\n",
              "              title=\"Convert this dataframe to an interactive table.\"\n",
              "              style=\"display:none;\">\n",
              "        \n",
              "  <svg xmlns=\"http://www.w3.org/2000/svg\" height=\"24px\"viewBox=\"0 0 24 24\"\n",
              "       width=\"24px\">\n",
              "    <path d=\"M0 0h24v24H0V0z\" fill=\"none\"/>\n",
              "    <path d=\"M18.56 5.44l.94 2.06.94-2.06 2.06-.94-2.06-.94-.94-2.06-.94 2.06-2.06.94zm-11 1L8.5 8.5l.94-2.06 2.06-.94-2.06-.94L8.5 2.5l-.94 2.06-2.06.94zm10 10l.94 2.06.94-2.06 2.06-.94-2.06-.94-.94-2.06-.94 2.06-2.06.94z\"/><path d=\"M17.41 7.96l-1.37-1.37c-.4-.4-.92-.59-1.43-.59-.52 0-1.04.2-1.43.59L10.3 9.45l-7.72 7.72c-.78.78-.78 2.05 0 2.83L4 21.41c.39.39.9.59 1.41.59.51 0 1.02-.2 1.41-.59l7.78-7.78 2.81-2.81c.8-.78.8-2.07 0-2.86zM5.41 20L4 18.59l7.72-7.72 1.47 1.35L5.41 20z\"/>\n",
              "  </svg>\n",
              "      </button>\n",
              "      \n",
              "  <style>\n",
              "    .colab-df-container {\n",
              "      display:flex;\n",
              "      flex-wrap:wrap;\n",
              "      gap: 12px;\n",
              "    }\n",
              "\n",
              "    .colab-df-convert {\n",
              "      background-color: #E8F0FE;\n",
              "      border: none;\n",
              "      border-radius: 50%;\n",
              "      cursor: pointer;\n",
              "      display: none;\n",
              "      fill: #1967D2;\n",
              "      height: 32px;\n",
              "      padding: 0 0 0 0;\n",
              "      width: 32px;\n",
              "    }\n",
              "\n",
              "    .colab-df-convert:hover {\n",
              "      background-color: #E2EBFA;\n",
              "      box-shadow: 0px 1px 2px rgba(60, 64, 67, 0.3), 0px 1px 3px 1px rgba(60, 64, 67, 0.15);\n",
              "      fill: #174EA6;\n",
              "    }\n",
              "\n",
              "    [theme=dark] .colab-df-convert {\n",
              "      background-color: #3B4455;\n",
              "      fill: #D2E3FC;\n",
              "    }\n",
              "\n",
              "    [theme=dark] .colab-df-convert:hover {\n",
              "      background-color: #434B5C;\n",
              "      box-shadow: 0px 1px 3px 1px rgba(0, 0, 0, 0.15);\n",
              "      filter: drop-shadow(0px 1px 2px rgba(0, 0, 0, 0.3));\n",
              "      fill: #FFFFFF;\n",
              "    }\n",
              "  </style>\n",
              "\n",
              "      <script>\n",
              "        const buttonEl =\n",
              "          document.querySelector('#df-80ed598c-8685-4d37-ac86-ddc73580a33c button.colab-df-convert');\n",
              "        buttonEl.style.display =\n",
              "          google.colab.kernel.accessAllowed ? 'block' : 'none';\n",
              "\n",
              "        async function convertToInteractive(key) {\n",
              "          const element = document.querySelector('#df-80ed598c-8685-4d37-ac86-ddc73580a33c');\n",
              "          const dataTable =\n",
              "            await google.colab.kernel.invokeFunction('convertToInteractive',\n",
              "                                                     [key], {});\n",
              "          if (!dataTable) return;\n",
              "\n",
              "          const docLinkHtml = 'Like what you see? Visit the ' +\n",
              "            '<a target=\"_blank\" href=https://colab.research.google.com/notebooks/data_table.ipynb>data table notebook</a>'\n",
              "            + ' to learn more about interactive tables.';\n",
              "          element.innerHTML = '';\n",
              "          dataTable['output_type'] = 'display_data';\n",
              "          await google.colab.output.renderOutput(dataTable, element);\n",
              "          const docLink = document.createElement('div');\n",
              "          docLink.innerHTML = docLinkHtml;\n",
              "          element.appendChild(docLink);\n",
              "        }\n",
              "      </script>\n",
              "    </div>\n",
              "  </div>\n",
              "  "
            ]
          },
          "metadata": {},
          "execution_count": 3
        }
      ]
    },
    {
      "cell_type": "code",
      "execution_count": null,
      "metadata": {
        "colab": {
          "base_uri": "https://localhost:8080/"
        },
        "id": "EaMfQfZX-dmt",
        "outputId": "8b23043c-b6ad-4aca-87b5-89eef10fb596"
      },
      "outputs": [
        {
          "output_type": "stream",
          "name": "stdout",
          "text": [
            "150.03227993729112\n"
          ]
        }
      ],
      "source": [
        "#print mean height\n",
        "print(data.Height.mean())"
      ]
    },
    {
      "cell_type": "markdown",
      "metadata": {
        "id": "R3-1HcyD-dmx"
      },
      "source": [
        "Let's take 100 sample from the above given population"
      ]
    },
    {
      "cell_type": "code",
      "execution_count": null,
      "metadata": {
        "id": "vBGJKOeR-dm2"
      },
      "outputs": [],
      "source": [
        "#100 random sample of data with random state=1\n",
        "sampData= data.sample(n=100, random_state=1)\n"
      ]
    },
    {
      "cell_type": "code",
      "execution_count": null,
      "metadata": {
        "colab": {
          "base_uri": "https://localhost:8080/",
          "height": 424
        },
        "id": "Sqpds9ZW-dnG",
        "outputId": "39606fdf-a157-4ae1-82a9-68259670365f"
      },
      "outputs": [
        {
          "output_type": "execute_result",
          "data": {
            "text/plain": [
              "     Unnamed: 0      Height\n",
              "507         507  150.539230\n",
              "818         818  148.659965\n",
              "452         452  148.930840\n",
              "368         368  151.689354\n",
              "242         242  149.516885\n",
              "..          ...         ...\n",
              "671         671  158.378735\n",
              "559         559  147.581484\n",
              "593         593  144.697947\n",
              "258         258  140.460518\n",
              "154         154  149.464342\n",
              "\n",
              "[100 rows x 2 columns]"
            ],
            "text/html": [
              "\n",
              "  <div id=\"df-5d1dd6e4-1c77-4896-97a7-0dee4b603b50\">\n",
              "    <div class=\"colab-df-container\">\n",
              "      <div>\n",
              "<style scoped>\n",
              "    .dataframe tbody tr th:only-of-type {\n",
              "        vertical-align: middle;\n",
              "    }\n",
              "\n",
              "    .dataframe tbody tr th {\n",
              "        vertical-align: top;\n",
              "    }\n",
              "\n",
              "    .dataframe thead th {\n",
              "        text-align: right;\n",
              "    }\n",
              "</style>\n",
              "<table border=\"1\" class=\"dataframe\">\n",
              "  <thead>\n",
              "    <tr style=\"text-align: right;\">\n",
              "      <th></th>\n",
              "      <th>Unnamed: 0</th>\n",
              "      <th>Height</th>\n",
              "    </tr>\n",
              "  </thead>\n",
              "  <tbody>\n",
              "    <tr>\n",
              "      <th>507</th>\n",
              "      <td>507</td>\n",
              "      <td>150.539230</td>\n",
              "    </tr>\n",
              "    <tr>\n",
              "      <th>818</th>\n",
              "      <td>818</td>\n",
              "      <td>148.659965</td>\n",
              "    </tr>\n",
              "    <tr>\n",
              "      <th>452</th>\n",
              "      <td>452</td>\n",
              "      <td>148.930840</td>\n",
              "    </tr>\n",
              "    <tr>\n",
              "      <th>368</th>\n",
              "      <td>368</td>\n",
              "      <td>151.689354</td>\n",
              "    </tr>\n",
              "    <tr>\n",
              "      <th>242</th>\n",
              "      <td>242</td>\n",
              "      <td>149.516885</td>\n",
              "    </tr>\n",
              "    <tr>\n",
              "      <th>...</th>\n",
              "      <td>...</td>\n",
              "      <td>...</td>\n",
              "    </tr>\n",
              "    <tr>\n",
              "      <th>671</th>\n",
              "      <td>671</td>\n",
              "      <td>158.378735</td>\n",
              "    </tr>\n",
              "    <tr>\n",
              "      <th>559</th>\n",
              "      <td>559</td>\n",
              "      <td>147.581484</td>\n",
              "    </tr>\n",
              "    <tr>\n",
              "      <th>593</th>\n",
              "      <td>593</td>\n",
              "      <td>144.697947</td>\n",
              "    </tr>\n",
              "    <tr>\n",
              "      <th>258</th>\n",
              "      <td>258</td>\n",
              "      <td>140.460518</td>\n",
              "    </tr>\n",
              "    <tr>\n",
              "      <th>154</th>\n",
              "      <td>154</td>\n",
              "      <td>149.464342</td>\n",
              "    </tr>\n",
              "  </tbody>\n",
              "</table>\n",
              "<p>100 rows × 2 columns</p>\n",
              "</div>\n",
              "      <button class=\"colab-df-convert\" onclick=\"convertToInteractive('df-5d1dd6e4-1c77-4896-97a7-0dee4b603b50')\"\n",
              "              title=\"Convert this dataframe to an interactive table.\"\n",
              "              style=\"display:none;\">\n",
              "        \n",
              "  <svg xmlns=\"http://www.w3.org/2000/svg\" height=\"24px\"viewBox=\"0 0 24 24\"\n",
              "       width=\"24px\">\n",
              "    <path d=\"M0 0h24v24H0V0z\" fill=\"none\"/>\n",
              "    <path d=\"M18.56 5.44l.94 2.06.94-2.06 2.06-.94-2.06-.94-.94-2.06-.94 2.06-2.06.94zm-11 1L8.5 8.5l.94-2.06 2.06-.94-2.06-.94L8.5 2.5l-.94 2.06-2.06.94zm10 10l.94 2.06.94-2.06 2.06-.94-2.06-.94-.94-2.06-.94 2.06-2.06.94z\"/><path d=\"M17.41 7.96l-1.37-1.37c-.4-.4-.92-.59-1.43-.59-.52 0-1.04.2-1.43.59L10.3 9.45l-7.72 7.72c-.78.78-.78 2.05 0 2.83L4 21.41c.39.39.9.59 1.41.59.51 0 1.02-.2 1.41-.59l7.78-7.78 2.81-2.81c.8-.78.8-2.07 0-2.86zM5.41 20L4 18.59l7.72-7.72 1.47 1.35L5.41 20z\"/>\n",
              "  </svg>\n",
              "      </button>\n",
              "      \n",
              "  <style>\n",
              "    .colab-df-container {\n",
              "      display:flex;\n",
              "      flex-wrap:wrap;\n",
              "      gap: 12px;\n",
              "    }\n",
              "\n",
              "    .colab-df-convert {\n",
              "      background-color: #E8F0FE;\n",
              "      border: none;\n",
              "      border-radius: 50%;\n",
              "      cursor: pointer;\n",
              "      display: none;\n",
              "      fill: #1967D2;\n",
              "      height: 32px;\n",
              "      padding: 0 0 0 0;\n",
              "      width: 32px;\n",
              "    }\n",
              "\n",
              "    .colab-df-convert:hover {\n",
              "      background-color: #E2EBFA;\n",
              "      box-shadow: 0px 1px 2px rgba(60, 64, 67, 0.3), 0px 1px 3px 1px rgba(60, 64, 67, 0.15);\n",
              "      fill: #174EA6;\n",
              "    }\n",
              "\n",
              "    [theme=dark] .colab-df-convert {\n",
              "      background-color: #3B4455;\n",
              "      fill: #D2E3FC;\n",
              "    }\n",
              "\n",
              "    [theme=dark] .colab-df-convert:hover {\n",
              "      background-color: #434B5C;\n",
              "      box-shadow: 0px 1px 3px 1px rgba(0, 0, 0, 0.15);\n",
              "      filter: drop-shadow(0px 1px 2px rgba(0, 0, 0, 0.3));\n",
              "      fill: #FFFFFF;\n",
              "    }\n",
              "  </style>\n",
              "\n",
              "      <script>\n",
              "        const buttonEl =\n",
              "          document.querySelector('#df-5d1dd6e4-1c77-4896-97a7-0dee4b603b50 button.colab-df-convert');\n",
              "        buttonEl.style.display =\n",
              "          google.colab.kernel.accessAllowed ? 'block' : 'none';\n",
              "\n",
              "        async function convertToInteractive(key) {\n",
              "          const element = document.querySelector('#df-5d1dd6e4-1c77-4896-97a7-0dee4b603b50');\n",
              "          const dataTable =\n",
              "            await google.colab.kernel.invokeFunction('convertToInteractive',\n",
              "                                                     [key], {});\n",
              "          if (!dataTable) return;\n",
              "\n",
              "          const docLinkHtml = 'Like what you see? Visit the ' +\n",
              "            '<a target=\"_blank\" href=https://colab.research.google.com/notebooks/data_table.ipynb>data table notebook</a>'\n",
              "            + ' to learn more about interactive tables.';\n",
              "          element.innerHTML = '';\n",
              "          dataTable['output_type'] = 'display_data';\n",
              "          await google.colab.output.renderOutput(dataTable, element);\n",
              "          const docLink = document.createElement('div');\n",
              "          docLink.innerHTML = docLinkHtml;\n",
              "          element.appendChild(docLink);\n",
              "        }\n",
              "      </script>\n",
              "    </div>\n",
              "  </div>\n",
              "  "
            ]
          },
          "metadata": {},
          "execution_count": 6
        }
      ],
      "source": [
        "# print sample Data\n",
        "sampData"
      ]
    },
    {
      "cell_type": "code",
      "execution_count": null,
      "metadata": {
        "colab": {
          "base_uri": "https://localhost:8080/",
          "height": 385
        },
        "id": "ZOwgL4R7-dnH",
        "outputId": "76ee7d74-d46f-4511-f714-edffa2c7dc5e"
      },
      "outputs": [
        {
          "output_type": "display_data",
          "data": {
            "text/plain": [
              "<Figure size 360x360 with 1 Axes>"
            ],
            "image/png": "[encoded data removed]"
          },
          "metadata": {
            "needs_background": "light"
          }
        }
      ],
      "source": [
        "# import matplotlib and seaborn\n",
        "import matplotlib.pyplot as plt\n",
        "import seaborn as sns\n",
        "#plot density plot for above data\n",
        "\n",
        "sns.displot(data=data, x='Height', kde=True)\n",
        "plt.title('Distribution off Height of Student in a school')\n",
        "plt.xlabel('Height(inches)')\n",
        "plt.ylabel('probability of occurance')\n",
        "plt.show()"
      ]
    },
    {
      "cell_type": "code",
      "execution_count": null,
      "metadata": {
        "id": "xth8KXAi-dnI"
      },
      "outputs": [],
      "source": [
        "#mean of sampData\n",
        "meanSampData=sampData.Height.mean()\n",
        "\n",
        "#hypothesis mean (to be 150 as described in problem explanation)\n",
        "hypMean= 150\n",
        "\n",
        "#No. of samples( 100)\n",
        "N= 100\n",
        "\n",
        "#standard deviation of data\n",
        "standPop= data.Height.std()"
      ]
    },
    {
      "cell_type": "code",
      "source": [
        "sampData.mean()"
      ],
      "metadata": {
        "colab": {
          "base_uri": "https://localhost:8080/"
        },
        "id": "jraW8KwuM94K",
        "outputId": "f1398ee9-644c-4048-ae23-4c498cd3b721"
      },
      "execution_count": null,
      "outputs": [
        {
          "output_type": "execute_result",
          "data": {
            "text/plain": [
              "Unnamed: 0    500.800000\n",
              "Height        149.752012\n",
              "dtype: float64"
            ]
          },
          "metadata": {},
          "execution_count": 9
        }
      ]
    },
    {
      "cell_type": "code",
      "source": [
        "data.std()"
      ],
      "metadata": {
        "colab": {
          "base_uri": "https://localhost:8080/"
        },
        "id": "keuckbUtM26j",
        "outputId": "b5f4a768-74df-4bf6-df99-f66541e24ca2"
      },
      "execution_count": null,
      "outputs": [
        {
          "output_type": "execute_result",
          "data": {
            "text/plain": [
              "Unnamed: 0    288.819436\n",
              "Height          3.943126\n",
              "dtype: float64"
            ]
          },
          "metadata": {},
          "execution_count": 10
        }
      ]
    },
    {
      "cell_type": "markdown",
      "metadata": {
        "id": "S6g-QJKB-dnL"
      },
      "source": [
        "### This is a 2 sided test\n",
        "value of $z$ at .05 making it .025 for 2 sided which makes probability for one side as 1-0.025=0.975\n",
        "\n",
        "- Go to the Z table and check vertically under alpha 0.05 where is 0.975\n",
        "- Note down the z value horizontally at left direction in the same row\n",
        "\n",
        "\n",
        "we know from $z table$ we get z score as  $\\underline{+}$1.9\n",
        "\n"
      ]
    },
    {
      "cell_type": "markdown",
      "metadata": {
        "id": "j_7W6YKP-dnM"
      },
      "source": [
        "Computing Z score value using given formula\n",
        "$$z= \\frac{\\bar{x}-\\mu}{\\frac{\\sigma}{\\sqrt n}}$$\n"
      ]
    },
    {
      "cell_type": "code",
      "execution_count": null,
      "metadata": {
        "colab": {
          "base_uri": "https://localhost:8080/"
        },
        "id": "FFLkbGbQ-dnN",
        "outputId": "175607f4-fae0-4698-e34a-004037398592"
      },
      "outputs": [
        {
          "output_type": "stream",
          "name": "stdout",
          "text": [
            "Unnamed: 0   -889.649446\n",
            "Height          0.628911\n",
            "dtype: float64\n"
          ]
        }
      ],
      "source": [
        "#calculate z according to above formula\n",
        "z= (hypMean-sampData.mean())/(standPop/N**0.5)\n",
        "\n",
        "# print z\n",
        "print(z)"
      ]
    },
    {
      "cell_type": "markdown",
      "metadata": {
        "id": "zPlPrLIl-dnP"
      },
      "source": [
        "- as calculated z score -0.63 is greater than -1.9 (tabular z score), we fail to reject the null hypothesis\n",
        "\n",
        "- if also we would have got +0.63 is less than +1.9 we would have fail to reject the Null hypothesis\n",
        "\n",
        "- Observed value = -0.63\n",
        "\n",
        "- Critical value = -1.9\n",
        "\n",
        "##### We made a Type l error, as the value is actually = 150\n",
        "\n",
        "## p-value (observed significance level)\n",
        "\n",
        "Another way to reach a statistical conclusion in hypothesis testing problems is by using the p-value\n",
        "\n",
        "The p-value defines the smallest probability ($\\alpha$) for which the null hypothesis can be rejected.\n",
        "\n",
        "let say $\\alpha = .05$\n",
        "\n",
        "- if p < .05 strong evidence against the $H_{o}$, hence reject the Null Hypothesis\n",
        "- if p > .05 weak evidence against the $H_{o}$, hence fail to reject the Null Hypothesis\n",
        "- if near to .05 not sure\n",
        "\n",
        "\n",
        "Example\n",
        "let say observed z value is -0.63. Find its probability w.r.t alpha 0.05 from z table and print it below:\n",
        "\n",
        "\n"
      ]
    },
    {
      "cell_type": "code",
      "execution_count": null,
      "metadata": {
        "colab": {
          "base_uri": "https://localhost:8080/"
        },
        "id": "vT6AB7xe-dnu",
        "outputId": "2cd94eff-525e-4260-cc94-0b3d3a2f8c58"
      },
      "outputs": [
        {
          "output_type": "stream",
          "name": "stdout",
          "text": [
            "Probability =  0.2679\n"
          ]
        }
      ],
      "source": [
        "# print probability by looking into the z table\n",
        "print('Probability = ', 1-0.7321)"
      ]
    },
    {
      "cell_type": "markdown",
      "metadata": {
        "id": "PD3Cxfwr-dnv"
      },
      "source": [
        "Calculate the P value using formula (1- probability) and print it below:\n",
        "\n",
        "\n",
        "The p-value would be 1-.994 = .006\n",
        "\n"
      ]
    },
    {
      "cell_type": "code",
      "execution_count": null,
      "metadata": {
        "colab": {
          "base_uri": "https://localhost:8080/"
        },
        "id": "Yg0rTsvm-dnw",
        "outputId": "cce7d3e2-6c76-41b3-ad2b-35bc45fb7002"
      },
      "outputs": [
        {
          "output_type": "stream",
          "name": "stdout",
          "text": [
            "P Value =  0.7321\n"
          ]
        }
      ],
      "source": [
        "# print p Value\n",
        "print('P Value = ', 1-0.2679)"
      ]
    },
    {
      "cell_type": "markdown",
      "metadata": {
        "id": "soZWJ-5L-dny"
      },
      "source": [
        "Using the above info we fail to reject the $H_{o}$ at $\\alpha=.05$ as p value i greater than alpha\n",
        "\n",
        "but we can reject the $H_{o}$ at $\\alpha=.80$ as 0.74 < 0.80 but >0.05\n",
        "\n",
        "\n",
        "#### Using T Table\n",
        "\n",
        "\n",
        "\n",
        "We also have t table to do hypothesis testing . Now question is what is the difference between both. Check below flow chart to understand its use and difference\n",
        "\n",
        "\n",
        "\n",
        "\n",
        "\n",
        "Example if you take above example u have test statistic value as 0.63. Let's check in T table the tail probability when sample size is 20 "
      ]
    },
    {
      "cell_type": "code",
      "execution_count": null,
      "metadata": {
        "colab": {
          "base_uri": "https://localhost:8080/"
        },
        "id": "f5lrBrJW-dn6",
        "outputId": "4201877c-0eb2-4c60-a921-8907d12b32b9"
      },
      "outputs": [
        {
          "output_type": "execute_result",
          "data": {
            "text/plain": [
              "19"
            ]
          },
          "metadata": {},
          "execution_count": 14
        }
      ],
      "source": [
        "#Print degree of freedom for above case\n",
        "sample_size=20\n",
        "dof = (sample_size - 1)\n",
        "dof"
      ]
    },
    {
      "cell_type": "code",
      "execution_count": null,
      "metadata": {
        "id": "GKpwTsC9-doC"
      },
      "outputs": [],
      "source": [
        "#print tail probability looking into t table for dof as above and test stats as 0.63\n",
        "\n"
      ]
    },
    {
      "cell_type": "markdown",
      "metadata": {
        "id": "5W95zO9a-doS"
      },
      "source": [
        "So above You can see we got t probability as 0.688 for one tail test.\n",
        "\n",
        "Since 0.688>0.05, we fail to reject the null hypothesis and hence using T table also we got the ame result as we got looking into Z table.\n"
      ]
    },
    {
      "cell_type": "markdown",
      "metadata": {
        "id": "AJ4NecbE-doT"
      },
      "source": [
        "\n",
        "Hope you understood the statistical method for doing Hypothesis Testing. Now you must be thinking this is such a manual process to do Hypothesis Testing, don't worry scipy has made our work far easier by providing awesome libraries use various testing methods.\n",
        "\n",
        "Let’s see some of widely used hypothesis testing type :-\n",
        "\n",
        "- T Test ( Student T test)\n",
        "- Z Test\n",
        "- ANOVA Test\n",
        "- Chi-Square Test\n",
        "\n",
        "\n",
        " \n",
        "## 1. T- Test \n",
        "\n",
        "A t-test is a type of inferential statistic which is used to determine if there is a significant difference between the means of two groups which may be related in certain features. It is mostly used when the data sets, like the set of data recorded as outcome from flipping a coin a 100 times, would follow a normal distribution and may have unknown variances. T test is used as a hypothesis testing tool, which allows testing of an assumption applicable to a population.\n",
        "T-test has 2 types : \n",
        "- one sampled t-test \n",
        "- two-sampled t-test.\n",
        "\n",
        "### 2.1 One sampled t-test \n",
        "\n",
        "Reference doc: https://docs.scipy.org/doc/scipy/reference/generated/scipy.stats.ttest_1samp.html\n",
        "\n",
        "\n",
        "\n",
        "One sample t-test : The One Sample t Test determines whether the sample mean is statistically different from a known or hypothesised population mean. The One Sample Test is a parametric test.\n",
        "\n",
        "Example :- you have 100 heights and you are checking whether avg age is 150 or not"
      ]
    },
    {
      "cell_type": "code",
      "execution_count": null,
      "metadata": {
        "colab": {
          "base_uri": "https://localhost:8080/"
        },
        "id": "44oYcrIb-doU",
        "outputId": "5b20791d-70a6-464c-d851-92603290febe"
      },
      "outputs": [
        {
          "output_type": "stream",
          "name": "stdout",
          "text": [
            "150.03227993729112\n",
            "0.5348807154351516\n",
            "we are accepting null hypothesis\n"
          ]
        }
      ],
      "source": [
        "# importing stats  library for scipy\n",
        "from scipy import stats\n",
        "\n",
        "# mean height\n",
        "height_mean = data.Height.mean()\n",
        "\n",
        "#print mean height\n",
        "print(height_mean)\n",
        "\n",
        "#use ttest_1samp on 100 sample of data\n",
        "\n",
        "tset, pval = stats.ttest_1samp(sampData.Height,150)\n",
        "\n",
        "#print P value\n",
        "print(pval)\n",
        "\n",
        "# Interpreting P value\n",
        "\n",
        "if pval <= 0.05:    # alpha value is 0.05 or 5%\n",
        "    print(\"we are rejecting null hypothesis\")\n",
        "else:\n",
        "    print(\"we are accepting null hypothesis\")\n"
      ]
    },
    {
      "cell_type": "markdown",
      "metadata": {
        "id": "2WbeO9ST-doW"
      },
      "source": [
        "Above you can see that p value is less than the alpha, hence we reject null hypothesis, that means average height is not 150.\n",
        "\n",
        "### 2.2 Two sampled T-test\n",
        "\n",
        "Reference doc:https://docs.scipy.org/doc/scipy/reference/generated/scipy.stats.ttest_ind.html\n",
        "\n",
        "\n",
        "\n",
        "\n",
        "The Independent Samples t Test or 2-sample t-test compares the means of two independent groups in order to determine whether there is statistical evidence that the associated population means are significantly different. The Independent Samples t Test is a parametric test. This test is also known as: Independent t Test.\n",
        "\n",
        "For this upload the Class_Age dataset from your canvas account"
      ]
    },
    {
      "cell_type": "code",
      "execution_count": null,
      "metadata": {
        "id": "JR4qPu8d-doW"
      },
      "outputs": [],
      "source": [
        "#read Class_Age.csv\n",
        "ClassAge= pd.read_csv('/content/Class_Age.csv')\n",
        "\n",
        "#get 100 sample of classA age with random state=1\n",
        "A= ClassAge.sample(n=100, random_state=1)\n",
        "\n",
        "#get 100 sample of classB age with random state=1\n",
        "\n",
        "B= ClassAge.sample(n=100, random_state=1)\n"
      ]
    },
    {
      "cell_type": "code",
      "source": [
        "A.head()"
      ],
      "metadata": {
        "colab": {
          "base_uri": "https://localhost:8080/",
          "height": 206
        },
        "id": "8yo4ZJb9dPMU",
        "outputId": "cbebf384-fd1a-4424-bef8-dde55dd834d1"
      },
      "execution_count": null,
      "outputs": [
        {
          "output_type": "execute_result",
          "data": {
            "text/plain": [
              "      Class_A_Age  Class_B_Age  Weight\n",
              "674            53           53     100\n",
              "1699           55           45      33\n",
              "1282           49           43      95\n",
              "1315           54           40      46\n",
              "1210           57           48      60"
            ],
            "text/html": [
              "\n",
              "  <div id=\"df-70301852-f7b2-4b1c-a0d3-6a4dd6fcbc90\">\n",
              "    <div class=\"colab-df-container\">\n",
              "      <div>\n",
              "<style scoped>\n",
              "    .dataframe tbody tr th:only-of-type {\n",
              "        vertical-align: middle;\n",
              "    }\n",
              "\n",
              "    .dataframe tbody tr th {\n",
              "        vertical-align: top;\n",
              "    }\n",
              "\n",
              "    .dataframe thead th {\n",
              "        text-align: right;\n",
              "    }\n",
              "</style>\n",
              "<table border=\"1\" class=\"dataframe\">\n",
              "  <thead>\n",
              "    <tr style=\"text-align: right;\">\n",
              "      <th></th>\n",
              "      <th>Class_A_Age</th>\n",
              "      <th>Class_B_Age</th>\n",
              "      <th>Weight</th>\n",
              "    </tr>\n",
              "  </thead>\n",
              "  <tbody>\n",
              "    <tr>\n",
              "      <th>674</th>\n",
              "      <td>53</td>\n",
              "      <td>53</td>\n",
              "      <td>100</td>\n",
              "    </tr>\n",
              "    <tr>\n",
              "      <th>1699</th>\n",
              "      <td>55</td>\n",
              "      <td>45</td>\n",
              "      <td>33</td>\n",
              "    </tr>\n",
              "    <tr>\n",
              "      <th>1282</th>\n",
              "      <td>49</td>\n",
              "      <td>43</td>\n",
              "      <td>95</td>\n",
              "    </tr>\n",
              "    <tr>\n",
              "      <th>1315</th>\n",
              "      <td>54</td>\n",
              "      <td>40</td>\n",
              "      <td>46</td>\n",
              "    </tr>\n",
              "    <tr>\n",
              "      <th>1210</th>\n",
              "      <td>57</td>\n",
              "      <td>48</td>\n",
              "      <td>60</td>\n",
              "    </tr>\n",
              "  </tbody>\n",
              "</table>\n",
              "</div>\n",
              "      <button class=\"colab-df-convert\" onclick=\"convertToInteractive('df-70301852-f7b2-4b1c-a0d3-6a4dd6fcbc90')\"\n",
              "              title=\"Convert this dataframe to an interactive table.\"\n",
              "              style=\"display:none;\">\n",
              "        \n",
              "  <svg xmlns=\"http://www.w3.org/2000/svg\" height=\"24px\"viewBox=\"0 0 24 24\"\n",
              "       width=\"24px\">\n",
              "    <path d=\"M0 0h24v24H0V0z\" fill=\"none\"/>\n",
              "    <path d=\"M18.56 5.44l.94 2.06.94-2.06 2.06-.94-2.06-.94-.94-2.06-.94 2.06-2.06.94zm-11 1L8.5 8.5l.94-2.06 2.06-.94-2.06-.94L8.5 2.5l-.94 2.06-2.06.94zm10 10l.94 2.06.94-2.06 2.06-.94-2.06-.94-.94-2.06-.94 2.06-2.06.94z\"/><path d=\"M17.41 7.96l-1.37-1.37c-.4-.4-.92-.59-1.43-.59-.52 0-1.04.2-1.43.59L10.3 9.45l-7.72 7.72c-.78.78-.78 2.05 0 2.83L4 21.41c.39.39.9.59 1.41.59.51 0 1.02-.2 1.41-.59l7.78-7.78 2.81-2.81c.8-.78.8-2.07 0-2.86zM5.41 20L4 18.59l7.72-7.72 1.47 1.35L5.41 20z\"/>\n",
              "  </svg>\n",
              "      </button>\n",
              "      \n",
              "  <style>\n",
              "    .colab-df-container {\n",
              "      display:flex;\n",
              "      flex-wrap:wrap;\n",
              "      gap: 12px;\n",
              "    }\n",
              "\n",
              "    .colab-df-convert {\n",
              "      background-color: #E8F0FE;\n",
              "      border: none;\n",
              "      border-radius: 50%;\n",
              "      cursor: pointer;\n",
              "      display: none;\n",
              "      fill: #1967D2;\n",
              "      height: 32px;\n",
              "      padding: 0 0 0 0;\n",
              "      width: 32px;\n",
              "    }\n",
              "\n",
              "    .colab-df-convert:hover {\n",
              "      background-color: #E2EBFA;\n",
              "      box-shadow: 0px 1px 2px rgba(60, 64, 67, 0.3), 0px 1px 3px 1px rgba(60, 64, 67, 0.15);\n",
              "      fill: #174EA6;\n",
              "    }\n",
              "\n",
              "    [theme=dark] .colab-df-convert {\n",
              "      background-color: #3B4455;\n",
              "      fill: #D2E3FC;\n",
              "    }\n",
              "\n",
              "    [theme=dark] .colab-df-convert:hover {\n",
              "      background-color: #434B5C;\n",
              "      box-shadow: 0px 1px 3px 1px rgba(0, 0, 0, 0.15);\n",
              "      filter: drop-shadow(0px 1px 2px rgba(0, 0, 0, 0.3));\n",
              "      fill: #FFFFFF;\n",
              "    }\n",
              "  </style>\n",
              "\n",
              "      <script>\n",
              "        const buttonEl =\n",
              "          document.querySelector('#df-70301852-f7b2-4b1c-a0d3-6a4dd6fcbc90 button.colab-df-convert');\n",
              "        buttonEl.style.display =\n",
              "          google.colab.kernel.accessAllowed ? 'block' : 'none';\n",
              "\n",
              "        async function convertToInteractive(key) {\n",
              "          const element = document.querySelector('#df-70301852-f7b2-4b1c-a0d3-6a4dd6fcbc90');\n",
              "          const dataTable =\n",
              "            await google.colab.kernel.invokeFunction('convertToInteractive',\n",
              "                                                     [key], {});\n",
              "          if (!dataTable) return;\n",
              "\n",
              "          const docLinkHtml = 'Like what you see? Visit the ' +\n",
              "            '<a target=\"_blank\" href=https://colab.research.google.com/notebooks/data_table.ipynb>data table notebook</a>'\n",
              "            + ' to learn more about interactive tables.';\n",
              "          element.innerHTML = '';\n",
              "          dataTable['output_type'] = 'display_data';\n",
              "          await google.colab.output.renderOutput(dataTable, element);\n",
              "          const docLink = document.createElement('div');\n",
              "          docLink.innerHTML = docLinkHtml;\n",
              "          element.appendChild(docLink);\n",
              "        }\n",
              "      </script>\n",
              "    </div>\n",
              "  </div>\n",
              "  "
            ]
          },
          "metadata": {},
          "execution_count": 18
        }
      ]
    },
    {
      "cell_type": "code",
      "execution_count": null,
      "metadata": {
        "colab": {
          "base_uri": "https://localhost:8080/"
        },
        "id": "jg4xDh8D-doX",
        "outputId": "2fe83a05-880d-4972-edae-bbfd03695182"
      },
      "outputs": [
        {
          "output_type": "stream",
          "name": "stdout",
          "text": [
            "Class A mean  53.44\n",
            "Class B meanc 47.34\n"
          ]
        }
      ],
      "source": [
        "# print mean of A\n",
        "print('Class A mean ', A.Class_A_Age.mean())\n",
        "\n",
        "# print mean of B\n",
        "print('Class B meanc', B.Class_B_Age.mean())\n",
        "\n"
      ]
    },
    {
      "cell_type": "code",
      "execution_count": null,
      "metadata": {
        "colab": {
          "base_uri": "https://localhost:8080/"
        },
        "id": "55kQpHBH-doX",
        "outputId": "bfe6b578-d3a2-4ec4-da58-ab993d114fd9"
      },
      "outputs": [
        {
          "output_type": "stream",
          "name": "stdout",
          "text": [
            "7.079754335746083e-12\n",
            " we are rejecting null hypothesis\n"
          ]
        }
      ],
      "source": [
        "# get p value using ttest_ind with equal_var=False\n",
        "_,p_value= stats.ttest_ind(A.Class_A_Age, B.Class_B_Age, equal_var=False)\n",
        "\n",
        "#print p values\n",
        "print(p_value)\n",
        "# Interpreting p value\n",
        "\n",
        "if p_value < 0.05:    # alpha value is 0.05 or 5%\n",
        "    print(\" we are rejecting null hypothesis\")\n",
        "else:\n",
        "    print(\"we are accepting null hypothesis\")"
      ]
    },
    {
      "cell_type": "markdown",
      "metadata": {
        "id": "ZohPctJc-doY"
      },
      "source": [
        "Above you can see that P_value has come less than  alpha( 0.05 ), so we are rejecting null hypothesis\n",
        "\n",
        "### 2.3 Paired sampled t-test\n",
        "\n",
        "\n",
        "\n",
        "The paired sample t-test is also called dependent sample t-test. It’s an uni variate test that tests for a significant difference between 2 related variables. An example of this is if you where to collect the blood pressure for an individual before and after some treatment, condition, or time point.\n",
        "- H0 :- means difference between two sample is 0\n",
        "- H1:- mean difference between two sample is not 0\n",
        "\n",
        "Let us tests for a significant difference between age of 2 Classes 'A' and 'B'"
      ]
    },
    {
      "cell_type": "code",
      "execution_count": null,
      "metadata": {
        "colab": {
          "base_uri": "https://localhost:8080/",
          "height": 300
        },
        "id": "J64s8efZ-doY",
        "outputId": "c1554405-c240-4701-9a14-3ec66eb9f009"
      },
      "outputs": [
        {
          "output_type": "execute_result",
          "data": {
            "text/plain": [
              "       Class_A_Age  Class_B_Age       Weight\n",
              "count  2000.000000  2000.000000  2000.000000\n",
              "mean     53.232500    48.183500    65.847500\n",
              "std       6.073622     5.454512    20.689497\n",
              "min      37.000000    32.000000    30.000000\n",
              "25%      49.000000    44.000000    48.000000\n",
              "50%      53.000000    48.000000    66.000000\n",
              "75%      57.000000    52.000000    85.000000\n",
              "max      79.000000    66.000000   100.000000"
            ],
            "text/html": [
              "\n",
              "  <div id=\"df-bc25c4f3-5758-4f7a-a270-2e1ee6f5a765\">\n",
              "    <div class=\"colab-df-container\">\n",
              "      <div>\n",
              "<style scoped>\n",
              "    .dataframe tbody tr th:only-of-type {\n",
              "        vertical-align: middle;\n",
              "    }\n",
              "\n",
              "    .dataframe tbody tr th {\n",
              "        vertical-align: top;\n",
              "    }\n",
              "\n",
              "    .dataframe thead th {\n",
              "        text-align: right;\n",
              "    }\n",
              "</style>\n",
              "<table border=\"1\" class=\"dataframe\">\n",
              "  <thead>\n",
              "    <tr style=\"text-align: right;\">\n",
              "      <th></th>\n",
              "      <th>Class_A_Age</th>\n",
              "      <th>Class_B_Age</th>\n",
              "      <th>Weight</th>\n",
              "    </tr>\n",
              "  </thead>\n",
              "  <tbody>\n",
              "    <tr>\n",
              "      <th>count</th>\n",
              "      <td>2000.000000</td>\n",
              "      <td>2000.000000</td>\n",
              "      <td>2000.000000</td>\n",
              "    </tr>\n",
              "    <tr>\n",
              "      <th>mean</th>\n",
              "      <td>53.232500</td>\n",
              "      <td>48.183500</td>\n",
              "      <td>65.847500</td>\n",
              "    </tr>\n",
              "    <tr>\n",
              "      <th>std</th>\n",
              "      <td>6.073622</td>\n",
              "      <td>5.454512</td>\n",
              "      <td>20.689497</td>\n",
              "    </tr>\n",
              "    <tr>\n",
              "      <th>min</th>\n",
              "      <td>37.000000</td>\n",
              "      <td>32.000000</td>\n",
              "      <td>30.000000</td>\n",
              "    </tr>\n",
              "    <tr>\n",
              "      <th>25%</th>\n",
              "      <td>49.000000</td>\n",
              "      <td>44.000000</td>\n",
              "      <td>48.000000</td>\n",
              "    </tr>\n",
              "    <tr>\n",
              "      <th>50%</th>\n",
              "      <td>53.000000</td>\n",
              "      <td>48.000000</td>\n",
              "      <td>66.000000</td>\n",
              "    </tr>\n",
              "    <tr>\n",
              "      <th>75%</th>\n",
              "      <td>57.000000</td>\n",
              "      <td>52.000000</td>\n",
              "      <td>85.000000</td>\n",
              "    </tr>\n",
              "    <tr>\n",
              "      <th>max</th>\n",
              "      <td>79.000000</td>\n",
              "      <td>66.000000</td>\n",
              "      <td>100.000000</td>\n",
              "    </tr>\n",
              "  </tbody>\n",
              "</table>\n",
              "</div>\n",
              "      <button class=\"colab-df-convert\" onclick=\"convertToInteractive('df-bc25c4f3-5758-4f7a-a270-2e1ee6f5a765')\"\n",
              "              title=\"Convert this dataframe to an interactive table.\"\n",
              "              style=\"display:none;\">\n",
              "        \n",
              "  <svg xmlns=\"http://www.w3.org/2000/svg\" height=\"24px\"viewBox=\"0 0 24 24\"\n",
              "       width=\"24px\">\n",
              "    <path d=\"M0 0h24v24H0V0z\" fill=\"none\"/>\n",
              "    <path d=\"M18.56 5.44l.94 2.06.94-2.06 2.06-.94-2.06-.94-.94-2.06-.94 2.06-2.06.94zm-11 1L8.5 8.5l.94-2.06 2.06-.94-2.06-.94L8.5 2.5l-.94 2.06-2.06.94zm10 10l.94 2.06.94-2.06 2.06-.94-2.06-.94-.94-2.06-.94 2.06-2.06.94z\"/><path d=\"M17.41 7.96l-1.37-1.37c-.4-.4-.92-.59-1.43-.59-.52 0-1.04.2-1.43.59L10.3 9.45l-7.72 7.72c-.78.78-.78 2.05 0 2.83L4 21.41c.39.39.9.59 1.41.59.51 0 1.02-.2 1.41-.59l7.78-7.78 2.81-2.81c.8-.78.8-2.07 0-2.86zM5.41 20L4 18.59l7.72-7.72 1.47 1.35L5.41 20z\"/>\n",
              "  </svg>\n",
              "      </button>\n",
              "      \n",
              "  <style>\n",
              "    .colab-df-container {\n",
              "      display:flex;\n",
              "      flex-wrap:wrap;\n",
              "      gap: 12px;\n",
              "    }\n",
              "\n",
              "    .colab-df-convert {\n",
              "      background-color: #E8F0FE;\n",
              "      border: none;\n",
              "      border-radius: 50%;\n",
              "      cursor: pointer;\n",
              "      display: none;\n",
              "      fill: #1967D2;\n",
              "      height: 32px;\n",
              "      padding: 0 0 0 0;\n",
              "      width: 32px;\n",
              "    }\n",
              "\n",
              "    .colab-df-convert:hover {\n",
              "      background-color: #E2EBFA;\n",
              "      box-shadow: 0px 1px 2px rgba(60, 64, 67, 0.3), 0px 1px 3px 1px rgba(60, 64, 67, 0.15);\n",
              "      fill: #174EA6;\n",
              "    }\n",
              "\n",
              "    [theme=dark] .colab-df-convert {\n",
              "      background-color: #3B4455;\n",
              "      fill: #D2E3FC;\n",
              "    }\n",
              "\n",
              "    [theme=dark] .colab-df-convert:hover {\n",
              "      background-color: #434B5C;\n",
              "      box-shadow: 0px 1px 3px 1px rgba(0, 0, 0, 0.15);\n",
              "      filter: drop-shadow(0px 1px 2px rgba(0, 0, 0, 0.3));\n",
              "      fill: #FFFFFF;\n",
              "    }\n",
              "  </style>\n",
              "\n",
              "      <script>\n",
              "        const buttonEl =\n",
              "          document.querySelector('#df-bc25c4f3-5758-4f7a-a270-2e1ee6f5a765 button.colab-df-convert');\n",
              "        buttonEl.style.display =\n",
              "          google.colab.kernel.accessAllowed ? 'block' : 'none';\n",
              "\n",
              "        async function convertToInteractive(key) {\n",
              "          const element = document.querySelector('#df-bc25c4f3-5758-4f7a-a270-2e1ee6f5a765');\n",
              "          const dataTable =\n",
              "            await google.colab.kernel.invokeFunction('convertToInteractive',\n",
              "                                                     [key], {});\n",
              "          if (!dataTable) return;\n",
              "\n",
              "          const docLinkHtml = 'Like what you see? Visit the ' +\n",
              "            '<a target=\"_blank\" href=https://colab.research.google.com/notebooks/data_table.ipynb>data table notebook</a>'\n",
              "            + ' to learn more about interactive tables.';\n",
              "          element.innerHTML = '';\n",
              "          dataTable['output_type'] = 'display_data';\n",
              "          await google.colab.output.renderOutput(dataTable, element);\n",
              "          const docLink = document.createElement('div');\n",
              "          docLink.innerHTML = docLinkHtml;\n",
              "          element.appendChild(docLink);\n",
              "        }\n",
              "      </script>\n",
              "    </div>\n",
              "  </div>\n",
              "  "
            ]
          },
          "metadata": {},
          "execution_count": 22
        }
      ],
      "source": [
        "# describe Class A age and Class B age\n",
        "ClassAge.describe()\n"
      ]
    },
    {
      "cell_type": "markdown",
      "metadata": {
        "id": "mgfx0F-y-dob"
      },
      "source": [
        "Above you can see that there is some difference between 2 classes. Lets test it using hypothesis testing \n",
        "\n",
        "Reference: https://docs.scipy.org/doc/scipy/reference/generated/scipy.stats.ttest_rel.html"
      ]
    },
    {
      "cell_type": "code",
      "execution_count": null,
      "metadata": {
        "colab": {
          "base_uri": "https://localhost:8080/"
        },
        "id": "vNgrfkWs-dob",
        "outputId": "6bbcd716-01da-482a-ddee-1741b9dec1f2"
      },
      "outputs": [
        {
          "output_type": "stream",
          "name": "stdout",
          "text": [
            "1.2611707983130121e-10\n",
            "reject null hypothesis\n"
          ]
        }
      ],
      "source": [
        "# importing stats  library for scipy\n",
        "\n",
        "# Apply ttest_rel on A and B\n",
        "ttest,pval = stats.ttest_rel(A.Class_A_Age, B.Class_B_Age)\n",
        "\n",
        "# print p value\n",
        "print(pval)\n",
        "# Interpreting P values\n",
        "\n",
        "if pval<0.05:\n",
        "    print(\"reject null hypothesis\")\n",
        "else:\n",
        "    print(\"accept null hypothesis\")"
      ]
    },
    {
      "cell_type": "markdown",
      "metadata": {
        "id": "RLpq7NRk-doc"
      },
      "source": [
        "## 3. Z Test\n",
        "\n",
        "Reference artical: https://www.geeksforgeeks.org/z-test/\n",
        "\n",
        "You would use a Z test if:\n",
        "\n",
        "- Your sample size is greater than 30. Otherwise, use a t test.\n",
        "- Data points should be independent from each other. In other words, one data point isn’t related or doesn’t affect another data point.\n",
        "- Your data should be normally distributed. However, for large sample sizes (over 30) this doesn’t always matter.\n",
        "- Your data should be randomly selected from a population, where each item has an equal chance of being selected.\n",
        "- Sample sizes should be equal if at all possible.\n",
        "\n",
        "This is also of two type:\n",
        "- One-sample Z test- The One Sample t Test determines whether the sample mean is statistically different from a known or hypothesised population mean\n",
        "- Two-sample Z test- In two sample z-test , similar to t-test here we are checking two independent data groups and deciding whether sample mean of two group is equal or not.\n",
        "\n",
        "\n",
        "#### 3.1 One-sample Z test\n",
        "\n",
        "Earlier in Statistical method you have calculated Z value using the formula: \n",
        "\n",
        "$$z= \\frac{\\bar{x}-\\mu}{\\frac{\\sigma}{\\sqrt n}}$$\n",
        "\n",
        "Now we will be doing the same thing using scipy library to do one sample Z test to check if mean value in  data['Height'] is 150 or not\n",
        "\n",
        "reference doc: https://www.statsmodels.org/dev/generated/statsmodels.stats.weightstats.ztest.html "
      ]
    },
    {
      "cell_type": "code",
      "execution_count": null,
      "metadata": {
        "colab": {
          "base_uri": "https://localhost:8080/"
        },
        "id": "dYmDJTt8-doo",
        "outputId": "89751a01-7bcb-42c4-9edb-bd9b34123ad0"
      },
      "outputs": [
        {
          "output_type": "stream",
          "name": "stdout",
          "text": [
            "0.0\n",
            "reject null hypothesis\n"
          ]
        }
      ],
      "source": [
        "# importing weightstats as stests\n",
        "from statsmodels.stats import weightstats as stests\n",
        "\n",
        "# get ztest score and p value using ztest where x2=None and value =100\n",
        "ztest ,pval = stests.ztest(data['Height'], x2=None, value=100)\n",
        "\n",
        "#print(p value)\n",
        "print(pval)\n",
        "\n",
        "#Interpreting P value\n",
        "if pval<0.05:\n",
        "    print(\"reject null hypothesis\")\n",
        "else:\n",
        "    print(\"accept null hypothesis\")\n"
      ]
    },
    {
      "cell_type": "markdown",
      "metadata": {
        "id": "r_S5K74i-dop"
      },
      "source": [
        "#### 3.2 Two-sample Z test\n",
        "In two sample z-test , similar to t-test here we are checking two independent data groups and deciding whether sample mean of two group is equal or not.\n",
        "- H0 : mean of two group is 0\n",
        "- H1 : mean of two group is not 0\n",
        "\n",
        "\n",
        "Let us check if A and B group are having same average age or not"
      ]
    },
    {
      "cell_type": "code",
      "execution_count": null,
      "metadata": {
        "colab": {
          "base_uri": "https://localhost:8080/"
        },
        "id": "A8NIltFd-do7",
        "outputId": "0b5bcbde-72fc-4d99-e6c8-ac46a87e96e2"
      },
      "outputs": [
        {
          "output_type": "stream",
          "name": "stdout",
          "text": [
            "2.9503043378322366e-13\n",
            "reject null hypothesis\n"
          ]
        }
      ],
      "source": [
        "# get ztest score and p value using ztest where x2=B and alternative =two-sided\n",
        "ztest ,pval1 = stests.ztest(A.Class_A_Age, x2=B.Class_B_Age, alternative='two-sided')\n",
        "\n",
        "#printing P value\n",
        "print(pval1)\n",
        "\n",
        "# Interpreting P value\n",
        "if pval<0.05:\n",
        "    print(\"reject null hypothesis\")\n",
        "else:\n",
        "    print(\"accept null hypothesis\")"
      ]
    },
    {
      "cell_type": "markdown",
      "metadata": {
        "id": "vIzoK5ci-do8"
      },
      "source": [
        "### 4. ANOVA (F-TEST) \n",
        "\n",
        "\n",
        "\n",
        "The t-test works well when dealing with two groups, but sometimes we want to compare more than two groups at the same time. For example, if we wanted to test whether voter age differs based on some categorical variable like race, we have to compare the means of each level or group the variable. We could carry out a separate t-test for each pair of groups, but when you conduct many tests you increase the chances of false positives. The analysis of variance or ANOVA is a statistical inference test that lets you compare multiple groups at the same time.\n",
        "\n",
        "F = Between group variability / Within group variability\n",
        "\n",
        "\n",
        "\n",
        "\n",
        "Unlike the z and t-distributions, the F-distribution does not have any negative values because between and within-group variability are always positive due to squaring each deviation.\n",
        "\n",
        "\n",
        "Assumptions\n",
        "\n",
        "- Observations in each sample are independent and identically distributed (iid).\n",
        "- Observations in each sample are normally distributed.\n",
        "- Observations in each sample have the same variance.\n",
        "\n",
        "Interpretation\n",
        "\n",
        "- H0: the means of the samples are equal.\n",
        "- H1: one or more of the means of the samples are unequal.\n",
        "\n",
        "\n",
        "F-test has two types:-\n",
        "- One Way F-test\n",
        "- Two Way F-test\n",
        "\n",
        "\n",
        "#### 4.1 One Way F-test(Anova)\n",
        "\n",
        "It tells whether two or more groups are similar or not based on their mean similarity and f-score.\n",
        "\n",
        "\n",
        "Let's check in ClassAge if age of Class A, B and  average weight have some similarities \n"
      ]
    },
    {
      "cell_type": "code",
      "execution_count": null,
      "metadata": {
        "id": "TDYIyd-P-dpA"
      },
      "outputs": [],
      "source": [
        "#get 100 sample of weight with random state=1\n",
        "\n",
        "Weight= ClassAge.Weight.sample(n=100, random_state=1)"
      ]
    },
    {
      "cell_type": "code",
      "execution_count": null,
      "metadata": {
        "colab": {
          "base_uri": "https://localhost:8080/"
        },
        "id": "ymkLeqPT-dpB",
        "outputId": "8b817457-a594-4fcc-d9c4-23f0916c561e"
      },
      "outputs": [
        {
          "output_type": "stream",
          "name": "stdout",
          "text": [
            "stat =  53.25517071741679\n",
            "p =  1.717569380212988e-20\n",
            "Probably different distributions\n"
          ]
        }
      ],
      "source": [
        "from scipy.stats import f_oneway\n",
        "# get statistical test value and p value using f_oneway() function, passing A, B and Weight\n",
        "stat, p = f_oneway(A.Class_A_Age,B.Class_B_Age, Weight)\n",
        "\n",
        "#print stat and p\n",
        "print('stat = ',stat)\n",
        "print('p = ', p)\n",
        "# Interpreting P value\n",
        "if p > 0.05:\n",
        "    print('Probably the same distribution')\n",
        "else:\n",
        "    print('Probably different distributions')"
      ]
    },
    {
      "cell_type": "markdown",
      "metadata": {
        "id": "3sjtrDUv-dpE"
      },
      "source": [
        "#### 4.1 Two Way F-test(Anova)\n",
        "\n",
        "Two way F-test is extension of 1-way f-test, it is used when we have 2 independent variable and 2+ groups. 2-way F-test does not tell which variable is dominant. if we need to check individual significance then Post-hoc testing need to be performed.\n",
        "\n",
        "we’ll perform the two-way ANOVA using the anova_lm() function from the statsmodels library:\n",
        "\n",
        "First, we’ll create a pandas DataFrame that contains the following three variables:\n",
        "\n",
        "- **water:** how frequently each plant was watered: daily or weekly\n",
        "- **sun:** how much sunlight exposure each plant received: low, medium, or high\n",
        "- **height:** the height of each plant (in inches) after two months"
      ]
    },
    {
      "cell_type": "code",
      "execution_count": null,
      "metadata": {
        "id": "ERTWGwvW-dpG"
      },
      "outputs": [],
      "source": [
        "# We are creating a dataframe for out test analysis \n",
        "df = pd.DataFrame({'water': np.repeat(['daily', 'weekly'], 15),\n",
        "                   'sun': np.tile(np.repeat(['low', 'med', 'high'], 5), 2),\n",
        "                   'height': [6, 6, 6, 5, 6, 5, 5, 6, 4, 5,\n",
        "                              6, 6, 7, 8, 7, 3, 4, 4, 4, 5,\n",
        "                              4, 4, 4, 4, 4, 5, 6, 6, 7, 8]})"
      ]
    },
    {
      "cell_type": "markdown",
      "metadata": {
        "id": "C4sC-5GU-dpH"
      },
      "source": [
        "A two-way ANOVA will allow you to see which of these two factors, water and sun, have a significant effect on height of the plant."
      ]
    },
    {
      "cell_type": "code",
      "execution_count": null,
      "metadata": {
        "colab": {
          "base_uri": "https://localhost:8080/",
          "height": 175
        },
        "id": "aQD4PBmG-dpI",
        "outputId": "0e7d7172-1a9c-4545-d8a2-75d4ab9bca33"
      },
      "outputs": [
        {
          "output_type": "execute_result",
          "data": {
            "text/plain": [
              "                    sum_sq    df        F    PR(>F)\n",
              "C(water)          8.533333   1.0  16.0000  0.000527\n",
              "C(sun)           24.866667   2.0  23.3125  0.000002\n",
              "C(water):C(sun)   2.466667   2.0   2.3125  0.120667\n",
              "Residual         12.800000  24.0      NaN       NaN"
            ],
            "text/html": [
              "\n",
              "  <div id=\"df-e4a2f954-c4fb-4b33-b504-7de9447e5edd\">\n",
              "    <div class=\"colab-df-container\">\n",
              "      <div>\n",
              "<style scoped>\n",
              "    .dataframe tbody tr th:only-of-type {\n",
              "        vertical-align: middle;\n",
              "    }\n",
              "\n",
              "    .dataframe tbody tr th {\n",
              "        vertical-align: top;\n",
              "    }\n",
              "\n",
              "    .dataframe thead th {\n",
              "        text-align: right;\n",
              "    }\n",
              "</style>\n",
              "<table border=\"1\" class=\"dataframe\">\n",
              "  <thead>\n",
              "    <tr style=\"text-align: right;\">\n",
              "      <th></th>\n",
              "      <th>sum_sq</th>\n",
              "      <th>df</th>\n",
              "      <th>F</th>\n",
              "      <th>PR(&gt;F)</th>\n",
              "    </tr>\n",
              "  </thead>\n",
              "  <tbody>\n",
              "    <tr>\n",
              "      <th>C(water)</th>\n",
              "      <td>8.533333</td>\n",
              "      <td>1.0</td>\n",
              "      <td>16.0000</td>\n",
              "      <td>0.000527</td>\n",
              "    </tr>\n",
              "    <tr>\n",
              "      <th>C(sun)</th>\n",
              "      <td>24.866667</td>\n",
              "      <td>2.0</td>\n",
              "      <td>23.3125</td>\n",
              "      <td>0.000002</td>\n",
              "    </tr>\n",
              "    <tr>\n",
              "      <th>C(water):C(sun)</th>\n",
              "      <td>2.466667</td>\n",
              "      <td>2.0</td>\n",
              "      <td>2.3125</td>\n",
              "      <td>0.120667</td>\n",
              "    </tr>\n",
              "    <tr>\n",
              "      <th>Residual</th>\n",
              "      <td>12.800000</td>\n",
              "      <td>24.0</td>\n",
              "      <td>NaN</td>\n",
              "      <td>NaN</td>\n",
              "    </tr>\n",
              "  </tbody>\n",
              "</table>\n",
              "</div>\n",
              "      <button class=\"colab-df-convert\" onclick=\"convertToInteractive('df-e4a2f954-c4fb-4b33-b504-7de9447e5edd')\"\n",
              "              title=\"Convert this dataframe to an interactive table.\"\n",
              "              style=\"display:none;\">\n",
              "        \n",
              "  <svg xmlns=\"http://www.w3.org/2000/svg\" height=\"24px\"viewBox=\"0 0 24 24\"\n",
              "       width=\"24px\">\n",
              "    <path d=\"M0 0h24v24H0V0z\" fill=\"none\"/>\n",
              "    <path d=\"M18.56 5.44l.94 2.06.94-2.06 2.06-.94-2.06-.94-.94-2.06-.94 2.06-2.06.94zm-11 1L8.5 8.5l.94-2.06 2.06-.94-2.06-.94L8.5 2.5l-.94 2.06-2.06.94zm10 10l.94 2.06.94-2.06 2.06-.94-2.06-.94-.94-2.06-.94 2.06-2.06.94z\"/><path d=\"M17.41 7.96l-1.37-1.37c-.4-.4-.92-.59-1.43-.59-.52 0-1.04.2-1.43.59L10.3 9.45l-7.72 7.72c-.78.78-.78 2.05 0 2.83L4 21.41c.39.39.9.59 1.41.59.51 0 1.02-.2 1.41-.59l7.78-7.78 2.81-2.81c.8-.78.8-2.07 0-2.86zM5.41 20L4 18.59l7.72-7.72 1.47 1.35L5.41 20z\"/>\n",
              "  </svg>\n",
              "      </button>\n",
              "      \n",
              "  <style>\n",
              "    .colab-df-container {\n",
              "      display:flex;\n",
              "      flex-wrap:wrap;\n",
              "      gap: 12px;\n",
              "    }\n",
              "\n",
              "    .colab-df-convert {\n",
              "      background-color: #E8F0FE;\n",
              "      border: none;\n",
              "      border-radius: 50%;\n",
              "      cursor: pointer;\n",
              "      display: none;\n",
              "      fill: #1967D2;\n",
              "      height: 32px;\n",
              "      padding: 0 0 0 0;\n",
              "      width: 32px;\n",
              "    }\n",
              "\n",
              "    .colab-df-convert:hover {\n",
              "      background-color: #E2EBFA;\n",
              "      box-shadow: 0px 1px 2px rgba(60, 64, 67, 0.3), 0px 1px 3px 1px rgba(60, 64, 67, 0.15);\n",
              "      fill: #174EA6;\n",
              "    }\n",
              "\n",
              "    [theme=dark] .colab-df-convert {\n",
              "      background-color: #3B4455;\n",
              "      fill: #D2E3FC;\n",
              "    }\n",
              "\n",
              "    [theme=dark] .colab-df-convert:hover {\n",
              "      background-color: #434B5C;\n",
              "      box-shadow: 0px 1px 3px 1px rgba(0, 0, 0, 0.15);\n",
              "      filter: drop-shadow(0px 1px 2px rgba(0, 0, 0, 0.3));\n",
              "      fill: #FFFFFF;\n",
              "    }\n",
              "  </style>\n",
              "\n",
              "      <script>\n",
              "        const buttonEl =\n",
              "          document.querySelector('#df-e4a2f954-c4fb-4b33-b504-7de9447e5edd button.colab-df-convert');\n",
              "        buttonEl.style.display =\n",
              "          google.colab.kernel.accessAllowed ? 'block' : 'none';\n",
              "\n",
              "        async function convertToInteractive(key) {\n",
              "          const element = document.querySelector('#df-e4a2f954-c4fb-4b33-b504-7de9447e5edd');\n",
              "          const dataTable =\n",
              "            await google.colab.kernel.invokeFunction('convertToInteractive',\n",
              "                                                     [key], {});\n",
              "          if (!dataTable) return;\n",
              "\n",
              "          const docLinkHtml = 'Like what you see? Visit the ' +\n",
              "            '<a target=\"_blank\" href=https://colab.research.google.com/notebooks/data_table.ipynb>data table notebook</a>'\n",
              "            + ' to learn more about interactive tables.';\n",
              "          element.innerHTML = '';\n",
              "          dataTable['output_type'] = 'display_data';\n",
              "          await google.colab.output.renderOutput(dataTable, element);\n",
              "          const docLink = document.createElement('div');\n",
              "          docLink.innerHTML = docLinkHtml;\n",
              "          element.appendChild(docLink);\n",
              "        }\n",
              "      </script>\n",
              "    </div>\n",
              "  </div>\n",
              "  "
            ]
          },
          "metadata": {},
          "execution_count": 44
        }
      ],
      "source": [
        "# import statsmodels and ols\n",
        "import statsmodels.api as sm \n",
        "from statsmodels.formula.api import ols\n",
        "\n",
        "\n",
        "#perform two-way ANOVA by passing 'height ~ C(water) + C(sun) + C(water):C(sun)' in ols and fitting it\n",
        "model = ols('height ~ C(water) + C(sun) + C(water):C(sun)', data=df).fit()\n",
        "\n",
        "#using above model in sm.stats.anova_lm() function with typ=2\n",
        "aov = sm.stats.anova_lm(model, typ=2)\n",
        "aov"
      ]
    },
    {
      "cell_type": "markdown",
      "metadata": {
        "id": "6aL8grzg-dpI"
      },
      "source": [
        "Step 3: Interpret the results.\n",
        "\n",
        "We can see the following p-values for each of the factors in the table:\n",
        "\n",
        "- water: p-value = .000527\n",
        "- sun: p-value = .0000002\n",
        "- water*sun: p-value = .120667\n",
        "\n",
        "Since the p-values for water and sun are both less than .05, this means that both factors have a statistically significant effect on plant height.\n",
        "\n",
        "And since the p-value for the interaction effect (.120667) is not less than .05, this tells us that there is no significant interaction effect between sunlight exposure and watering frequency.\n",
        "\n",
        "Test ANOVA assumptions\n",
        "\n",
        "##### 1. INDEPENDENCE\n",
        "This assumption is tested when the study is designed. What this means is that all groups are mutually exclusive, i.e. an individual can only belong in one group. Also, this means that the data is not repeated measures (not collected through time). In this example, this condition is met.\n",
        "\n",
        "##### 2. NORMALITY\n",
        "The assumption of normality is tested on the residuals of the model when coming from an ANOVA or regression framework. One method for testing the assumption of normality is the Shapiro-Wilk test. This can be completed using the shapiro() method from scipy.stats. Ensure that scipy.stats is imported for the following method to work. Unfortunately the output is not labelled, but it's (W-test statistic, p-value).\n",
        "\n",
        "Reference doc: https://docs.scipy.org/doc/scipy/reference/generated/scipy.stats.shapiro.html"
      ]
    },
    {
      "cell_type": "code",
      "execution_count": null,
      "metadata": {
        "colab": {
          "base_uri": "https://localhost:8080/"
        },
        "id": "apUdIKmK-dpJ",
        "outputId": "d7da80a5-f047-4656-f1d3-9ba5a766b9c0"
      },
      "outputs": [
        {
          "output_type": "stream",
          "name": "stdout",
          "text": [
            "0.0372101329267025\n",
            "Sample does not look Gaussian (reject H0)\n"
          ]
        }
      ],
      "source": [
        "# import scipy.stats\n",
        "from scipy import stats\n",
        "\n",
        "# Using model residual value in shapiro() function \n",
        "stat, Pval= stats.shapiro(model.resid)\n",
        "\n",
        "# print Pval\n",
        "print(Pval)\n",
        "\n",
        "# Interpreting Pval on alpha 0.05\n",
        "alpha = 0.05\n",
        "if Pval > alpha:\n",
        "    print('Sample looks Gaussian (fail to reject H0)')\n",
        "else:\n",
        "    print('Sample does not look Gaussian (reject H0)')"
      ]
    },
    {
      "cell_type": "markdown",
      "metadata": {
        "id": "2who5BM--dpL"
      },
      "source": [
        "The test is non-significant, W= 0.925, p= 0.0372, which indicates that the residuals are not normally distributed.\n",
        "\n",
        "Another way to test the assumption is through a visual check- this is helpful when the sample is large. The reason this is true is that as the sample size increases, the statistical test's ability to reject the null hypothesis increases, i.e. it gains power to detect smaller differences as the sample size n increases.\n",
        "\n",
        "One method of visually checking the distribution is to use a probability plot with or without the correlation value, \n",
        ", to assess the observed values correlation with the theoretical distribution in question - in the current case it would not be the Gaussian (a.k.a not normal) distribution. This can be completed by using the probplot() method from Scipy.stats. If using the \n",
        " measure, one can refer to the NIST/SEMATECH e-handbook of statistical methods to see if the value is significant.\n",
        " \n",
        " Reference doc: https://docs.scipy.org/doc/scipy/reference/generated/scipy.stats.probplot.html"
      ]
    },
    {
      "cell_type": "code",
      "execution_count": null,
      "metadata": {
        "colab": {
          "base_uri": "https://localhost:8080/",
          "height": 350
        },
        "id": "mdKpAP4W-dpX",
        "outputId": "9627ce83-d00b-44bb-e467-a31e56681fe7"
      },
      "outputs": [
        {
          "output_type": "display_data",
          "data": {
            "text/plain": [
              "<Figure size 360x360 with 1 Axes>"
            ],
            "image/png": "[encoded data removed]"
          },
          "metadata": {
            "needs_background": "light"
          }
        }
      ],
      "source": [
        "fig = plt.figure(figsize= (5, 5))\n",
        "ax = fig.add_subplot(111)\n",
        "\n",
        "#Generate probability plot using probplot() passing model residuals  and rvalue=True\n",
        "\n",
        "normality_plot, stat= stats.probplot(model.resid,plot=plt,rvalue=True)\n",
        "ax.set_title(\"Probability plot of model residual's\")\n",
        "ax.set\n",
        "plt.show()\n"
      ]
    },
    {
      "cell_type": "markdown",
      "metadata": {
        "id": "jK4f7bjg-dpY"
      },
      "source": [
        "This is a case where the statistical testing method indicated the residuals were not normally distributed, and in the the probability plot correlation coefficient (PPCC) also indicated non-normality.\n",
        "\n",
        "###### 3. HOMOGENEITY OF VARIANCE\n",
        "\n",
        "The final assumption is that all groups have equal variances. One method for testing this assumption is the Levene's test or bartlett test  of homogeneity of variances. This can be completed using the levene() and  bartlett() method from Scipy.stats\n",
        "\n"
      ]
    },
    {
      "cell_type": "code",
      "execution_count": null,
      "metadata": {
        "colab": {
          "base_uri": "https://localhost:8080/"
        },
        "id": "3WjXtLOW-dpa",
        "outputId": "61ee7b43-e818-4292-e5b1-9fef04d45af9"
      },
      "outputs": [
        {
          "output_type": "execute_result",
          "data": {
            "text/plain": [
              "array(['daily', 'weekly'], dtype=object)"
            ]
          },
          "metadata": {},
          "execution_count": 56
        }
      ],
      "source": [
        "# print unique categories in water variable\n",
        "df.water.unique()\n"
      ]
    },
    {
      "cell_type": "markdown",
      "metadata": {
        "id": "htV00Ceu-dp4"
      },
      "source": [
        "Using pandas dataframe query fetch unique group values w.r.t height\n",
        "\n",
        "Reference doc: https://pandas.pydata.org/pandas-docs/stable/reference/api/pandas.DataFrame.query.html"
      ]
    },
    {
      "cell_type": "code",
      "source": [
        "df.head()"
      ],
      "metadata": {
        "colab": {
          "base_uri": "https://localhost:8080/",
          "height": 206
        },
        "id": "zc2ByzWDNhCF",
        "outputId": "5875c478-7248-483b-a39a-8984b4910059"
      },
      "execution_count": null,
      "outputs": [
        {
          "output_type": "execute_result",
          "data": {
            "text/plain": [
              "   water  sun  height\n",
              "0  daily  low       6\n",
              "1  daily  low       6\n",
              "2  daily  low       6\n",
              "3  daily  low       5\n",
              "4  daily  low       6"
            ],
            "text/html": [
              "\n",
              "  <div id=\"df-5352fb6f-c070-4eb4-b5bb-f892d6bab3d8\">\n",
              "    <div class=\"colab-df-container\">\n",
              "      <div>\n",
              "<style scoped>\n",
              "    .dataframe tbody tr th:only-of-type {\n",
              "        vertical-align: middle;\n",
              "    }\n",
              "\n",
              "    .dataframe tbody tr th {\n",
              "        vertical-align: top;\n",
              "    }\n",
              "\n",
              "    .dataframe thead th {\n",
              "        text-align: right;\n",
              "    }\n",
              "</style>\n",
              "<table border=\"1\" class=\"dataframe\">\n",
              "  <thead>\n",
              "    <tr style=\"text-align: right;\">\n",
              "      <th></th>\n",
              "      <th>water</th>\n",
              "      <th>sun</th>\n",
              "      <th>height</th>\n",
              "    </tr>\n",
              "  </thead>\n",
              "  <tbody>\n",
              "    <tr>\n",
              "      <th>0</th>\n",
              "      <td>daily</td>\n",
              "      <td>low</td>\n",
              "      <td>6</td>\n",
              "    </tr>\n",
              "    <tr>\n",
              "      <th>1</th>\n",
              "      <td>daily</td>\n",
              "      <td>low</td>\n",
              "      <td>6</td>\n",
              "    </tr>\n",
              "    <tr>\n",
              "      <th>2</th>\n",
              "      <td>daily</td>\n",
              "      <td>low</td>\n",
              "      <td>6</td>\n",
              "    </tr>\n",
              "    <tr>\n",
              "      <th>3</th>\n",
              "      <td>daily</td>\n",
              "      <td>low</td>\n",
              "      <td>5</td>\n",
              "    </tr>\n",
              "    <tr>\n",
              "      <th>4</th>\n",
              "      <td>daily</td>\n",
              "      <td>low</td>\n",
              "      <td>6</td>\n",
              "    </tr>\n",
              "  </tbody>\n",
              "</table>\n",
              "</div>\n",
              "      <button class=\"colab-df-convert\" onclick=\"convertToInteractive('df-5352fb6f-c070-4eb4-b5bb-f892d6bab3d8')\"\n",
              "              title=\"Convert this dataframe to an interactive table.\"\n",
              "              style=\"display:none;\">\n",
              "        \n",
              "  <svg xmlns=\"http://www.w3.org/2000/svg\" height=\"24px\"viewBox=\"0 0 24 24\"\n",
              "       width=\"24px\">\n",
              "    <path d=\"M0 0h24v24H0V0z\" fill=\"none\"/>\n",
              "    <path d=\"M18.56 5.44l.94 2.06.94-2.06 2.06-.94-2.06-.94-.94-2.06-.94 2.06-2.06.94zm-11 1L8.5 8.5l.94-2.06 2.06-.94-2.06-.94L8.5 2.5l-.94 2.06-2.06.94zm10 10l.94 2.06.94-2.06 2.06-.94-2.06-.94-.94-2.06-.94 2.06-2.06.94z\"/><path d=\"M17.41 7.96l-1.37-1.37c-.4-.4-.92-.59-1.43-.59-.52 0-1.04.2-1.43.59L10.3 9.45l-7.72 7.72c-.78.78-.78 2.05 0 2.83L4 21.41c.39.39.9.59 1.41.59.51 0 1.02-.2 1.41-.59l7.78-7.78 2.81-2.81c.8-.78.8-2.07 0-2.86zM5.41 20L4 18.59l7.72-7.72 1.47 1.35L5.41 20z\"/>\n",
              "  </svg>\n",
              "      </button>\n",
              "      \n",
              "  <style>\n",
              "    .colab-df-container {\n",
              "      display:flex;\n",
              "      flex-wrap:wrap;\n",
              "      gap: 12px;\n",
              "    }\n",
              "\n",
              "    .colab-df-convert {\n",
              "      background-color: #E8F0FE;\n",
              "      border: none;\n",
              "      border-radius: 50%;\n",
              "      cursor: pointer;\n",
              "      display: none;\n",
              "      fill: #1967D2;\n",
              "      height: 32px;\n",
              "      padding: 0 0 0 0;\n",
              "      width: 32px;\n",
              "    }\n",
              "\n",
              "    .colab-df-convert:hover {\n",
              "      background-color: #E2EBFA;\n",
              "      box-shadow: 0px 1px 2px rgba(60, 64, 67, 0.3), 0px 1px 3px 1px rgba(60, 64, 67, 0.15);\n",
              "      fill: #174EA6;\n",
              "    }\n",
              "\n",
              "    [theme=dark] .colab-df-convert {\n",
              "      background-color: #3B4455;\n",
              "      fill: #D2E3FC;\n",
              "    }\n",
              "\n",
              "    [theme=dark] .colab-df-convert:hover {\n",
              "      background-color: #434B5C;\n",
              "      box-shadow: 0px 1px 3px 1px rgba(0, 0, 0, 0.15);\n",
              "      filter: drop-shadow(0px 1px 2px rgba(0, 0, 0, 0.3));\n",
              "      fill: #FFFFFF;\n",
              "    }\n",
              "  </style>\n",
              "\n",
              "      <script>\n",
              "        const buttonEl =\n",
              "          document.querySelector('#df-5352fb6f-c070-4eb4-b5bb-f892d6bab3d8 button.colab-df-convert');\n",
              "        buttonEl.style.display =\n",
              "          google.colab.kernel.accessAllowed ? 'block' : 'none';\n",
              "\n",
              "        async function convertToInteractive(key) {\n",
              "          const element = document.querySelector('#df-5352fb6f-c070-4eb4-b5bb-f892d6bab3d8');\n",
              "          const dataTable =\n",
              "            await google.colab.kernel.invokeFunction('convertToInteractive',\n",
              "                                                     [key], {});\n",
              "          if (!dataTable) return;\n",
              "\n",
              "          const docLinkHtml = 'Like what you see? Visit the ' +\n",
              "            '<a target=\"_blank\" href=https://colab.research.google.com/notebooks/data_table.ipynb>data table notebook</a>'\n",
              "            + ' to learn more about interactive tables.';\n",
              "          element.innerHTML = '';\n",
              "          dataTable['output_type'] = 'display_data';\n",
              "          await google.colab.output.renderOutput(dataTable, element);\n",
              "          const docLink = document.createElement('div');\n",
              "          docLink.innerHTML = docLinkHtml;\n",
              "          element.appendChild(docLink);\n",
              "        }\n",
              "      </script>\n",
              "    </div>\n",
              "  </div>\n",
              "  "
            ]
          },
          "metadata": {},
          "execution_count": 59
        }
      ]
    },
    {
      "cell_type": "code",
      "execution_count": null,
      "metadata": {
        "colab": {
          "base_uri": "https://localhost:8080/"
        },
        "id": "E0pr2tog-dp5",
        "outputId": "349de3b8-d661-4324-b91a-a8462abd83b0"
      },
      "outputs": [
        {
          "output_type": "stream",
          "name": "stdout",
          "text": [
            "0    6\n",
            "1    6\n",
            "2    6\n",
            "3    5\n",
            "4    6\n",
            "Name: height, dtype: int64\n",
            "15    3\n",
            "16    4\n",
            "17    4\n",
            "18    4\n",
            "19    5\n",
            "Name: height, dtype: int64\n"
          ]
        }
      ],
      "source": [
        "# height values w.r.t daily water \n",
        "daily = df.query('water == \"daily\"')['height']\n",
        "\n",
        "# height values w.r.t weekly water \n",
        "\n",
        "weekly = df.query('water == \"weekly\"')['height']\n",
        "\n",
        "# print head of both daily and weekly\n",
        "print(daily.head())\n",
        "print(weekly.head())\n",
        "\n",
        "\n"
      ]
    },
    {
      "cell_type": "markdown",
      "metadata": {
        "id": "ykijKEos-dp5"
      },
      "source": [
        "Lets first apply bartlett() test of homogeneity of variances. \n",
        "\n",
        "Reference doc: https://docs.scipy.org/doc/scipy/reference/generated/scipy.stats.bartlett.html\n",
        "\n"
      ]
    },
    {
      "cell_type": "code",
      "execution_count": null,
      "metadata": {
        "colab": {
          "base_uri": "https://localhost:8080/"
        },
        "id": "qLw-c3Hg-dp6",
        "outputId": "9146080f-7c2d-4bc8-a595-82d024ffef21"
      },
      "outputs": [
        {
          "output_type": "stream",
          "name": "stdout",
          "text": [
            "1.418366158132635\n",
            "0.23367251269957975\n"
          ]
        }
      ],
      "source": [
        "\n",
        "# import scipy.stats\n",
        "import scipy.stats as stats\n",
        "\n",
        "#Get statistical test value and p value using bartlett\n",
        "\n",
        "stat, p = stats.bartlett(weekly, daily)\n",
        "\n",
        "\n",
        "#print stats and p \n",
        "print(stat)\n",
        "print(p)"
      ]
    },
    {
      "cell_type": "markdown",
      "metadata": {
        "id": "2baE-TE0-dp6"
      },
      "source": [
        "As mentioned in the documentation- https://docs.scipy.org/doc/scipy/reference/generated/scipy.stats.levene.html, there are actually three different variations of Levene’s test you can use. The recommended usages are as follows:\n",
        "\n",
        "- ‘median’: recommended for skewed distributions.\n",
        "- ‘mean’: recommended for symmetric, moderate-tailed distributions.\n",
        "- ‘trimmed’: recommended for heavy-tailed distributions.\n",
        "\n",
        "The following code illustrates how to perform Levene’s test using both the mean and the median as the center:"
      ]
    },
    {
      "cell_type": "code",
      "execution_count": null,
      "metadata": {
        "colab": {
          "base_uri": "https://localhost:8080/"
        },
        "id": "o-QXA-U1-dp7",
        "outputId": "2cd8df35-be5e-4e05-c974-ed4c526f2377"
      },
      "outputs": [
        {
          "output_type": "stream",
          "name": "stdout",
          "text": [
            "0.4933920704845817 0.4882169245490562\n"
          ]
        }
      ],
      "source": [
        "# import scipy.stats\n",
        "\n",
        "\n",
        "#Get statistical test value and  p value using levene() on daily and weekly with center as median\n",
        "stats, pval= stats.levene(daily, weekly, center='median')\n",
        "\n",
        "\n",
        "# print stats and p value\n",
        "print(stats, pval)"
      ]
    },
    {
      "cell_type": "markdown",
      "metadata": {
        "id": "R3mfBiAr-dp9"
      },
      "source": [
        "In both methods, the p-value is not less than .05. This means in both cases we would fail to reject the null hypothesis. This means we do not have sufficient evidence to say that the variance in height growth between the two water routine is significantly different.\n",
        "\n",
        "In other words, the two groups have equal variances. If we were to perform some statistical test (like a one-way ANOVA) that assumes each group has equal variance, then this assumption would be met.\n",
        "\n",
        "Similarly you can test for sun variable by grouping it into 3 groups, low, medium and high"
      ]
    },
    {
      "cell_type": "code",
      "execution_count": null,
      "metadata": {
        "colab": {
          "base_uri": "https://localhost:8080/"
        },
        "id": "IoSL151v-dp9",
        "outputId": "65044453-258b-4200-c9db-b32ac9ed5c55"
      },
      "outputs": [
        {
          "output_type": "execute_result",
          "data": {
            "text/plain": [
              "array(['low', 'med', 'high'], dtype=object)"
            ]
          },
          "metadata": {},
          "execution_count": 96
        }
      ],
      "source": [
        "# print unique values in sun variable\n",
        "df['sun'].unique()\n"
      ]
    },
    {
      "cell_type": "code",
      "execution_count": null,
      "metadata": {
        "colab": {
          "base_uri": "https://localhost:8080/"
        },
        "id": "H1Q_5la1-dp-",
        "outputId": "089bbfe2-3856-4fd8-bc39-50cec698d1a9"
      },
      "outputs": [
        {
          "output_type": "stream",
          "name": "stdout",
          "text": [
            "0    6\n",
            "1    6\n",
            "2    6\n",
            "3    5\n",
            "4    6\n",
            "Name: height, dtype: int64\n",
            "5    5\n",
            "6    5\n",
            "7    6\n",
            "8    4\n",
            "9    5\n",
            "Name: height, dtype: int64\n",
            "10    6\n",
            "11    6\n",
            "12    7\n",
            "13    8\n",
            "14    7\n",
            "Name: height, dtype: int64\n"
          ]
        }
      ],
      "source": [
        "# height values w.r.t low sunlight \n",
        "low = df.query('sun == \"low\"')['height']\n",
        "\n",
        "# height values w.r.t med sunlight \n",
        "med = df.query('sun == \"med\"')['height']\n",
        "\n",
        "# height values w.r.t high sunlight \n",
        "high = df.query('sun == \"high\"')['height']\n",
        "\n",
        "\n",
        "# print head of low, med and high\n",
        "print(low.head())\n",
        "print(med.head())\n",
        "print(high.head())\n"
      ]
    },
    {
      "cell_type": "code",
      "execution_count": null,
      "metadata": {
        "colab": {
          "base_uri": "https://localhost:8080/"
        },
        "id": "ui3OYDKu-dp-",
        "outputId": "f1a0be68-8618-4c86-fb0f-30c879e92ea7"
      },
      "outputs": [
        {
          "output_type": "stream",
          "name": "stdout",
          "text": [
            "0.4386840769749961 0.3077091129354536\n"
          ]
        }
      ],
      "source": [
        "# import scipy.stats\n",
        "import scipy.stats as stats\n",
        "# Get stats and p value using bartlett() passing low ,high and med\n",
        "stat1, p1 = stats.bartlett(low, high, med)\n",
        "\n",
        "# Get stats and p value using levene() passing low ,high and med and center as median\n",
        "\n",
        "stat2, p2= stats.levene(low, high, med, center ='median')\n",
        "\n",
        "#print p1 and p2\n",
        "\n",
        "print(p1,p2)"
      ]
    },
    {
      "cell_type": "markdown",
      "metadata": {
        "id": "nJ5soWS_-dp_"
      },
      "source": [
        "In above 2 p values form bartlett and levene methods three groups of sun have equal variances.\n",
        "\n",
        "Hence all the assumptions are satisfied for Anova test.\n",
        "\n",
        "\n",
        "## Chi-Square Test\n",
        "\n",
        "\n",
        "\n",
        "The test is applied when you have two categorical variables from a single population. It is used to determine whether there is a significant association between the two variables.\n",
        "\n",
        "We could use a chi-square test for independence to determine whether water variable is related to sun  variable\n",
        "\n",
        "#### contingency table\n",
        "Historically, a table summarization of two categorical variables in this form is called a contingency table.A Contingency table (also called crosstab) is used in statistics to summarise the relationship between several categorical variables. Here, we take a table that shows the number of men and women buying different types of pets.\n",
        "\n",
        "\n",
        "\n",
        "\n",
        "So first here lets create contingency table for 2 categorical variables sun and water using pandas crosstab function \n",
        "\n",
        "Reference doc: https://pandas.pydata.org/docs/reference/api/pandas.crosstab.html"
      ]
    },
    {
      "cell_type": "code",
      "execution_count": null,
      "metadata": {
        "colab": {
          "base_uri": "https://localhost:8080/",
          "height": 143
        },
        "id": "wnrWvLll-dqA",
        "outputId": "efa283f4-7418-44cc-c082-b67bdbadbdf2"
      },
      "outputs": [
        {
          "output_type": "execute_result",
          "data": {
            "text/plain": [
              "sun     high  low  med\n",
              "water                 \n",
              "daily      5    5    5\n",
              "weekly     5    5    5"
            ],
            "text/html": [
              "\n",
              "  <div id=\"df-9fb882ad-1169-4750-93d7-6a769634ce19\">\n",
              "    <div class=\"colab-df-container\">\n",
              "      <div>\n",
              "<style scoped>\n",
              "    .dataframe tbody tr th:only-of-type {\n",
              "        vertical-align: middle;\n",
              "    }\n",
              "\n",
              "    .dataframe tbody tr th {\n",
              "        vertical-align: top;\n",
              "    }\n",
              "\n",
              "    .dataframe thead th {\n",
              "        text-align: right;\n",
              "    }\n",
              "</style>\n",
              "<table border=\"1\" class=\"dataframe\">\n",
              "  <thead>\n",
              "    <tr style=\"text-align: right;\">\n",
              "      <th>sun</th>\n",
              "      <th>high</th>\n",
              "      <th>low</th>\n",
              "      <th>med</th>\n",
              "    </tr>\n",
              "    <tr>\n",
              "      <th>water</th>\n",
              "      <th></th>\n",
              "      <th></th>\n",
              "      <th></th>\n",
              "    </tr>\n",
              "  </thead>\n",
              "  <tbody>\n",
              "    <tr>\n",
              "      <th>daily</th>\n",
              "      <td>5</td>\n",
              "      <td>5</td>\n",
              "      <td>5</td>\n",
              "    </tr>\n",
              "    <tr>\n",
              "      <th>weekly</th>\n",
              "      <td>5</td>\n",
              "      <td>5</td>\n",
              "      <td>5</td>\n",
              "    </tr>\n",
              "  </tbody>\n",
              "</table>\n",
              "</div>\n",
              "      <button class=\"colab-df-convert\" onclick=\"convertToInteractive('df-9fb882ad-1169-4750-93d7-6a769634ce19')\"\n",
              "              title=\"Convert this dataframe to an interactive table.\"\n",
              "              style=\"display:none;\">\n",
              "        \n",
              "  <svg xmlns=\"http://www.w3.org/2000/svg\" height=\"24px\"viewBox=\"0 0 24 24\"\n",
              "       width=\"24px\">\n",
              "    <path d=\"M0 0h24v24H0V0z\" fill=\"none\"/>\n",
              "    <path d=\"M18.56 5.44l.94 2.06.94-2.06 2.06-.94-2.06-.94-.94-2.06-.94 2.06-2.06.94zm-11 1L8.5 8.5l.94-2.06 2.06-.94-2.06-.94L8.5 2.5l-.94 2.06-2.06.94zm10 10l.94 2.06.94-2.06 2.06-.94-2.06-.94-.94-2.06-.94 2.06-2.06.94z\"/><path d=\"M17.41 7.96l-1.37-1.37c-.4-.4-.92-.59-1.43-.59-.52 0-1.04.2-1.43.59L10.3 9.45l-7.72 7.72c-.78.78-.78 2.05 0 2.83L4 21.41c.39.39.9.59 1.41.59.51 0 1.02-.2 1.41-.59l7.78-7.78 2.81-2.81c.8-.78.8-2.07 0-2.86zM5.41 20L4 18.59l7.72-7.72 1.47 1.35L5.41 20z\"/>\n",
              "  </svg>\n",
              "      </button>\n",
              "      \n",
              "  <style>\n",
              "    .colab-df-container {\n",
              "      display:flex;\n",
              "      flex-wrap:wrap;\n",
              "      gap: 12px;\n",
              "    }\n",
              "\n",
              "    .colab-df-convert {\n",
              "      background-color: #E8F0FE;\n",
              "      border: none;\n",
              "      border-radius: 50%;\n",
              "      cursor: pointer;\n",
              "      display: none;\n",
              "      fill: #1967D2;\n",
              "      height: 32px;\n",
              "      padding: 0 0 0 0;\n",
              "      width: 32px;\n",
              "    }\n",
              "\n",
              "    .colab-df-convert:hover {\n",
              "      background-color: #E2EBFA;\n",
              "      box-shadow: 0px 1px 2px rgba(60, 64, 67, 0.3), 0px 1px 3px 1px rgba(60, 64, 67, 0.15);\n",
              "      fill: #174EA6;\n",
              "    }\n",
              "\n",
              "    [theme=dark] .colab-df-convert {\n",
              "      background-color: #3B4455;\n",
              "      fill: #D2E3FC;\n",
              "    }\n",
              "\n",
              "    [theme=dark] .colab-df-convert:hover {\n",
              "      background-color: #434B5C;\n",
              "      box-shadow: 0px 1px 3px 1px rgba(0, 0, 0, 0.15);\n",
              "      filter: drop-shadow(0px 1px 2px rgba(0, 0, 0, 0.3));\n",
              "      fill: #FFFFFF;\n",
              "    }\n",
              "  </style>\n",
              "\n",
              "      <script>\n",
              "        const buttonEl =\n",
              "          document.querySelector('#df-9fb882ad-1169-4750-93d7-6a769634ce19 button.colab-df-convert');\n",
              "        buttonEl.style.display =\n",
              "          google.colab.kernel.accessAllowed ? 'block' : 'none';\n",
              "\n",
              "        async function convertToInteractive(key) {\n",
              "          const element = document.querySelector('#df-9fb882ad-1169-4750-93d7-6a769634ce19');\n",
              "          const dataTable =\n",
              "            await google.colab.kernel.invokeFunction('convertToInteractive',\n",
              "                                                     [key], {});\n",
              "          if (!dataTable) return;\n",
              "\n",
              "          const docLinkHtml = 'Like what you see? Visit the ' +\n",
              "            '<a target=\"_blank\" href=https://colab.research.google.com/notebooks/data_table.ipynb>data table notebook</a>'\n",
              "            + ' to learn more about interactive tables.';\n",
              "          element.innerHTML = '';\n",
              "          dataTable['output_type'] = 'display_data';\n",
              "          await google.colab.output.renderOutput(dataTable, element);\n",
              "          const docLink = document.createElement('div');\n",
              "          docLink.innerHTML = docLinkHtml;\n",
              "          element.appendChild(docLink);\n",
              "        }\n",
              "      </script>\n",
              "    </div>\n",
              "  </div>\n",
              "  "
            ]
          },
          "metadata": {},
          "execution_count": 85
        }
      ],
      "source": [
        "from scipy.stats.contingency import crosstab\n",
        "# Generate contingency table using crosstab() function\n",
        "cont_table= pd.crosstab(df['water'],df['sun'])\n",
        " \n",
        "# Print cont_table\n",
        "cont_table"
      ]
    },
    {
      "cell_type": "markdown",
      "metadata": {
        "id": "ij8B5j1s-dqB"
      },
      "source": [
        "We can interpret the test statistic in the context of the chi-squared distribution with the requisite number of degress of freedom as follows:\n",
        "\n",
        "- If Statistic >= Critical Value: significant result, reject null hypothesis (H0), dependent.\n",
        "- If Statistic < Critical Value: not significant result, fail to reject null hypothesis (H0), independent.\n",
        "\n",
        "The degrees of freedom for the chi-squared distribution is calculated based on the size of the contingency table as: degrees of freedom: (rows - 1) * (cols - 1)\n",
        "\n",
        "In terms of a p-value and a chosen significance level (alpha), the test can be interpreted as follows:\n",
        "\n",
        "- If p-value <= alpha: significant result, reject null hypothesis (H0), dependent.\n",
        "- If p-value > alpha: not significant result, fail to reject null hypothesis (H0), independent.\n",
        "\n",
        "The Pearson’s chi-squared test for independence can be calculated in Python using the chi2_contingency() SciPy function.\n",
        "\n",
        "Reference doc: https://docs.scipy.org/doc/scipy/reference/generated/scipy.stats.chi2_contingency.html\n",
        "\n",
        "The function takes an array as input representing the contingency table for the two categorical variables. It returns the calculated statistic and p-value for interpretation as well as the calculated degrees of freedom and table of expected frequencies."
      ]
    },
    {
      "cell_type": "code",
      "execution_count": null,
      "metadata": {
        "id": "vtShDfIL-dqM"
      },
      "outputs": [],
      "source": [
        "#get statistical value, pvalue , degree of freedom and expected value using chi2_contingency(), passing cont_table\n",
        "\n",
        "stat, p, dof, expected = stats.chi2_contingency(cont_table)"
      ]
    },
    {
      "cell_type": "code",
      "source": [
        "print(dof)\n",
        "print(expected)"
      ],
      "metadata": {
        "colab": {
          "base_uri": "https://localhost:8080/"
        },
        "id": "hsPl7kupcyse",
        "outputId": "94ac4887-13ce-48cf-b2ad-57f5a2c7d9eb"
      },
      "execution_count": null,
      "outputs": [
        {
          "output_type": "stream",
          "name": "stdout",
          "text": [
            "2\n",
            "[[5. 5. 5.]\n",
            " [5. 5. 5.]]\n"
          ]
        }
      ]
    },
    {
      "cell_type": "code",
      "source": [
        "print(stat)\n",
        "print(p)"
      ],
      "metadata": {
        "colab": {
          "base_uri": "https://localhost:8080/"
        },
        "id": "ERO9v8KYcdJ3",
        "outputId": "8090aff2-0825-4a15-d777-0e1bea729c80"
      },
      "execution_count": null,
      "outputs": [
        {
          "output_type": "stream",
          "name": "stdout",
          "text": [
            "0.0\n",
            "1.0\n"
          ]
        }
      ]
    },
    {
      "cell_type": "markdown",
      "metadata": {
        "id": "gC4OsFjr-dqM"
      },
      "source": [
        "We can also interpret the p-value by comparing it to a chosen significance level, which would be 5%, calculated by inverting the 95% probability used in the critical value interpretation."
      ]
    },
    {
      "cell_type": "code",
      "execution_count": null,
      "metadata": {
        "colab": {
          "base_uri": "https://localhost:8080/"
        },
        "id": "BzNj3sg1-dqM",
        "outputId": "8e4406ef-8407-4e83-f436-a20b9f36b6b3"
      },
      "outputs": [
        {
          "output_type": "stream",
          "name": "stdout",
          "text": [
            "Independent (fail to reject H0)\n"
          ]
        }
      ],
      "source": [
        "#keep alpha value as 0.05\n",
        "alpha = 0.05\n",
        "\n",
        "# interpret p-value\n",
        "\n",
        "if p <= alpha:\n",
        "    print('Dependent (reject H0)')\n",
        "else:\n",
        "    print('Independent (fail to reject H0)')"
      ]
    },
    {
      "cell_type": "markdown",
      "metadata": {
        "id": "7CXKeVfN-dqN"
      },
      "source": [
        "The P values inidicates the variables are independent (fail to reject H0). Hence water and sun acts differently.\n",
        "\n",
        "We can also interpret the statistic by retrieving the critical value from the chi-squared distribution for the probability and number of degrees of freedom. For example, a probability of 95% can be used, suggesting that the finding of the test is quite likely given the assumption of the test that the variable is independent. If the statistic is less than or equal to the critical value, we can fail to reject this assumption, otherwise it can be rejected.\n",
        "\n",
        "for this we will be using scipy.stats.chi2.ppf()\n",
        "\n",
        "Reference doc: https://docs.scipy.org/doc/scipy/reference/generated/scipy.stats.chi2.html"
      ]
    },
    {
      "cell_type": "code",
      "execution_count": null,
      "metadata": {
        "colab": {
          "base_uri": "https://localhost:8080/"
        },
        "id": "U-d_JJHa-dqN",
        "outputId": "240c3bd4-e752-4713-88de-66cfd6e1aab3"
      },
      "outputs": [
        {
          "output_type": "stream",
          "name": "stdout",
          "text": [
            "Independent (fail to reject H0)\n"
          ]
        }
      ],
      "source": [
        "# import chi2\n",
        "from scipy.stats import chi2\n",
        "# keep probability as 95%\n",
        "prob = 0.95\n",
        "\n",
        "#Use chi2.ppf() function to get critical value, passing prob and dof in it\n",
        "critical = chi2.ppf(prob, dof)\n",
        "\n",
        "#Interpreting critical value w.r.t stat value\n",
        "\n",
        "if abs(stat) >= critical:\n",
        "    print('Dependent (reject H0)')\n",
        "else:\n",
        "    print('Independent (fail to reject H0)')"
      ]
    },
    {
      "cell_type": "markdown",
      "metadata": {
        "id": "_ckk9Ori-dqN"
      },
      "source": [
        "The critical value is calculated and interpreted, finding that indeed the variables are independent (fail to reject H0). The interpretation of the p-value makes the same finding that sun and water variable has no relationship"
      ]
    },
    {
      "cell_type": "markdown",
      "metadata": {
        "id": "JqVSW10F-dqO"
      },
      "source": [
        "ah, finally we came to end of this assignment. This assignment would help you to do any hypothesis testing in future. \n",
        "\n",
        "We are providing you the link for 17 Statistical Hypothesis Tests in Python (Cheat Sheet) for your reference.\n",
        "\n",
        "Reference link: https://machinelearningmastery.com/statistical-hypothesis-tests-in-python-cheat-sheet/\n",
        "\n"
      ]
    }
  ],
  "metadata": {
    "kernelspec": {
      "display_name": "Python 3",
      "language": "python",
      "name": "python3"
    },
    "language_info": {
      "codemirror_mode": {
        "name": "ipython",
        "version": 3
      },
      "file_extension": ".py",
      "mimetype": "text/x-python",
      "name": "python",
      "nbconvert_exporter": "python",
      "pygments_lexer": "ipython3",
      "version": "3.8.5"
    },
    "colab": {
      "provenance": [],
      "collapsed_sections": []
    }
  },
  "nbformat": 4,
  "nbformat_minor": 0
}