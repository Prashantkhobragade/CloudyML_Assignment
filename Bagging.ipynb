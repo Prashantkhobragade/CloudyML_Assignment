{
  "cells": [
    {
      "cell_type": "markdown",
      "metadata": {
        "id": "9PU0dNHhHWXb"
      },
      "source": [
        "## <center><u>**`Bagging and Random Forest Ensemble Algorithms`**</u></center>\n"
      ]
    },
    {
      "cell_type": "markdown",
      "metadata": {
        "id": "0NHNMwWnHWXf"
      },
      "source": [
        "Decision trees are a simple and powerful predictive modeling technique, but they suffer from high-variance.\n",
        "\n",
        "This means that trees can get very different results given different training data.\n",
        "\n",
        "A technique to make decision trees more robust and to achieve better performance is called bootstrap aggregation or bagging for short.\n",
        "\n",
        "In this assignment, you will discover how to implement the bagging procedure with Python.\n",
        "\n",
        "\n",
        "\n",
        "-------------------------\n",
        "\n",
        "Here you will be using `3 different types of boosting` methods:\n",
        "\n",
        "1. `Bagging classifier: an ensemble meta-estimator`\n",
        "2. `RandomForest Classifier`\n",
        "3. `ExtraTree Classifier`\n",
        "\n",
        "\n",
        "#### **`PROBLEM STATEMENT: Credit Default Prediction`**\n",
        "\n",
        "Build a model to predict whether a given customer defaults or not. Credit default is one of the most important problems in the banking and risk analytics industry. There are various attributes which can be used to predict default, such as demographic data (age, income, employment status, etc.), (credit) behavioural data (past loans, payment, number of times a credit payment has been delayed by the customer etc.).\n",
        "\n"
      ]
    },
    {
      "cell_type": "markdown",
      "metadata": {
        "id": "jxDsiXePHWXg"
      },
      "source": [
        "### **`1. Data Understanding and Cleaning`**\n",
        "\n",
        "<p style='text-align: right;'> 10 points</p>"
      ]
    },
    {
      "cell_type": "code",
      "execution_count": null,
      "metadata": {
        "id": "WySYhhaOHWXg"
      },
      "outputs": [],
      "source": [
        "# Importing the required libraries\n",
        "import pandas as pd\n",
        "import numpy as np\n",
        "import matplotlib.pyplot as plt\n",
        "import seaborn as sns\n",
        "%matplotlib inline\n",
        "\n",
        "# To ignore warnings\n",
        "import warnings\n",
        "warnings.filterwarnings(\"ignore\")"
      ]
    },
    {
      "cell_type": "code",
      "execution_count": null,
      "metadata": {
        "id": "6fUdHzOkHWXh",
        "outputId": "df313d56-88f3-40de-c256-ecfc6e1fcf90",
        "colab": {
          "base_uri": "https://localhost:8080/",
          "height": 299
        }
      },
      "outputs": [
        {
          "output_type": "execute_result",
          "data": {
            "text/plain": [
              "   ID  LIMIT_BAL  SEX  EDUCATION  MARRIAGE  AGE  PAY_0  PAY_2  PAY_3  PAY_4  \\\n",
              "0   1      20000    2          2         1   24      2      2     -1     -1   \n",
              "1   2     120000    2          2         2   26     -1      2      0      0   \n",
              "2   3      90000    2          2         2   34      0      0      0      0   \n",
              "3   4      50000    2          2         1   37      0      0      0      0   \n",
              "4   5      50000    1          2         1   57     -1      0     -1      0   \n",
              "\n",
              "   ...  BILL_AMT4  BILL_AMT5  BILL_AMT6  PAY_AMT1  PAY_AMT2  PAY_AMT3  \\\n",
              "0  ...          0          0          0         0       689         0   \n",
              "1  ...       3272       3455       3261         0      1000      1000   \n",
              "2  ...      14331      14948      15549      1518      1500      1000   \n",
              "3  ...      28314      28959      29547      2000      2019      1200   \n",
              "4  ...      20940      19146      19131      2000     36681     10000   \n",
              "\n",
              "   PAY_AMT4  PAY_AMT5  PAY_AMT6  defaulted  \n",
              "0         0         0         0          1  \n",
              "1      1000         0      2000          1  \n",
              "2      1000      1000      5000          0  \n",
              "3      1100      1069      1000          0  \n",
              "4      9000       689       679          0  \n",
              "\n",
              "[5 rows x 25 columns]"
            ],
            "text/html": [
              "\n",
              "  <div id=\"df-b683f374-e6c7-433f-8416-0edf89b5929a\">\n",
              "    <div class=\"colab-df-container\">\n",
              "      <div>\n",
              "<style scoped>\n",
              "    .dataframe tbody tr th:only-of-type {\n",
              "        vertical-align: middle;\n",
              "    }\n",
              "\n",
              "    .dataframe tbody tr th {\n",
              "        vertical-align: top;\n",
              "    }\n",
              "\n",
              "    .dataframe thead th {\n",
              "        text-align: right;\n",
              "    }\n",
              "</style>\n",
              "<table border=\"1\" class=\"dataframe\">\n",
              "  <thead>\n",
              "    <tr style=\"text-align: right;\">\n",
              "      <th></th>\n",
              "      <th>ID</th>\n",
              "      <th>LIMIT_BAL</th>\n",
              "      <th>SEX</th>\n",
              "      <th>EDUCATION</th>\n",
              "      <th>MARRIAGE</th>\n",
              "      <th>AGE</th>\n",
              "      <th>PAY_0</th>\n",
              "      <th>PAY_2</th>\n",
              "      <th>PAY_3</th>\n",
              "      <th>PAY_4</th>\n",
              "      <th>...</th>\n",
              "      <th>BILL_AMT4</th>\n",
              "      <th>BILL_AMT5</th>\n",
              "      <th>BILL_AMT6</th>\n",
              "      <th>PAY_AMT1</th>\n",
              "      <th>PAY_AMT2</th>\n",
              "      <th>PAY_AMT3</th>\n",
              "      <th>PAY_AMT4</th>\n",
              "      <th>PAY_AMT5</th>\n",
              "      <th>PAY_AMT6</th>\n",
              "      <th>defaulted</th>\n",
              "    </tr>\n",
              "  </thead>\n",
              "  <tbody>\n",
              "    <tr>\n",
              "      <th>0</th>\n",
              "      <td>1</td>\n",
              "      <td>20000</td>\n",
              "      <td>2</td>\n",
              "      <td>2</td>\n",
              "      <td>1</td>\n",
              "      <td>24</td>\n",
              "      <td>2</td>\n",
              "      <td>2</td>\n",
              "      <td>-1</td>\n",
              "      <td>-1</td>\n",
              "      <td>...</td>\n",
              "      <td>0</td>\n",
              "      <td>0</td>\n",
              "      <td>0</td>\n",
              "      <td>0</td>\n",
              "      <td>689</td>\n",
              "      <td>0</td>\n",
              "      <td>0</td>\n",
              "      <td>0</td>\n",
              "      <td>0</td>\n",
              "      <td>1</td>\n",
              "    </tr>\n",
              "    <tr>\n",
              "      <th>1</th>\n",
              "      <td>2</td>\n",
              "      <td>120000</td>\n",
              "      <td>2</td>\n",
              "      <td>2</td>\n",
              "      <td>2</td>\n",
              "      <td>26</td>\n",
              "      <td>-1</td>\n",
              "      <td>2</td>\n",
              "      <td>0</td>\n",
              "      <td>0</td>\n",
              "      <td>...</td>\n",
              "      <td>3272</td>\n",
              "      <td>3455</td>\n",
              "      <td>3261</td>\n",
              "      <td>0</td>\n",
              "      <td>1000</td>\n",
              "      <td>1000</td>\n",
              "      <td>1000</td>\n",
              "      <td>0</td>\n",
              "      <td>2000</td>\n",
              "      <td>1</td>\n",
              "    </tr>\n",
              "    <tr>\n",
              "      <th>2</th>\n",
              "      <td>3</td>\n",
              "      <td>90000</td>\n",
              "      <td>2</td>\n",
              "      <td>2</td>\n",
              "      <td>2</td>\n",
              "      <td>34</td>\n",
              "      <td>0</td>\n",
              "      <td>0</td>\n",
              "      <td>0</td>\n",
              "      <td>0</td>\n",
              "      <td>...</td>\n",
              "      <td>14331</td>\n",
              "      <td>14948</td>\n",
              "      <td>15549</td>\n",
              "      <td>1518</td>\n",
              "      <td>1500</td>\n",
              "      <td>1000</td>\n",
              "      <td>1000</td>\n",
              "      <td>1000</td>\n",
              "      <td>5000</td>\n",
              "      <td>0</td>\n",
              "    </tr>\n",
              "    <tr>\n",
              "      <th>3</th>\n",
              "      <td>4</td>\n",
              "      <td>50000</td>\n",
              "      <td>2</td>\n",
              "      <td>2</td>\n",
              "      <td>1</td>\n",
              "      <td>37</td>\n",
              "      <td>0</td>\n",
              "      <td>0</td>\n",
              "      <td>0</td>\n",
              "      <td>0</td>\n",
              "      <td>...</td>\n",
              "      <td>28314</td>\n",
              "      <td>28959</td>\n",
              "      <td>29547</td>\n",
              "      <td>2000</td>\n",
              "      <td>2019</td>\n",
              "      <td>1200</td>\n",
              "      <td>1100</td>\n",
              "      <td>1069</td>\n",
              "      <td>1000</td>\n",
              "      <td>0</td>\n",
              "    </tr>\n",
              "    <tr>\n",
              "      <th>4</th>\n",
              "      <td>5</td>\n",
              "      <td>50000</td>\n",
              "      <td>1</td>\n",
              "      <td>2</td>\n",
              "      <td>1</td>\n",
              "      <td>57</td>\n",
              "      <td>-1</td>\n",
              "      <td>0</td>\n",
              "      <td>-1</td>\n",
              "      <td>0</td>\n",
              "      <td>...</td>\n",
              "      <td>20940</td>\n",
              "      <td>19146</td>\n",
              "      <td>19131</td>\n",
              "      <td>2000</td>\n",
              "      <td>36681</td>\n",
              "      <td>10000</td>\n",
              "      <td>9000</td>\n",
              "      <td>689</td>\n",
              "      <td>679</td>\n",
              "      <td>0</td>\n",
              "    </tr>\n",
              "  </tbody>\n",
              "</table>\n",
              "<p>5 rows × 25 columns</p>\n",
              "</div>\n",
              "      <button class=\"colab-df-convert\" onclick=\"convertToInteractive('df-b683f374-e6c7-433f-8416-0edf89b5929a')\"\n",
              "              title=\"Convert this dataframe to an interactive table.\"\n",
              "              style=\"display:none;\">\n",
              "        \n",
              "  <svg xmlns=\"http://www.w3.org/2000/svg\" height=\"24px\"viewBox=\"0 0 24 24\"\n",
              "       width=\"24px\">\n",
              "    <path d=\"M0 0h24v24H0V0z\" fill=\"none\"/>\n",
              "    <path d=\"M18.56 5.44l.94 2.06.94-2.06 2.06-.94-2.06-.94-.94-2.06-.94 2.06-2.06.94zm-11 1L8.5 8.5l.94-2.06 2.06-.94-2.06-.94L8.5 2.5l-.94 2.06-2.06.94zm10 10l.94 2.06.94-2.06 2.06-.94-2.06-.94-.94-2.06-.94 2.06-2.06.94z\"/><path d=\"M17.41 7.96l-1.37-1.37c-.4-.4-.92-.59-1.43-.59-.52 0-1.04.2-1.43.59L10.3 9.45l-7.72 7.72c-.78.78-.78 2.05 0 2.83L4 21.41c.39.39.9.59 1.41.59.51 0 1.02-.2 1.41-.59l7.78-7.78 2.81-2.81c.8-.78.8-2.07 0-2.86zM5.41 20L4 18.59l7.72-7.72 1.47 1.35L5.41 20z\"/>\n",
              "  </svg>\n",
              "      </button>\n",
              "      \n",
              "  <style>\n",
              "    .colab-df-container {\n",
              "      display:flex;\n",
              "      flex-wrap:wrap;\n",
              "      gap: 12px;\n",
              "    }\n",
              "\n",
              "    .colab-df-convert {\n",
              "      background-color: #E8F0FE;\n",
              "      border: none;\n",
              "      border-radius: 50%;\n",
              "      cursor: pointer;\n",
              "      display: none;\n",
              "      fill: #1967D2;\n",
              "      height: 32px;\n",
              "      padding: 0 0 0 0;\n",
              "      width: 32px;\n",
              "    }\n",
              "\n",
              "    .colab-df-convert:hover {\n",
              "      background-color: #E2EBFA;\n",
              "      box-shadow: 0px 1px 2px rgba(60, 64, 67, 0.3), 0px 1px 3px 1px rgba(60, 64, 67, 0.15);\n",
              "      fill: #174EA6;\n",
              "    }\n",
              "\n",
              "    [theme=dark] .colab-df-convert {\n",
              "      background-color: #3B4455;\n",
              "      fill: #D2E3FC;\n",
              "    }\n",
              "\n",
              "    [theme=dark] .colab-df-convert:hover {\n",
              "      background-color: #434B5C;\n",
              "      box-shadow: 0px 1px 3px 1px rgba(0, 0, 0, 0.15);\n",
              "      filter: drop-shadow(0px 1px 2px rgba(0, 0, 0, 0.3));\n",
              "      fill: #FFFFFF;\n",
              "    }\n",
              "  </style>\n",
              "\n",
              "      <script>\n",
              "        const buttonEl =\n",
              "          document.querySelector('#df-b683f374-e6c7-433f-8416-0edf89b5929a button.colab-df-convert');\n",
              "        buttonEl.style.display =\n",
              "          google.colab.kernel.accessAllowed ? 'block' : 'none';\n",
              "\n",
              "        async function convertToInteractive(key) {\n",
              "          const element = document.querySelector('#df-b683f374-e6c7-433f-8416-0edf89b5929a');\n",
              "          const dataTable =\n",
              "            await google.colab.kernel.invokeFunction('convertToInteractive',\n",
              "                                                     [key], {});\n",
              "          if (!dataTable) return;\n",
              "\n",
              "          const docLinkHtml = 'Like what you see? Visit the ' +\n",
              "            '<a target=\"_blank\" href=https://colab.research.google.com/notebooks/data_table.ipynb>data table notebook</a>'\n",
              "            + ' to learn more about interactive tables.';\n",
              "          element.innerHTML = '';\n",
              "          dataTable['output_type'] = 'display_data';\n",
              "          await google.colab.output.renderOutput(dataTable, element);\n",
              "          const docLink = document.createElement('div');\n",
              "          docLink.innerHTML = docLinkHtml;\n",
              "          element.appendChild(docLink);\n",
              "        }\n",
              "      </script>\n",
              "    </div>\n",
              "  </div>\n",
              "  "
            ]
          },
          "metadata": {},
          "execution_count": 2
        }
      ],
      "source": [
        "# Reading the csv file and putting it into 'df' object.\n",
        "df = pd.read_csv('/content/credit-card-default.csv')\n",
        "\n",
        "# print head\n",
        "df.head()\n",
        "\n"
      ]
    },
    {
      "cell_type": "code",
      "execution_count": null,
      "metadata": {
        "id": "FzCe3m1cHWXi",
        "outputId": "e52477f5-ddbb-4729-8f6c-3338e07ac6cc",
        "colab": {
          "base_uri": "https://localhost:8080/"
        }
      },
      "outputs": [
        {
          "output_type": "stream",
          "name": "stdout",
          "text": [
            "<class 'pandas.core.frame.DataFrame'>\n",
            "RangeIndex: 30000 entries, 0 to 29999\n",
            "Data columns (total 25 columns):\n",
            " #   Column     Non-Null Count  Dtype\n",
            "---  ------     --------------  -----\n",
            " 0   ID         30000 non-null  int64\n",
            " 1   LIMIT_BAL  30000 non-null  int64\n",
            " 2   SEX        30000 non-null  int64\n",
            " 3   EDUCATION  30000 non-null  int64\n",
            " 4   MARRIAGE   30000 non-null  int64\n",
            " 5   AGE        30000 non-null  int64\n",
            " 6   PAY_0      30000 non-null  int64\n",
            " 7   PAY_2      30000 non-null  int64\n",
            " 8   PAY_3      30000 non-null  int64\n",
            " 9   PAY_4      30000 non-null  int64\n",
            " 10  PAY_5      30000 non-null  int64\n",
            " 11  PAY_6      30000 non-null  int64\n",
            " 12  BILL_AMT1  30000 non-null  int64\n",
            " 13  BILL_AMT2  30000 non-null  int64\n",
            " 14  BILL_AMT3  30000 non-null  int64\n",
            " 15  BILL_AMT4  30000 non-null  int64\n",
            " 16  BILL_AMT5  30000 non-null  int64\n",
            " 17  BILL_AMT6  30000 non-null  int64\n",
            " 18  PAY_AMT1   30000 non-null  int64\n",
            " 19  PAY_AMT2   30000 non-null  int64\n",
            " 20  PAY_AMT3   30000 non-null  int64\n",
            " 21  PAY_AMT4   30000 non-null  int64\n",
            " 22  PAY_AMT5   30000 non-null  int64\n",
            " 23  PAY_AMT6   30000 non-null  int64\n",
            " 24  defaulted  30000 non-null  int64\n",
            "dtypes: int64(25)\n",
            "memory usage: 5.7 MB\n"
          ]
        }
      ],
      "source": [
        "# Let's understand the type of columns\n",
        "\n",
        "df.info()\n",
        "\n"
      ]
    },
    {
      "cell_type": "markdown",
      "metadata": {
        "id": "ZXyos7_UHWXi"
      },
      "source": [
        "In this case, we know that there are no major data quality issues, so we'll go ahead and build the model."
      ]
    },
    {
      "cell_type": "markdown",
      "metadata": {
        "id": "C-v9HZ25HWXj"
      },
      "source": [
        "### **`2. Data Preparation and Model Building`**\n",
        "\n",
        "\n",
        "<p style='text-align: right;'> 10 points</p>"
      ]
    },
    {
      "cell_type": "code",
      "execution_count": null,
      "metadata": {
        "id": "mYnCm_PDHWXj"
      },
      "outputs": [],
      "source": [
        "# Importing test_train_split from sklearn library\n",
        "from sklearn.model_selection import train_test_split\n",
        "\n",
        "\n"
      ]
    },
    {
      "cell_type": "code",
      "execution_count": null,
      "metadata": {
        "id": "Owwx9pJBHWXk"
      },
      "outputs": [],
      "source": [
        "# Putting feature variable to X\n",
        "X = df.drop('defaulted', axis=1)\n",
        "\n",
        "\n",
        "# Putting response variable to y\n",
        "y = df['defaulted']\n",
        "\n",
        "\n",
        "\n",
        "# Splitting the data into train and test with test size as 30% and random state as 101\n",
        "X_train, X_test, y_train, y_test = train_test_split(X, y, test_size=.30, random_state=101)\n",
        "\n"
      ]
    },
    {
      "cell_type": "markdown",
      "metadata": {
        "id": "lEmAQVPDHWXk"
      },
      "source": [
        "### **`3. Applying Bagging`**"
      ]
    },
    {
      "cell_type": "markdown",
      "metadata": {
        "id": "K-t1V_FqHWXk"
      },
      "source": [
        "\n",
        "##### 1. Bagging classifier: an ensemble meta-estimator\n",
        "\n",
        "<p style='text-align: right;'> 20 points</p>\n",
        "\n",
        "\n",
        "Bagging classifier can be called as an ensemble meta-estimator which is created by fitting multiple versions of base estimator, trained with modified training data set created using bagging sampling technique (data sampled using replacement) or otherwise. The nagging sampling technique can result in the training set consisting of duplicate dataset or unique data set. This sampling technique is also called as bootstrap aggregation. The final predictor (also called as bagging classifier) combines the predictions made by each estimator / classifier by voting (classification) or by averaging (regression). \n",
        "\n",
        "Bagging classifier helps in reducing the variance of individual estimators by introducing randomisation into the training stage of each of the estimators and making an ensemble out of all the estimators. \n",
        "\n",
        "Lets first check this using **simple Decision Tree** to build this model"
      ]
    },
    {
      "cell_type": "code",
      "execution_count": null,
      "metadata": {
        "id": "KOaZE6c0HWXk"
      },
      "outputs": [],
      "source": [
        "# import StandardScaler, DecisionTreeClassifier and make_pipeline\n",
        "from sklearn.preprocessing import StandardScaler\n",
        "from sklearn.tree import DecisionTreeClassifier\n",
        "from sklearn.pipeline import make_pipeline\n",
        "\n",
        "\n",
        "\n",
        "\n",
        "\n"
      ]
    },
    {
      "cell_type": "markdown",
      "metadata": {
        "id": "6IhZmNBYHWXl"
      },
      "source": [
        "Make a pipeline Estimator to standardize X and use DecisionTreeClassifier with random_state=1 as model. \n",
        "\n",
        "Reference video below:\n",
        "- Dataset used: https://drive.google.com/file/d/1zScKWqAnr2iilAxvm2Na2gLulbn-wsjj/view?usp=sharing"
      ]
    },
    {
      "cell_type": "code",
      "execution_count": null,
      "metadata": {
        "id": "KXczCUEpHWXl",
        "outputId": "224aae12-38d2-495a-9d95-c05606fa9d4d",
        "colab": {
          "base_uri": "https://localhost:8080/"
        }
      },
      "outputs": [
        {
          "output_type": "execute_result",
          "data": {
            "text/plain": [
              "Pipeline(steps=[('standardscaler', StandardScaler()),\n",
              "                ('decisiontreeclassifier',\n",
              "                 DecisionTreeClassifier(random_state=1))])"
            ]
          },
          "metadata": {},
          "execution_count": 7
        }
      ],
      "source": [
        "## Pipeline Estimator with StandardScaler and DecisionTreeClassifier with random_state as 1\n",
        "pipeline = make_pipeline(StandardScaler(), DecisionTreeClassifier(random_state=1))\n",
        "\n",
        "\n",
        "\n",
        "\n",
        "# fit model on training data\n",
        "pipeline.fit(X_train, y_train)\n",
        "\n",
        "\n",
        "\n"
      ]
    },
    {
      "cell_type": "code",
      "execution_count": null,
      "metadata": {
        "id": "HD2cW3V7HWXl",
        "outputId": "dd0548fa-9a81-46f4-9850-2d916afe6d2d",
        "colab": {
          "base_uri": "https://localhost:8080/"
        }
      },
      "outputs": [
        {
          "output_type": "stream",
          "name": "stdout",
          "text": [
            "Model test Score : 0.728, Model training score : 1.000,\n"
          ]
        }
      ],
      "source": [
        "# Model scores on test and training data\n",
        "print('Model test Score : %.3f,' %pipeline.score(X_test, y_test),\n",
        "      'Model training score : %.3f,' %pipeline.score(X_train, y_train))\n",
        "\n",
        "\n",
        "\n",
        "\n"
      ]
    },
    {
      "cell_type": "markdown",
      "metadata": {
        "id": "4AVbQ16mHWXm"
      },
      "source": [
        "The model comes up with the above scores. Note that the model tends to overfit the data as the test score is 0.72 and training score is 1.00.\n",
        "\n",
        "Here naturally reducing this overfitting issue is required. Lets do this using various bagging methods\n",
        "\n",
        "#### **`1. Bagging classifier: an ensemble meta-estimator`**\n",
        "\n",
        "Reference doc link: https://scikit-learn.org/stable/modules/generated/sklearn.ensemble.BaggingClassifier.html\n",
        "\n",
        "Reference YouTube link below:\n",
        "We will fit a bagging classifier using default hyperparameters and base estimator as pipeline built using Decision Tree Classifier. Note that you can further perform a Grid Search or Randomized search to get the most appropriate estimator.\n",
        "\n",
        "Video below:\n",
        "- dataset used : https://drive.google.com/file/d/17E6_SXbcb9fUkoo_0Az_Wc1Edas3uRpl/view?usp=sharing"
      ]
    },
    {
      "cell_type": "code",
      "execution_count": null,
      "metadata": {
        "id": "ngSAoeDZHWXm",
        "outputId": "d887e132-1d99-4a42-9dff-4d78d920e52a",
        "colab": {
          "base_uri": "https://localhost:8080/"
        }
      },
      "outputs": [
        {
          "output_type": "stream",
          "name": "stdout",
          "text": [
            "Model test Score : 0.810, Model training score : 0.979,\n"
          ]
        }
      ],
      "source": [
        "# import BaggingClassifier\n",
        "from sklearn.ensemble import BaggingClassifier\n",
        "\n",
        "\n",
        "\n",
        "\n",
        "# Instantiate the bagging classifier with base_estimator as pipeline and random_state=1\n",
        "bgclassifier = BaggingClassifier(base_estimator=pipeline, random_state=1)\n",
        "\n",
        "\n",
        "\n",
        "#fitting above model on training data\n",
        "bgclassifier.fit(X_train, y_train)\n",
        "\n",
        "\n",
        "\n",
        "\n",
        "## Model scores on test and training data\n",
        "print('Model test Score : %.3f,' %bgclassifier.score(X_test, y_test),\n",
        "      'Model training score : %.3f,' %bgclassifier.score(X_train, y_train))\n",
        "\n",
        "\n",
        "\n"
      ]
    },
    {
      "cell_type": "markdown",
      "metadata": {
        "id": "QKlqTXJXHWXm"
      },
      "source": [
        "The model comes up with the following scores. Note that the model tends to overfit the data as the test score is 0.81 and training score is 0.98. However, the model will give better generalization performance than the model fit with Descision Tree alone.\n",
        "\n",
        "Note: You can use any algorithm with bagging classifier \n",
        "\n",
        "#### **`Tuning BaggingClassifier`**\n",
        "<p style='text-align: right;'> 5 points</p>\n",
        "\n",
        "We will further perform a Grid Search or Randomized search to get the most appropriate estimator.\n",
        "\n",
        "I would like to use GridSearchCV to find the best parameters for both BaggingClassifier and DecisionTreeClassifier (e.g. max_depth from DecisionTreeClassifier and max_samples & max_features from BaggingClassifier), what is the syntax for this?\n",
        "\n",
        "\n"
      ]
    },
    {
      "cell_type": "code",
      "execution_count": null,
      "metadata": {
        "id": "MpBhMkv1HWXm",
        "outputId": "1eeebd01-8ce4-426d-c625-cf89ae18fe29",
        "colab": {
          "base_uri": "https://localhost:8080/"
        }
      },
      "outputs": [
        {
          "output_type": "execute_result",
          "data": {
            "text/plain": [
              "GridSearchCV(estimator=BaggingClassifier(base_estimator=DecisionTreeClassifier(),\n",
              "                                         random_state=1),\n",
              "             param_grid={'base_estimator__max_depth': [1, 5, 10, 15, 20],\n",
              "                         'max_features': [1, 5, 10, 15, 20],\n",
              "                         'max_samples': [0.05, 0.1, 0.2, 0.5]},\n",
              "             scoring='accuracy')"
            ]
          },
          "metadata": {},
          "execution_count": 12
        }
      ],
      "source": [
        "# import GridSearchCV\n",
        "from sklearn.model_selection import GridSearchCV\n",
        "\n",
        "\n",
        "\n",
        "'''A dictionary with base_estimator__max_depth from 1 to 20 with step size as 5\n",
        "A max_samples with [0.05, 0.1, 0.2, 0.5] and max_features form 1 to 20 with step size as 5'''\n",
        "\n",
        "\n",
        "param_grid = {'base_estimator__max_depth':[1,5,10,15,20],\n",
        "              'max_samples':[0.05,0.1,0.2,0.5],\n",
        "              'max_features':[1,5,10,15,20]}\n",
        "\n",
        "\n",
        "\n",
        "\n",
        "# Instantiate gridsearch with BaggingClassifier with base estimator DecisionTreeClassifier and random_state=1\n",
        "gs = GridSearchCV(BaggingClassifier(DecisionTreeClassifier(),random_state=1), param_grid, scoring='accuracy')\n",
        "\n",
        "\n",
        "\n",
        "#fit grid search on training data\n",
        "gs.fit(X_train, y_train)\n",
        "\n",
        "\n"
      ]
    },
    {
      "cell_type": "code",
      "execution_count": null,
      "metadata": {
        "id": "HAiYzGnYHWXn",
        "outputId": "da8f622a-ed8b-4bfa-d7ff-275c6f4ee4da",
        "colab": {
          "base_uri": "https://localhost:8080/"
        }
      },
      "outputs": [
        {
          "output_type": "stream",
          "name": "stdout",
          "text": [
            "Optimal hyperparameter combination : {'base_estimator__max_depth': 5, 'max_features': 20, 'max_samples': 0.5}\n",
            "Mean cross-validtion training accuracy score: 0.8177619047619048\n"
          ]
        }
      ],
      "source": [
        "# print best paramaters selected by gridsearch\n",
        "print('Optimal hyperparameter combination :', gs.best_params_)\n",
        "\n",
        "\n",
        "\n",
        "\n",
        "#print mean accuracy score on final tuned  BaggingClassifier\n",
        "\n",
        "print('Mean cross-validtion training accuracy score:', gs.best_score_)\n",
        "\n"
      ]
    },
    {
      "cell_type": "markdown",
      "metadata": {
        "id": "Or5ICSirHWXn"
      },
      "source": [
        "Check our BaggingClassifier again on optimized parameters"
      ]
    },
    {
      "cell_type": "code",
      "execution_count": null,
      "metadata": {
        "id": "8-N3zOrUHWXn",
        "outputId": "1c5306ee-049d-498f-eea6-baa88db589f4",
        "colab": {
          "base_uri": "https://localhost:8080/"
        }
      },
      "outputs": [
        {
          "output_type": "stream",
          "name": "stdout",
          "text": [
            "Model test score: 0.826, \n",
            "model training score: 0.825,\n"
          ]
        }
      ],
      "source": [
        "# Instantiate the bagging classifier with optimized parameter by grid search and random_state=1\n",
        "bgclassifier = BaggingClassifier(DecisionTreeClassifier(max_depth=5), max_features=20, max_samples=0.5)\n",
        "\n",
        "\n",
        "\n",
        "#fitting above model on training data\n",
        "bgclassifier.fit(X_train, y_train)\n",
        "\n",
        "\n",
        "\n",
        "\n",
        "## Model scores on test and training data\n",
        "\n",
        "print('Model test score: %.3f, ' %bgclassifier.score(X_test, y_test))\n",
        "print('model training score: %.3f,'%bgclassifier.score(X_train, y_train))\n",
        "\n",
        "\n"
      ]
    },
    {
      "cell_type": "markdown",
      "metadata": {
        "id": "Sg3MylyNHWXn"
      },
      "source": [
        "Wohooo! did you observe that we have succesfully eliminated problem of overfitting using bagging method and hyperparameter tuning it."
      ]
    },
    {
      "cell_type": "markdown",
      "metadata": {
        "id": "RwjdabO6HWXn"
      },
      "source": [
        "\n",
        "#### **`2. RandomForest Classifier`**\n",
        "\n",
        "<p style='text-align: right;'> 20 points</p>\n",
        "\n",
        "\n",
        "Reference doc: https://scikit-learn.org/stable/modules/generated/sklearn.ensemble.RandomForestClassifier.html\n",
        "\n",
        "Now lets check RandomForest algorithm for doing bagging.\n",
        "\n",
        "\n",
        "Random forest, like its name implies, consists of a large number of individual decision trees that operate as an ensemble. Each individual tree in the random forest spits out a class prediction and the class with the most votes becomes our model’s prediction (see figure below).\n",
        "\n",
        "\n",
        "\n",
        "\n",
        "Random forest is an extension of bagging that also randomly selects subsets of features used in each data sample.\n",
        "\n",
        "Reference video below:"
      ]
    },
    {
      "cell_type": "code",
      "execution_count": null,
      "metadata": {
        "id": "vRTwwPyfHWXo",
        "outputId": "69feec8d-596c-407d-ca1f-6c88183b8607",
        "colab": {
          "base_uri": "https://localhost:8080/"
        }
      },
      "outputs": [
        {
          "output_type": "execute_result",
          "data": {
            "text/plain": [
              "RandomForestClassifier(random_state=1)"
            ]
          },
          "metadata": {},
          "execution_count": 15
        }
      ],
      "source": [
        "# Importing random forest classifier from sklearn library\n",
        "from sklearn.ensemble  import RandomForestClassifier\n",
        "\n",
        "\n",
        "\n",
        "# Running the random forest with default parameters, but random_state as 1\n",
        "rfc = RandomForestClassifier(random_state=1)\n",
        "\n",
        "\n",
        "# fit model on training data\n",
        "rfc.fit(X_train,y_train)\n",
        "\n"
      ]
    },
    {
      "cell_type": "code",
      "execution_count": null,
      "metadata": {
        "id": "fVkb_K6MHWXo"
      },
      "outputs": [],
      "source": [
        "# Making predictions\n",
        "predictions = rfc.predict(X_test)\n",
        "\n",
        "\n"
      ]
    },
    {
      "cell_type": "code",
      "execution_count": null,
      "metadata": {
        "id": "DWtFV9rfHWXo",
        "outputId": "50e32564-46d3-4801-f5ba-903c7ca71ef7",
        "colab": {
          "base_uri": "https://localhost:8080/"
        }
      },
      "outputs": [
        {
          "output_type": "stream",
          "name": "stdout",
          "text": [
            "              precision    recall  f1-score   support\n",
            "\n",
            "           0       0.85      0.95      0.89      7058\n",
            "           1       0.66      0.37      0.47      1942\n",
            "\n",
            "    accuracy                           0.82      9000\n",
            "   macro avg       0.75      0.66      0.68      9000\n",
            "weighted avg       0.80      0.82      0.80      9000\n",
            "\n"
          ]
        }
      ],
      "source": [
        "# Importing classification report and confusion matrix from sklearn metrics\n",
        "\n",
        "from sklearn.metrics import classification_report, confusion_matrix, accuracy_score\n",
        "\n",
        "\n",
        "# Let's check the report of our default model\n",
        "print(classification_report(y_test, predictions))\n",
        "\n",
        "\n",
        "\n"
      ]
    },
    {
      "cell_type": "code",
      "execution_count": null,
      "metadata": {
        "id": "BYk7Llc5HWXo",
        "outputId": "eef903af-4850-41bb-f770-41d4fe3b11b9",
        "colab": {
          "base_uri": "https://localhost:8080/"
        }
      },
      "outputs": [
        {
          "output_type": "stream",
          "name": "stdout",
          "text": [
            "[[6683  375]\n",
            " [1224  718]]\n",
            "0.8223333333333334\n"
          ]
        }
      ],
      "source": [
        "# Printing confusion matrix\n",
        "print(confusion_matrix(y_test, predictions))\n",
        "\n",
        "#Printing accuracy\n",
        "print(accuracy_score(y_test, predictions))\n",
        "\n",
        "\n"
      ]
    },
    {
      "cell_type": "markdown",
      "metadata": {
        "id": "69wgNiCbHWXo"
      },
      "source": [
        "So far so good, let's now look at the list of hyperparameters which we can tune to improve model performance."
      ]
    },
    {
      "cell_type": "markdown",
      "metadata": {
        "id": "v--ALcFkHWXp"
      },
      "source": [
        "#### **`Hyperparameter Tuning RF`**\n",
        "\n",
        "<p style='text-align: right;'> 10 points</p>\n",
        "\n",
        "The following hyperparameters are present in a random forest classifier. Note that most of these hypereparameters are actually of the decision trees that are in the forest.\n",
        "\n",
        "\n",
        "- **n_estimators**: integer, optional (default=10): The number of trees in the forest.\n",
        "- **criterion**: string, optional (default=”gini”)The function to measure the quality of a split. Supported criteria are “gini” for the Gini impurity and “entropy” for the information gain. Note: this parameter is tree-specific.\n",
        "- **max_features** : int, float, string or None, optional (default=”auto”)The number of features to consider when looking for the best split:\n",
        "    - If int, then consider max_features features at each split.\n",
        "    - If float, then max_features is a percentage and int(max_features * n_features) features are considered at each split.\n",
        "    - If “auto”, then max_features=sqrt(n_features).\n",
        "    - If “sqrt”, then max_features=sqrt(n_features) (same as “auto”).\n",
        "    - If “log2”, then max_features=log2(n_features).\n",
        "    - If None, then max_features=n_features.\n",
        "    - Note: the search for a split does not stop until at least one valid partition of the node samples is found, even if it requires to effectively inspect more than max_features features.\n",
        "- **max_depth** : integer or None, optional (default=None)The maximum depth of the tree. If None, then nodes are expanded until all leaves are pure or until all leaves contain less than min_samples_split samples.\n",
        "- **min_samples_split** : int, float, optional (default=2)The minimum number of samples required to split an internal node:**\n",
        "    - **If int, then consider min_samples_split as the minimum number.\n",
        "    - **If float, then min_samples_split is a percentage and ceil(min_samples_split, n_samples) are the minimum number of samples for each split.\n",
        "- **min_samples_leaf** : int, float, optional (default=1)The minimum number of samples required to be at a leaf node:**\n",
        "    - **If int, then consider min_samples_leaf as the minimum number.**\n",
        "    - **If float, then min_samples_leaf is a percentage and ceil(min_samples_leaf * n_samples) are the minimum number of samples for each node.**\n",
        "- **min_weight_fraction_leaf** : float, optional (default=0.)The minimum weighted fraction of the sum total of weights (of all the input samples) required to be at a leaf node. Samples have equal weight when sample_weight is not provided.\n",
        "- **max_leaf_nodes** : int or None, optional (default=None)Grow trees with max_leaf_nodes in best-first fashion. Best nodes are defined as relative reduction in impurity. If None then unlimited number of leaf nodes.\n",
        "- **min_impurity_split** : float,Threshold for early stopping in tree growth. A node will split if its impurity is above the threshold, otherwise it is a leaf.\n",
        "\n",
        "\n",
        "### **`Tuning max_depth`**\n",
        "\n",
        "\n",
        "Let's try to find the optimum values for ```max_depth``` and understand how the value of max_depth impacts the overall accuracy of the ensemble.\n"
      ]
    },
    {
      "cell_type": "code",
      "execution_count": null,
      "metadata": {
        "id": "Gpoq8xddHWXp",
        "outputId": "9d8e8255-d37d-4438-f9cd-68e7dae49d40",
        "colab": {
          "base_uri": "https://localhost:8080/"
        }
      },
      "outputs": [
        {
          "output_type": "execute_result",
          "data": {
            "text/plain": [
              "GridSearchCV(cv=5, estimator=RandomForestClassifier(random_state=1),\n",
              "             param_grid={'max_depth': range(2, 20, 5)}, return_train_score=True,\n",
              "             scoring='accuracy')"
            ]
          },
          "metadata": {},
          "execution_count": 20
        }
      ],
      "source": [
        "# import Kfold \n",
        "from sklearn.model_selection import KFold\n",
        "\n",
        "\n",
        "\n",
        "\n",
        "\n",
        "# specify number of folds for k-fold CV which is 5\n",
        "n_folds = 5\n",
        "\n",
        "# parameters to build the model on here max_depth with range(2, 20, 5)\n",
        "parameters = {'max_depth': range(2,20,5)}\n",
        "\n",
        "\n",
        "\n",
        "# instantiate the model Random Forest with random_state=1\n",
        "rf = RandomForestClassifier(random_state=1)\n",
        "\n",
        "\n",
        "\n",
        "\n",
        "# Instantiate GridSearchCVwith rf, parameter, cv and scoring as accuracy and return_train_score=True\n",
        "rf = GridSearchCV(rf, parameters, cv=n_folds, scoring='accuracy', return_train_score=True)\n",
        "\n",
        "\n",
        "\n",
        "# fit tree on training data\n",
        "rf.fit(X_train, y_train)\n",
        "\n"
      ]
    },
    {
      "cell_type": "code",
      "execution_count": null,
      "metadata": {
        "id": "PBPnHWG5HWXp",
        "outputId": "bb4b047f-c165-4cfc-acdd-41b5717865d8",
        "colab": {
          "base_uri": "https://localhost:8080/",
          "height": 338
        }
      },
      "outputs": [
        {
          "output_type": "execute_result",
          "data": {
            "text/plain": [
              "   mean_fit_time  std_fit_time  mean_score_time  std_score_time  \\\n",
              "0       0.863106      0.003606         0.036592        0.001962   \n",
              "1       2.192762      0.017664         0.052645        0.000672   \n",
              "2       3.423541      0.017290         0.076993        0.001285   \n",
              "3       4.335181      0.016852         0.099023        0.001349   \n",
              "\n",
              "  param_max_depth             params  split0_test_score  split1_test_score  \\\n",
              "0               2   {'max_depth': 2}           0.803095           0.803095   \n",
              "1               7   {'max_depth': 7}           0.815238           0.819762   \n",
              "2              12  {'max_depth': 12}           0.813095           0.819286   \n",
              "3              17  {'max_depth': 17}           0.812143           0.815952   \n",
              "\n",
              "   split2_test_score  split3_test_score  ...  mean_test_score  std_test_score  \\\n",
              "0           0.800476           0.796905  ...         0.800905        0.002271   \n",
              "1           0.818095           0.817857  ...         0.817667        0.001455   \n",
              "2           0.820476           0.814286  ...         0.816905        0.002829   \n",
              "3           0.820000           0.808571  ...         0.815190        0.004326   \n",
              "\n",
              "   rank_test_score  split0_train_score  split1_train_score  \\\n",
              "0                4            0.801190            0.799464   \n",
              "1                1            0.831012            0.831071   \n",
              "2                2            0.883929            0.886012   \n",
              "3                3            0.926845            0.930536   \n",
              "\n",
              "   split2_train_score  split3_train_score  split4_train_score  \\\n",
              "0            0.801667            0.803333            0.801786   \n",
              "1            0.831548            0.833333            0.834107   \n",
              "2            0.884345            0.887560            0.885298   \n",
              "3            0.931548            0.929524            0.927857   \n",
              "\n",
              "   mean_train_score  std_train_score  \n",
              "0          0.801488         0.001242  \n",
              "1          0.832214         0.001267  \n",
              "2          0.885429         0.001290  \n",
              "3          0.929262         0.001716  \n",
              "\n",
              "[4 rows x 21 columns]"
            ],
            "text/html": [
              "\n",
              "  <div id=\"df-c4724550-668c-4edb-831c-e1d534249444\">\n",
              "    <div class=\"colab-df-container\">\n",
              "      <div>\n",
              "<style scoped>\n",
              "    .dataframe tbody tr th:only-of-type {\n",
              "        vertical-align: middle;\n",
              "    }\n",
              "\n",
              "    .dataframe tbody tr th {\n",
              "        vertical-align: top;\n",
              "    }\n",
              "\n",
              "    .dataframe thead th {\n",
              "        text-align: right;\n",
              "    }\n",
              "</style>\n",
              "<table border=\"1\" class=\"dataframe\">\n",
              "  <thead>\n",
              "    <tr style=\"text-align: right;\">\n",
              "      <th></th>\n",
              "      <th>mean_fit_time</th>\n",
              "      <th>std_fit_time</th>\n",
              "      <th>mean_score_time</th>\n",
              "      <th>std_score_time</th>\n",
              "      <th>param_max_depth</th>\n",
              "      <th>params</th>\n",
              "      <th>split0_test_score</th>\n",
              "      <th>split1_test_score</th>\n",
              "      <th>split2_test_score</th>\n",
              "      <th>split3_test_score</th>\n",
              "      <th>...</th>\n",
              "      <th>mean_test_score</th>\n",
              "      <th>std_test_score</th>\n",
              "      <th>rank_test_score</th>\n",
              "      <th>split0_train_score</th>\n",
              "      <th>split1_train_score</th>\n",
              "      <th>split2_train_score</th>\n",
              "      <th>split3_train_score</th>\n",
              "      <th>split4_train_score</th>\n",
              "      <th>mean_train_score</th>\n",
              "      <th>std_train_score</th>\n",
              "    </tr>\n",
              "  </thead>\n",
              "  <tbody>\n",
              "    <tr>\n",
              "      <th>0</th>\n",
              "      <td>0.863106</td>\n",
              "      <td>0.003606</td>\n",
              "      <td>0.036592</td>\n",
              "      <td>0.001962</td>\n",
              "      <td>2</td>\n",
              "      <td>{'max_depth': 2}</td>\n",
              "      <td>0.803095</td>\n",
              "      <td>0.803095</td>\n",
              "      <td>0.800476</td>\n",
              "      <td>0.796905</td>\n",
              "      <td>...</td>\n",
              "      <td>0.800905</td>\n",
              "      <td>0.002271</td>\n",
              "      <td>4</td>\n",
              "      <td>0.801190</td>\n",
              "      <td>0.799464</td>\n",
              "      <td>0.801667</td>\n",
              "      <td>0.803333</td>\n",
              "      <td>0.801786</td>\n",
              "      <td>0.801488</td>\n",
              "      <td>0.001242</td>\n",
              "    </tr>\n",
              "    <tr>\n",
              "      <th>1</th>\n",
              "      <td>2.192762</td>\n",
              "      <td>0.017664</td>\n",
              "      <td>0.052645</td>\n",
              "      <td>0.000672</td>\n",
              "      <td>7</td>\n",
              "      <td>{'max_depth': 7}</td>\n",
              "      <td>0.815238</td>\n",
              "      <td>0.819762</td>\n",
              "      <td>0.818095</td>\n",
              "      <td>0.817857</td>\n",
              "      <td>...</td>\n",
              "      <td>0.817667</td>\n",
              "      <td>0.001455</td>\n",
              "      <td>1</td>\n",
              "      <td>0.831012</td>\n",
              "      <td>0.831071</td>\n",
              "      <td>0.831548</td>\n",
              "      <td>0.833333</td>\n",
              "      <td>0.834107</td>\n",
              "      <td>0.832214</td>\n",
              "      <td>0.001267</td>\n",
              "    </tr>\n",
              "    <tr>\n",
              "      <th>2</th>\n",
              "      <td>3.423541</td>\n",
              "      <td>0.017290</td>\n",
              "      <td>0.076993</td>\n",
              "      <td>0.001285</td>\n",
              "      <td>12</td>\n",
              "      <td>{'max_depth': 12}</td>\n",
              "      <td>0.813095</td>\n",
              "      <td>0.819286</td>\n",
              "      <td>0.820476</td>\n",
              "      <td>0.814286</td>\n",
              "      <td>...</td>\n",
              "      <td>0.816905</td>\n",
              "      <td>0.002829</td>\n",
              "      <td>2</td>\n",
              "      <td>0.883929</td>\n",
              "      <td>0.886012</td>\n",
              "      <td>0.884345</td>\n",
              "      <td>0.887560</td>\n",
              "      <td>0.885298</td>\n",
              "      <td>0.885429</td>\n",
              "      <td>0.001290</td>\n",
              "    </tr>\n",
              "    <tr>\n",
              "      <th>3</th>\n",
              "      <td>4.335181</td>\n",
              "      <td>0.016852</td>\n",
              "      <td>0.099023</td>\n",
              "      <td>0.001349</td>\n",
              "      <td>17</td>\n",
              "      <td>{'max_depth': 17}</td>\n",
              "      <td>0.812143</td>\n",
              "      <td>0.815952</td>\n",
              "      <td>0.820000</td>\n",
              "      <td>0.808571</td>\n",
              "      <td>...</td>\n",
              "      <td>0.815190</td>\n",
              "      <td>0.004326</td>\n",
              "      <td>3</td>\n",
              "      <td>0.926845</td>\n",
              "      <td>0.930536</td>\n",
              "      <td>0.931548</td>\n",
              "      <td>0.929524</td>\n",
              "      <td>0.927857</td>\n",
              "      <td>0.929262</td>\n",
              "      <td>0.001716</td>\n",
              "    </tr>\n",
              "  </tbody>\n",
              "</table>\n",
              "<p>4 rows × 21 columns</p>\n",
              "</div>\n",
              "      <button class=\"colab-df-convert\" onclick=\"convertToInteractive('df-c4724550-668c-4edb-831c-e1d534249444')\"\n",
              "              title=\"Convert this dataframe to an interactive table.\"\n",
              "              style=\"display:none;\">\n",
              "        \n",
              "  <svg xmlns=\"http://www.w3.org/2000/svg\" height=\"24px\"viewBox=\"0 0 24 24\"\n",
              "       width=\"24px\">\n",
              "    <path d=\"M0 0h24v24H0V0z\" fill=\"none\"/>\n",
              "    <path d=\"M18.56 5.44l.94 2.06.94-2.06 2.06-.94-2.06-.94-.94-2.06-.94 2.06-2.06.94zm-11 1L8.5 8.5l.94-2.06 2.06-.94-2.06-.94L8.5 2.5l-.94 2.06-2.06.94zm10 10l.94 2.06.94-2.06 2.06-.94-2.06-.94-.94-2.06-.94 2.06-2.06.94z\"/><path d=\"M17.41 7.96l-1.37-1.37c-.4-.4-.92-.59-1.43-.59-.52 0-1.04.2-1.43.59L10.3 9.45l-7.72 7.72c-.78.78-.78 2.05 0 2.83L4 21.41c.39.39.9.59 1.41.59.51 0 1.02-.2 1.41-.59l7.78-7.78 2.81-2.81c.8-.78.8-2.07 0-2.86zM5.41 20L4 18.59l7.72-7.72 1.47 1.35L5.41 20z\"/>\n",
              "  </svg>\n",
              "      </button>\n",
              "      \n",
              "  <style>\n",
              "    .colab-df-container {\n",
              "      display:flex;\n",
              "      flex-wrap:wrap;\n",
              "      gap: 12px;\n",
              "    }\n",
              "\n",
              "    .colab-df-convert {\n",
              "      background-color: #E8F0FE;\n",
              "      border: none;\n",
              "      border-radius: 50%;\n",
              "      cursor: pointer;\n",
              "      display: none;\n",
              "      fill: #1967D2;\n",
              "      height: 32px;\n",
              "      padding: 0 0 0 0;\n",
              "      width: 32px;\n",
              "    }\n",
              "\n",
              "    .colab-df-convert:hover {\n",
              "      background-color: #E2EBFA;\n",
              "      box-shadow: 0px 1px 2px rgba(60, 64, 67, 0.3), 0px 1px 3px 1px rgba(60, 64, 67, 0.15);\n",
              "      fill: #174EA6;\n",
              "    }\n",
              "\n",
              "    [theme=dark] .colab-df-convert {\n",
              "      background-color: #3B4455;\n",
              "      fill: #D2E3FC;\n",
              "    }\n",
              "\n",
              "    [theme=dark] .colab-df-convert:hover {\n",
              "      background-color: #434B5C;\n",
              "      box-shadow: 0px 1px 3px 1px rgba(0, 0, 0, 0.15);\n",
              "      filter: drop-shadow(0px 1px 2px rgba(0, 0, 0, 0.3));\n",
              "      fill: #FFFFFF;\n",
              "    }\n",
              "  </style>\n",
              "\n",
              "      <script>\n",
              "        const buttonEl =\n",
              "          document.querySelector('#df-c4724550-668c-4edb-831c-e1d534249444 button.colab-df-convert');\n",
              "        buttonEl.style.display =\n",
              "          google.colab.kernel.accessAllowed ? 'block' : 'none';\n",
              "\n",
              "        async function convertToInteractive(key) {\n",
              "          const element = document.querySelector('#df-c4724550-668c-4edb-831c-e1d534249444');\n",
              "          const dataTable =\n",
              "            await google.colab.kernel.invokeFunction('convertToInteractive',\n",
              "                                                     [key], {});\n",
              "          if (!dataTable) return;\n",
              "\n",
              "          const docLinkHtml = 'Like what you see? Visit the ' +\n",
              "            '<a target=\"_blank\" href=https://colab.research.google.com/notebooks/data_table.ipynb>data table notebook</a>'\n",
              "            + ' to learn more about interactive tables.';\n",
              "          element.innerHTML = '';\n",
              "          dataTable['output_type'] = 'display_data';\n",
              "          await google.colab.output.renderOutput(dataTable, element);\n",
              "          const docLink = document.createElement('div');\n",
              "          docLink.innerHTML = docLinkHtml;\n",
              "          element.appendChild(docLink);\n",
              "        }\n",
              "      </script>\n",
              "    </div>\n",
              "  </div>\n",
              "  "
            ]
          },
          "metadata": {},
          "execution_count": 21
        }
      ],
      "source": [
        "# scores of GridSearch CV\n",
        "scores = rf.cv_results_\n",
        "\n",
        "\n",
        "# convert scores into dataframe and print head\n",
        "\n",
        "pd.DataFrame(scores).head()\n",
        "\n"
      ]
    },
    {
      "cell_type": "code",
      "execution_count": null,
      "metadata": {
        "id": "GVdN0vGxHWXp",
        "outputId": "2a92d07b-0f59-4a2d-e73c-372542a08be3",
        "colab": {
          "base_uri": "https://localhost:8080/",
          "height": 280
        }
      },
      "outputs": [
        {
          "output_type": "display_data",
          "data": {
            "text/plain": [
              "<Figure size 432x288 with 1 Axes>"
            ],
            "image/png": "[encoded data removed]"
          },
          "metadata": {
            "needs_background": "light"
          }
        }
      ],
      "source": [
        "# plotting accuracies with max_depth\n",
        "plt.figure()\n",
        "\n",
        "# code below\n",
        "plt.plot(scores['param_max_depth'], scores['mean_train_score'], label='training accuracy')\n",
        "plt.plot(scores['param_max_depth'], scores['mean_test_score'], label='test accuracy')\n",
        "plt.xlabel('max_depth')\n",
        "plt.ylabel('Accuracy')\n",
        "plt.legend()\n",
        "plt.show()\n"
      ]
    },
    {
      "cell_type": "markdown",
      "metadata": {
        "id": "n9i4qcp2HWXq"
      },
      "source": [
        "You can see that as we increase the value of max_depth, both train and test scores increase till a point, but after that test score starts to decrease. The ensemble tries to overfit as we increase the max_depth.\n",
        "\n",
        "Thus, controlling the depth of the constituent trees will help reduce overfitting in the forest."
      ]
    },
    {
      "cell_type": "markdown",
      "metadata": {
        "id": "6wLF-n8xHWXq"
      },
      "source": [
        "Let's try to find the optimum values for n_estimators and understand how the value of n_estimators impacts the overall accuracy. Notice that we'll specify an appropriately low value of max_depth, so that the trees do not overfit.\n",
        "<br>\n",
        "\n",
        "### **`Tuning n_estimators`**\n",
        "Let's try to find the optimum values for n_estimators and understand how the value of n_estimators impacts the overall accuracy. Notice that we'll specify an appropriately low value of max_depth, so that the trees do not overfit.\n",
        "<br>\n"
      ]
    },
    {
      "cell_type": "code",
      "execution_count": null,
      "metadata": {
        "id": "YHvJYyyGHWXq",
        "outputId": "2e94dad1-d1ae-469c-8abd-aa8c9d7e0d83",
        "colab": {
          "base_uri": "https://localhost:8080/"
        }
      },
      "outputs": [
        {
          "output_type": "execute_result",
          "data": {
            "text/plain": [
              "GridSearchCV(cv=5,\n",
              "             estimator=RandomForestClassifier(max_depth=4, random_state=1),\n",
              "             param_grid={'n_estimators': range(100, 1500, 400)},\n",
              "             return_train_score=True, scoring='accuracy')"
            ]
          },
          "metadata": {},
          "execution_count": 24
        }
      ],
      "source": [
        "\n",
        "# parameters to build the model on (here n_estimators with range(100, 1500, 400))\n",
        "parameters = {'n_estimators': range(100,1500,400)}\n",
        "\n",
        "\n",
        "\n",
        "# instantiate the model (note we are specifying a max_depth as 4) and random_state as 1\n",
        "rf = RandomForestClassifier(max_depth=4, random_state=1)\n",
        "\n",
        "\n",
        "\n",
        "\n",
        "\n",
        "# Instantiate GridSearchCVwith rf, parameter, cv and scoring as accuracy and return_train_score as True\n",
        "rf = GridSearchCV(rf, parameters, cv=n_folds, scoring='accuracy', return_train_score=True)\n",
        "\n",
        "\n",
        "\n",
        "\n",
        "# fit tree on training data\n",
        "rf.fit(X_train, y_train)\n",
        "\n",
        "\n",
        "\n"
      ]
    },
    {
      "cell_type": "code",
      "execution_count": null,
      "metadata": {
        "id": "gtesgmV6HWXq",
        "outputId": "88bf56e6-7fc1-4cd0-91a6-ede6c90d8112",
        "colab": {
          "base_uri": "https://localhost:8080/",
          "height": 338
        }
      },
      "outputs": [
        {
          "output_type": "execute_result",
          "data": {
            "text/plain": [
              "   mean_fit_time  std_fit_time  mean_score_time  std_score_time  \\\n",
              "0       1.574942      0.179453         0.045872        0.006499   \n",
              "1       7.255913      0.096550         0.201948        0.002837   \n",
              "2      13.044362      0.063331         0.361133        0.009572   \n",
              "3      18.417669      0.276803         0.513301        0.010413   \n",
              "\n",
              "  param_n_estimators                  params  split0_test_score  \\\n",
              "0                100   {'n_estimators': 100}           0.812143   \n",
              "1                500   {'n_estimators': 500}           0.812619   \n",
              "2                900   {'n_estimators': 900}           0.811667   \n",
              "3               1300  {'n_estimators': 1300}           0.811667   \n",
              "\n",
              "   split1_test_score  split2_test_score  split3_test_score  ...  \\\n",
              "0           0.813333           0.812619           0.805000  ...   \n",
              "1           0.813571           0.810952           0.805476  ...   \n",
              "2           0.813810           0.811429           0.805238  ...   \n",
              "3           0.813571           0.811429           0.805000  ...   \n",
              "\n",
              "   mean_test_score  std_test_score  rank_test_score  split0_train_score  \\\n",
              "0         0.810619        0.003021                1            0.811131   \n",
              "1         0.810190        0.002952                2            0.811488   \n",
              "2         0.810048        0.003021                3            0.811190   \n",
              "3         0.809857        0.003103                4            0.811190   \n",
              "\n",
              "   split1_train_score  split2_train_score  split3_train_score  \\\n",
              "0            0.809643            0.812976            0.813214   \n",
              "1            0.810417            0.812024            0.812560   \n",
              "2            0.810536            0.811845            0.812798   \n",
              "3            0.810238            0.811905            0.812798   \n",
              "\n",
              "   split4_train_score  mean_train_score  std_train_score  \n",
              "0            0.813631          0.812119         0.001505  \n",
              "1            0.812857          0.811869         0.000864  \n",
              "2            0.812679          0.811810         0.000865  \n",
              "3            0.812738          0.811774         0.000969  \n",
              "\n",
              "[4 rows x 21 columns]"
            ],
            "text/html": [
              "\n",
              "  <div id=\"df-d49c0128-0d64-4c5a-8334-1b651d94f778\">\n",
              "    <div class=\"colab-df-container\">\n",
              "      <div>\n",
              "<style scoped>\n",
              "    .dataframe tbody tr th:only-of-type {\n",
              "        vertical-align: middle;\n",
              "    }\n",
              "\n",
              "    .dataframe tbody tr th {\n",
              "        vertical-align: top;\n",
              "    }\n",
              "\n",
              "    .dataframe thead th {\n",
              "        text-align: right;\n",
              "    }\n",
              "</style>\n",
              "<table border=\"1\" class=\"dataframe\">\n",
              "  <thead>\n",
              "    <tr style=\"text-align: right;\">\n",
              "      <th></th>\n",
              "      <th>mean_fit_time</th>\n",
              "      <th>std_fit_time</th>\n",
              "      <th>mean_score_time</th>\n",
              "      <th>std_score_time</th>\n",
              "      <th>param_n_estimators</th>\n",
              "      <th>params</th>\n",
              "      <th>split0_test_score</th>\n",
              "      <th>split1_test_score</th>\n",
              "      <th>split2_test_score</th>\n",
              "      <th>split3_test_score</th>\n",
              "      <th>...</th>\n",
              "      <th>mean_test_score</th>\n",
              "      <th>std_test_score</th>\n",
              "      <th>rank_test_score</th>\n",
              "      <th>split0_train_score</th>\n",
              "      <th>split1_train_score</th>\n",
              "      <th>split2_train_score</th>\n",
              "      <th>split3_train_score</th>\n",
              "      <th>split4_train_score</th>\n",
              "      <th>mean_train_score</th>\n",
              "      <th>std_train_score</th>\n",
              "    </tr>\n",
              "  </thead>\n",
              "  <tbody>\n",
              "    <tr>\n",
              "      <th>0</th>\n",
              "      <td>1.574942</td>\n",
              "      <td>0.179453</td>\n",
              "      <td>0.045872</td>\n",
              "      <td>0.006499</td>\n",
              "      <td>100</td>\n",
              "      <td>{'n_estimators': 100}</td>\n",
              "      <td>0.812143</td>\n",
              "      <td>0.813333</td>\n",
              "      <td>0.812619</td>\n",
              "      <td>0.805000</td>\n",
              "      <td>...</td>\n",
              "      <td>0.810619</td>\n",
              "      <td>0.003021</td>\n",
              "      <td>1</td>\n",
              "      <td>0.811131</td>\n",
              "      <td>0.809643</td>\n",
              "      <td>0.812976</td>\n",
              "      <td>0.813214</td>\n",
              "      <td>0.813631</td>\n",
              "      <td>0.812119</td>\n",
              "      <td>0.001505</td>\n",
              "    </tr>\n",
              "    <tr>\n",
              "      <th>1</th>\n",
              "      <td>7.255913</td>\n",
              "      <td>0.096550</td>\n",
              "      <td>0.201948</td>\n",
              "      <td>0.002837</td>\n",
              "      <td>500</td>\n",
              "      <td>{'n_estimators': 500}</td>\n",
              "      <td>0.812619</td>\n",
              "      <td>0.813571</td>\n",
              "      <td>0.810952</td>\n",
              "      <td>0.805476</td>\n",
              "      <td>...</td>\n",
              "      <td>0.810190</td>\n",
              "      <td>0.002952</td>\n",
              "      <td>2</td>\n",
              "      <td>0.811488</td>\n",
              "      <td>0.810417</td>\n",
              "      <td>0.812024</td>\n",
              "      <td>0.812560</td>\n",
              "      <td>0.812857</td>\n",
              "      <td>0.811869</td>\n",
              "      <td>0.000864</td>\n",
              "    </tr>\n",
              "    <tr>\n",
              "      <th>2</th>\n",
              "      <td>13.044362</td>\n",
              "      <td>0.063331</td>\n",
              "      <td>0.361133</td>\n",
              "      <td>0.009572</td>\n",
              "      <td>900</td>\n",
              "      <td>{'n_estimators': 900}</td>\n",
              "      <td>0.811667</td>\n",
              "      <td>0.813810</td>\n",
              "      <td>0.811429</td>\n",
              "      <td>0.805238</td>\n",
              "      <td>...</td>\n",
              "      <td>0.810048</td>\n",
              "      <td>0.003021</td>\n",
              "      <td>3</td>\n",
              "      <td>0.811190</td>\n",
              "      <td>0.810536</td>\n",
              "      <td>0.811845</td>\n",
              "      <td>0.812798</td>\n",
              "      <td>0.812679</td>\n",
              "      <td>0.811810</td>\n",
              "      <td>0.000865</td>\n",
              "    </tr>\n",
              "    <tr>\n",
              "      <th>3</th>\n",
              "      <td>18.417669</td>\n",
              "      <td>0.276803</td>\n",
              "      <td>0.513301</td>\n",
              "      <td>0.010413</td>\n",
              "      <td>1300</td>\n",
              "      <td>{'n_estimators': 1300}</td>\n",
              "      <td>0.811667</td>\n",
              "      <td>0.813571</td>\n",
              "      <td>0.811429</td>\n",
              "      <td>0.805000</td>\n",
              "      <td>...</td>\n",
              "      <td>0.809857</td>\n",
              "      <td>0.003103</td>\n",
              "      <td>4</td>\n",
              "      <td>0.811190</td>\n",
              "      <td>0.810238</td>\n",
              "      <td>0.811905</td>\n",
              "      <td>0.812798</td>\n",
              "      <td>0.812738</td>\n",
              "      <td>0.811774</td>\n",
              "      <td>0.000969</td>\n",
              "    </tr>\n",
              "  </tbody>\n",
              "</table>\n",
              "<p>4 rows × 21 columns</p>\n",
              "</div>\n",
              "      <button class=\"colab-df-convert\" onclick=\"convertToInteractive('df-d49c0128-0d64-4c5a-8334-1b651d94f778')\"\n",
              "              title=\"Convert this dataframe to an interactive table.\"\n",
              "              style=\"display:none;\">\n",
              "        \n",
              "  <svg xmlns=\"http://www.w3.org/2000/svg\" height=\"24px\"viewBox=\"0 0 24 24\"\n",
              "       width=\"24px\">\n",
              "    <path d=\"M0 0h24v24H0V0z\" fill=\"none\"/>\n",
              "    <path d=\"M18.56 5.44l.94 2.06.94-2.06 2.06-.94-2.06-.94-.94-2.06-.94 2.06-2.06.94zm-11 1L8.5 8.5l.94-2.06 2.06-.94-2.06-.94L8.5 2.5l-.94 2.06-2.06.94zm10 10l.94 2.06.94-2.06 2.06-.94-2.06-.94-.94-2.06-.94 2.06-2.06.94z\"/><path d=\"M17.41 7.96l-1.37-1.37c-.4-.4-.92-.59-1.43-.59-.52 0-1.04.2-1.43.59L10.3 9.45l-7.72 7.72c-.78.78-.78 2.05 0 2.83L4 21.41c.39.39.9.59 1.41.59.51 0 1.02-.2 1.41-.59l7.78-7.78 2.81-2.81c.8-.78.8-2.07 0-2.86zM5.41 20L4 18.59l7.72-7.72 1.47 1.35L5.41 20z\"/>\n",
              "  </svg>\n",
              "      </button>\n",
              "      \n",
              "  <style>\n",
              "    .colab-df-container {\n",
              "      display:flex;\n",
              "      flex-wrap:wrap;\n",
              "      gap: 12px;\n",
              "    }\n",
              "\n",
              "    .colab-df-convert {\n",
              "      background-color: #E8F0FE;\n",
              "      border: none;\n",
              "      border-radius: 50%;\n",
              "      cursor: pointer;\n",
              "      display: none;\n",
              "      fill: #1967D2;\n",
              "      height: 32px;\n",
              "      padding: 0 0 0 0;\n",
              "      width: 32px;\n",
              "    }\n",
              "\n",
              "    .colab-df-convert:hover {\n",
              "      background-color: #E2EBFA;\n",
              "      box-shadow: 0px 1px 2px rgba(60, 64, 67, 0.3), 0px 1px 3px 1px rgba(60, 64, 67, 0.15);\n",
              "      fill: #174EA6;\n",
              "    }\n",
              "\n",
              "    [theme=dark] .colab-df-convert {\n",
              "      background-color: #3B4455;\n",
              "      fill: #D2E3FC;\n",
              "    }\n",
              "\n",
              "    [theme=dark] .colab-df-convert:hover {\n",
              "      background-color: #434B5C;\n",
              "      box-shadow: 0px 1px 3px 1px rgba(0, 0, 0, 0.15);\n",
              "      filter: drop-shadow(0px 1px 2px rgba(0, 0, 0, 0.3));\n",
              "      fill: #FFFFFF;\n",
              "    }\n",
              "  </style>\n",
              "\n",
              "      <script>\n",
              "        const buttonEl =\n",
              "          document.querySelector('#df-d49c0128-0d64-4c5a-8334-1b651d94f778 button.colab-df-convert');\n",
              "        buttonEl.style.display =\n",
              "          google.colab.kernel.accessAllowed ? 'block' : 'none';\n",
              "\n",
              "        async function convertToInteractive(key) {\n",
              "          const element = document.querySelector('#df-d49c0128-0d64-4c5a-8334-1b651d94f778');\n",
              "          const dataTable =\n",
              "            await google.colab.kernel.invokeFunction('convertToInteractive',\n",
              "                                                     [key], {});\n",
              "          if (!dataTable) return;\n",
              "\n",
              "          const docLinkHtml = 'Like what you see? Visit the ' +\n",
              "            '<a target=\"_blank\" href=https://colab.research.google.com/notebooks/data_table.ipynb>data table notebook</a>'\n",
              "            + ' to learn more about interactive tables.';\n",
              "          element.innerHTML = '';\n",
              "          dataTable['output_type'] = 'display_data';\n",
              "          await google.colab.output.renderOutput(dataTable, element);\n",
              "          const docLink = document.createElement('div');\n",
              "          docLink.innerHTML = docLinkHtml;\n",
              "          element.appendChild(docLink);\n",
              "        }\n",
              "      </script>\n",
              "    </div>\n",
              "  </div>\n",
              "  "
            ]
          },
          "metadata": {},
          "execution_count": 25
        }
      ],
      "source": [
        "# scores of GridSearch CV\n",
        "scores = rf.cv_results_\n",
        "\n",
        "# convert scores into dataframe and print head\n",
        "pd.DataFrame(scores).head()\n"
      ]
    },
    {
      "cell_type": "code",
      "execution_count": null,
      "metadata": {
        "id": "4N9dazIcHWXq",
        "outputId": "c2f9f2e6-8b4a-49a8-b5c4-105b125d86f5",
        "colab": {
          "base_uri": "https://localhost:8080/",
          "height": 280
        }
      },
      "outputs": [
        {
          "output_type": "display_data",
          "data": {
            "text/plain": [
              "<Figure size 432x288 with 1 Axes>"
            ],
            "image/png": "[encoded data removed]"
          },
          "metadata": {
            "needs_background": "light"
          }
        }
      ],
      "source": [
        "# plotting accuracies with n_estimators\n",
        "plt.figure()\n",
        "\n",
        "# code below\n",
        "plt.plot(scores['param_n_estimators'], scores['mean_train_score'], label='training accuracy')\n",
        "plt.plot(scores['param_n_estimators'], scores['mean_test_score'], label='test accuracy')\n",
        "plt.xlabel('n_estimators')\n",
        "plt.ylabel('accuracy')\n",
        "plt.legend()\n",
        "\n",
        "\n",
        "plt.show()\n"
      ]
    },
    {
      "cell_type": "markdown",
      "metadata": {
        "id": "f9QJtqBzHWXq"
      },
      "source": [
        "### **`Tuning max_features`**\n",
        "\n",
        "Let's see how the model performance varies with ```max_features```, which is the maximum numbre of features considered for splitting at a node."
      ]
    },
    {
      "cell_type": "code",
      "execution_count": null,
      "metadata": {
        "id": "YBobEH4CHWXq",
        "outputId": "4bc72dd0-82f9-4e9f-8388-b1641c151db5",
        "colab": {
          "base_uri": "https://localhost:8080/"
        }
      },
      "outputs": [
        {
          "output_type": "execute_result",
          "data": {
            "text/plain": [
              "GridSearchCV(cv=5,\n",
              "             estimator=RandomForestClassifier(max_depth=4, random_state=1),\n",
              "             param_grid={'max_features': [4, 8, 14, 20, 24]},\n",
              "             return_train_score=True, scoring='accuracy')"
            ]
          },
          "metadata": {},
          "execution_count": 29
        }
      ],
      "source": [
        "\n",
        "# parameters to build the model on max_features with [4, 8, 14, 20, 24]\n",
        "parameters = {'max_features':[4,8,14,20,24]}\n",
        "\n",
        "\n",
        "\n",
        "\n",
        "# instantiate the model (note we are specifying a max_depth as 4) and random_state as 1\n",
        "rf = RandomForestClassifier(max_depth=4, random_state=1)\n",
        "\n",
        "\n",
        "\n",
        "\n",
        "# Instantiate GridSearchCVwith rf, parameter, cv and scoring as accuracy and return_train_score as True\n",
        "rf = GridSearchCV(rf, parameters, cv=n_folds, scoring='accuracy', return_train_score=True)\n",
        "\n",
        "\n",
        "\n",
        "\n",
        "\n",
        "# fit tree on training data\n",
        "rf.fit(X_train,y_train)\n",
        "\n",
        "\n"
      ]
    },
    {
      "cell_type": "code",
      "execution_count": null,
      "metadata": {
        "id": "PRzyr5xdHWXr",
        "outputId": "22daf324-410a-4ec6-e13c-73fca9cbda04",
        "colab": {
          "base_uri": "https://localhost:8080/",
          "height": 386
        }
      },
      "outputs": [
        {
          "output_type": "execute_result",
          "data": {
            "text/plain": [
              "   mean_fit_time  std_fit_time  mean_score_time  std_score_time  \\\n",
              "0       1.451038      0.008787         0.044812        0.003361   \n",
              "1       2.858727      0.434590         0.047806        0.010352   \n",
              "2       5.571084      0.810491         0.049924        0.011055   \n",
              "3       6.429511      0.900233         0.042183        0.002628   \n",
              "4       8.315646      0.670560         0.050845        0.012275   \n",
              "\n",
              "  param_max_features                params  split0_test_score  \\\n",
              "0                  4   {'max_features': 4}           0.812143   \n",
              "1                  8   {'max_features': 8}           0.817619   \n",
              "2                 14  {'max_features': 14}           0.817619   \n",
              "3                 20  {'max_features': 20}           0.817619   \n",
              "4                 24  {'max_features': 24}           0.818095   \n",
              "\n",
              "   split1_test_score  split2_test_score  split3_test_score  ...  \\\n",
              "0           0.813333           0.812619           0.805000  ...   \n",
              "1           0.820952           0.820000           0.817381  ...   \n",
              "2           0.821429           0.817857           0.816429  ...   \n",
              "3           0.821905           0.819762           0.815476  ...   \n",
              "4           0.821667           0.819762           0.815000  ...   \n",
              "\n",
              "   mean_test_score  std_test_score  rank_test_score  split0_train_score  \\\n",
              "0         0.810619        0.003021                5            0.811131   \n",
              "1         0.818905        0.001377                1            0.821369   \n",
              "2         0.818571        0.001737                4            0.822321   \n",
              "3         0.818619        0.002148                3            0.822262   \n",
              "4         0.818667        0.002190                2            0.822976   \n",
              "\n",
              "   split1_train_score  split2_train_score  split3_train_score  \\\n",
              "0            0.809643            0.812976            0.813214   \n",
              "1            0.820179            0.821726            0.821369   \n",
              "2            0.820952            0.821726            0.822321   \n",
              "3            0.820774            0.821369            0.822798   \n",
              "4            0.821250            0.821726            0.823214   \n",
              "\n",
              "   split4_train_score  mean_train_score  std_train_score  \n",
              "0            0.813631          0.812119         0.001505  \n",
              "1            0.821131          0.821155         0.000524  \n",
              "2            0.821310          0.821726         0.000544  \n",
              "3            0.821964          0.821833         0.000703  \n",
              "4            0.822976          0.822429         0.000787  \n",
              "\n",
              "[5 rows x 21 columns]"
            ],
            "text/html": [
              "\n",
              "  <div id=\"df-95f8dede-1b87-4857-90a0-059cb7abc4ca\">\n",
              "    <div class=\"colab-df-container\">\n",
              "      <div>\n",
              "<style scoped>\n",
              "    .dataframe tbody tr th:only-of-type {\n",
              "        vertical-align: middle;\n",
              "    }\n",
              "\n",
              "    .dataframe tbody tr th {\n",
              "        vertical-align: top;\n",
              "    }\n",
              "\n",
              "    .dataframe thead th {\n",
              "        text-align: right;\n",
              "    }\n",
              "</style>\n",
              "<table border=\"1\" class=\"dataframe\">\n",
              "  <thead>\n",
              "    <tr style=\"text-align: right;\">\n",
              "      <th></th>\n",
              "      <th>mean_fit_time</th>\n",
              "      <th>std_fit_time</th>\n",
              "      <th>mean_score_time</th>\n",
              "      <th>std_score_time</th>\n",
              "      <th>param_max_features</th>\n",
              "      <th>params</th>\n",
              "      <th>split0_test_score</th>\n",
              "      <th>split1_test_score</th>\n",
              "      <th>split2_test_score</th>\n",
              "      <th>split3_test_score</th>\n",
              "      <th>...</th>\n",
              "      <th>mean_test_score</th>\n",
              "      <th>std_test_score</th>\n",
              "      <th>rank_test_score</th>\n",
              "      <th>split0_train_score</th>\n",
              "      <th>split1_train_score</th>\n",
              "      <th>split2_train_score</th>\n",
              "      <th>split3_train_score</th>\n",
              "      <th>split4_train_score</th>\n",
              "      <th>mean_train_score</th>\n",
              "      <th>std_train_score</th>\n",
              "    </tr>\n",
              "  </thead>\n",
              "  <tbody>\n",
              "    <tr>\n",
              "      <th>0</th>\n",
              "      <td>1.451038</td>\n",
              "      <td>0.008787</td>\n",
              "      <td>0.044812</td>\n",
              "      <td>0.003361</td>\n",
              "      <td>4</td>\n",
              "      <td>{'max_features': 4}</td>\n",
              "      <td>0.812143</td>\n",
              "      <td>0.813333</td>\n",
              "      <td>0.812619</td>\n",
              "      <td>0.805000</td>\n",
              "      <td>...</td>\n",
              "      <td>0.810619</td>\n",
              "      <td>0.003021</td>\n",
              "      <td>5</td>\n",
              "      <td>0.811131</td>\n",
              "      <td>0.809643</td>\n",
              "      <td>0.812976</td>\n",
              "      <td>0.813214</td>\n",
              "      <td>0.813631</td>\n",
              "      <td>0.812119</td>\n",
              "      <td>0.001505</td>\n",
              "    </tr>\n",
              "    <tr>\n",
              "      <th>1</th>\n",
              "      <td>2.858727</td>\n",
              "      <td>0.434590</td>\n",
              "      <td>0.047806</td>\n",
              "      <td>0.010352</td>\n",
              "      <td>8</td>\n",
              "      <td>{'max_features': 8}</td>\n",
              "      <td>0.817619</td>\n",
              "      <td>0.820952</td>\n",
              "      <td>0.820000</td>\n",
              "      <td>0.817381</td>\n",
              "      <td>...</td>\n",
              "      <td>0.818905</td>\n",
              "      <td>0.001377</td>\n",
              "      <td>1</td>\n",
              "      <td>0.821369</td>\n",
              "      <td>0.820179</td>\n",
              "      <td>0.821726</td>\n",
              "      <td>0.821369</td>\n",
              "      <td>0.821131</td>\n",
              "      <td>0.821155</td>\n",
              "      <td>0.000524</td>\n",
              "    </tr>\n",
              "    <tr>\n",
              "      <th>2</th>\n",
              "      <td>5.571084</td>\n",
              "      <td>0.810491</td>\n",
              "      <td>0.049924</td>\n",
              "      <td>0.011055</td>\n",
              "      <td>14</td>\n",
              "      <td>{'max_features': 14}</td>\n",
              "      <td>0.817619</td>\n",
              "      <td>0.821429</td>\n",
              "      <td>0.817857</td>\n",
              "      <td>0.816429</td>\n",
              "      <td>...</td>\n",
              "      <td>0.818571</td>\n",
              "      <td>0.001737</td>\n",
              "      <td>4</td>\n",
              "      <td>0.822321</td>\n",
              "      <td>0.820952</td>\n",
              "      <td>0.821726</td>\n",
              "      <td>0.822321</td>\n",
              "      <td>0.821310</td>\n",
              "      <td>0.821726</td>\n",
              "      <td>0.000544</td>\n",
              "    </tr>\n",
              "    <tr>\n",
              "      <th>3</th>\n",
              "      <td>6.429511</td>\n",
              "      <td>0.900233</td>\n",
              "      <td>0.042183</td>\n",
              "      <td>0.002628</td>\n",
              "      <td>20</td>\n",
              "      <td>{'max_features': 20}</td>\n",
              "      <td>0.817619</td>\n",
              "      <td>0.821905</td>\n",
              "      <td>0.819762</td>\n",
              "      <td>0.815476</td>\n",
              "      <td>...</td>\n",
              "      <td>0.818619</td>\n",
              "      <td>0.002148</td>\n",
              "      <td>3</td>\n",
              "      <td>0.822262</td>\n",
              "      <td>0.820774</td>\n",
              "      <td>0.821369</td>\n",
              "      <td>0.822798</td>\n",
              "      <td>0.821964</td>\n",
              "      <td>0.821833</td>\n",
              "      <td>0.000703</td>\n",
              "    </tr>\n",
              "    <tr>\n",
              "      <th>4</th>\n",
              "      <td>8.315646</td>\n",
              "      <td>0.670560</td>\n",
              "      <td>0.050845</td>\n",
              "      <td>0.012275</td>\n",
              "      <td>24</td>\n",
              "      <td>{'max_features': 24}</td>\n",
              "      <td>0.818095</td>\n",
              "      <td>0.821667</td>\n",
              "      <td>0.819762</td>\n",
              "      <td>0.815000</td>\n",
              "      <td>...</td>\n",
              "      <td>0.818667</td>\n",
              "      <td>0.002190</td>\n",
              "      <td>2</td>\n",
              "      <td>0.822976</td>\n",
              "      <td>0.821250</td>\n",
              "      <td>0.821726</td>\n",
              "      <td>0.823214</td>\n",
              "      <td>0.822976</td>\n",
              "      <td>0.822429</td>\n",
              "      <td>0.000787</td>\n",
              "    </tr>\n",
              "  </tbody>\n",
              "</table>\n",
              "<p>5 rows × 21 columns</p>\n",
              "</div>\n",
              "      <button class=\"colab-df-convert\" onclick=\"convertToInteractive('df-95f8dede-1b87-4857-90a0-059cb7abc4ca')\"\n",
              "              title=\"Convert this dataframe to an interactive table.\"\n",
              "              style=\"display:none;\">\n",
              "        \n",
              "  <svg xmlns=\"http://www.w3.org/2000/svg\" height=\"24px\"viewBox=\"0 0 24 24\"\n",
              "       width=\"24px\">\n",
              "    <path d=\"M0 0h24v24H0V0z\" fill=\"none\"/>\n",
              "    <path d=\"M18.56 5.44l.94 2.06.94-2.06 2.06-.94-2.06-.94-.94-2.06-.94 2.06-2.06.94zm-11 1L8.5 8.5l.94-2.06 2.06-.94-2.06-.94L8.5 2.5l-.94 2.06-2.06.94zm10 10l.94 2.06.94-2.06 2.06-.94-2.06-.94-.94-2.06-.94 2.06-2.06.94z\"/><path d=\"M17.41 7.96l-1.37-1.37c-.4-.4-.92-.59-1.43-.59-.52 0-1.04.2-1.43.59L10.3 9.45l-7.72 7.72c-.78.78-.78 2.05 0 2.83L4 21.41c.39.39.9.59 1.41.59.51 0 1.02-.2 1.41-.59l7.78-7.78 2.81-2.81c.8-.78.8-2.07 0-2.86zM5.41 20L4 18.59l7.72-7.72 1.47 1.35L5.41 20z\"/>\n",
              "  </svg>\n",
              "      </button>\n",
              "      \n",
              "  <style>\n",
              "    .colab-df-container {\n",
              "      display:flex;\n",
              "      flex-wrap:wrap;\n",
              "      gap: 12px;\n",
              "    }\n",
              "\n",
              "    .colab-df-convert {\n",
              "      background-color: #E8F0FE;\n",
              "      border: none;\n",
              "      border-radius: 50%;\n",
              "      cursor: pointer;\n",
              "      display: none;\n",
              "      fill: #1967D2;\n",
              "      height: 32px;\n",
              "      padding: 0 0 0 0;\n",
              "      width: 32px;\n",
              "    }\n",
              "\n",
              "    .colab-df-convert:hover {\n",
              "      background-color: #E2EBFA;\n",
              "      box-shadow: 0px 1px 2px rgba(60, 64, 67, 0.3), 0px 1px 3px 1px rgba(60, 64, 67, 0.15);\n",
              "      fill: #174EA6;\n",
              "    }\n",
              "\n",
              "    [theme=dark] .colab-df-convert {\n",
              "      background-color: #3B4455;\n",
              "      fill: #D2E3FC;\n",
              "    }\n",
              "\n",
              "    [theme=dark] .colab-df-convert:hover {\n",
              "      background-color: #434B5C;\n",
              "      box-shadow: 0px 1px 3px 1px rgba(0, 0, 0, 0.15);\n",
              "      filter: drop-shadow(0px 1px 2px rgba(0, 0, 0, 0.3));\n",
              "      fill: #FFFFFF;\n",
              "    }\n",
              "  </style>\n",
              "\n",
              "      <script>\n",
              "        const buttonEl =\n",
              "          document.querySelector('#df-95f8dede-1b87-4857-90a0-059cb7abc4ca button.colab-df-convert');\n",
              "        buttonEl.style.display =\n",
              "          google.colab.kernel.accessAllowed ? 'block' : 'none';\n",
              "\n",
              "        async function convertToInteractive(key) {\n",
              "          const element = document.querySelector('#df-95f8dede-1b87-4857-90a0-059cb7abc4ca');\n",
              "          const dataTable =\n",
              "            await google.colab.kernel.invokeFunction('convertToInteractive',\n",
              "                                                     [key], {});\n",
              "          if (!dataTable) return;\n",
              "\n",
              "          const docLinkHtml = 'Like what you see? Visit the ' +\n",
              "            '<a target=\"_blank\" href=https://colab.research.google.com/notebooks/data_table.ipynb>data table notebook</a>'\n",
              "            + ' to learn more about interactive tables.';\n",
              "          element.innerHTML = '';\n",
              "          dataTable['output_type'] = 'display_data';\n",
              "          await google.colab.output.renderOutput(dataTable, element);\n",
              "          const docLink = document.createElement('div');\n",
              "          docLink.innerHTML = docLinkHtml;\n",
              "          element.appendChild(docLink);\n",
              "        }\n",
              "      </script>\n",
              "    </div>\n",
              "  </div>\n",
              "  "
            ]
          },
          "metadata": {},
          "execution_count": 30
        }
      ],
      "source": [
        "# scores of GridSearch CV\n",
        "scores = rf.cv_results_\n",
        "\n",
        "# convert scores into dataframe and print head\n",
        "pd.DataFrame(scores).head()\n"
      ]
    },
    {
      "cell_type": "code",
      "execution_count": null,
      "metadata": {
        "id": "TUdLl9fhHWXr",
        "outputId": "a88827ad-0e7e-4930-8990-526e00e55b88",
        "colab": {
          "base_uri": "https://localhost:8080/",
          "height": 280
        }
      },
      "outputs": [
        {
          "output_type": "display_data",
          "data": {
            "text/plain": [
              "<Figure size 432x288 with 1 Axes>"
            ],
            "image/png": "[encoded data removed]"
          },
          "metadata": {
            "needs_background": "light"
          }
        }
      ],
      "source": [
        "# plotting accuracies with max_features\n",
        "plt.figure()\n",
        "#code below\n",
        "plt.plot(scores['param_max_features'], scores['mean_train_score'], label='training accuracy')\n",
        "plt.plot(scores['param_max_features'], scores['mean_test_score'], label='test accuracy')\n",
        "plt.xlabel('max_features')\n",
        "plt.ylabel('accuracy')\n",
        "plt.legend()\n",
        "\n",
        "plt.show()\n"
      ]
    },
    {
      "cell_type": "markdown",
      "metadata": {
        "id": "0WBec3DtHWXr"
      },
      "source": [
        "Apparently, the training and test scores *both* seem to increase as we increase max_features, and the model doesn't seem to overfit more with increasing max_features. Think about why that might be the case.\n",
        "\n",
        "### **`Tuning min_samples_leaf`**\n",
        "\n",
        "The hyperparameter **min_samples_leaf** is the minimum number of samples required to be at a leaf node:\n",
        "- If int, then consider min_samples_leaf as the minimum number.\n",
        "- If float, then min_samples_leaf is a percentage and ceil(min_samples_leaf * n_samples) are the minimum number of samples for each node.\n",
        "\n",
        "Let's now check the optimum value for min samples leaf in our case."
      ]
    },
    {
      "cell_type": "code",
      "execution_count": null,
      "metadata": {
        "id": "KSN6tEYjHWXr",
        "outputId": "0da3c450-22e2-422e-a948-32961a117357",
        "colab": {
          "base_uri": "https://localhost:8080/"
        }
      },
      "outputs": [
        {
          "output_type": "execute_result",
          "data": {
            "text/plain": [
              "GridSearchCV(cv=5, estimator=RandomForestClassifier(random_state=1),\n",
              "             param_grid={'min_samples_leaf': range(100, 400, 50)},\n",
              "             return_train_score=True, scoring='accuracy')"
            ]
          },
          "metadata": {},
          "execution_count": 32
        }
      ],
      "source": [
        "\n",
        "# parameters to build the model on min_samples_leaf of range(100, 400, 50)\n",
        "parameters = {'min_samples_leaf': range(100,400,50)}\n",
        "\n",
        "# instantiate the model (not specifying any max_depth) and random_state as 1\n",
        "rf = RandomForestClassifier(random_state=1)\n",
        "\n",
        "# Instantiate GridSearchCVwith rf, parameter, cv and scoring as accuracy and return_train_score as True\n",
        "rf = GridSearchCV(rf, parameters, cv=n_folds, scoring='accuracy', return_train_score=True)\n",
        "\n",
        "\n",
        "# fit tree on training data\n",
        "\n",
        "rf.fit(X_train,y_train)\n"
      ]
    },
    {
      "cell_type": "code",
      "execution_count": null,
      "metadata": {
        "id": "kvmH0Kl3HWXr",
        "outputId": "794c58a2-5199-4d03-c970-63c8da6727f8",
        "colab": {
          "base_uri": "https://localhost:8080/",
          "height": 386
        }
      },
      "outputs": [
        {
          "output_type": "execute_result",
          "data": {
            "text/plain": [
              "   mean_fit_time  std_fit_time  mean_score_time  std_score_time  \\\n",
              "0       3.514081      0.832270         0.071240        0.014204   \n",
              "1       3.590456      0.557954         0.106768        0.038068   \n",
              "2       2.550455      0.440812         0.060988        0.009371   \n",
              "3       2.031867      0.024223         0.057391        0.002761   \n",
              "4       1.918486      0.027750         0.053430        0.002162   \n",
              "\n",
              "  param_min_samples_leaf                     params  split0_test_score  \\\n",
              "0                    100  {'min_samples_leaf': 100}           0.815238   \n",
              "1                    150  {'min_samples_leaf': 150}           0.812381   \n",
              "2                    200  {'min_samples_leaf': 200}           0.810952   \n",
              "3                    250  {'min_samples_leaf': 250}           0.810952   \n",
              "4                    300  {'min_samples_leaf': 300}           0.809286   \n",
              "\n",
              "   split1_test_score  split2_test_score  split3_test_score  ...  \\\n",
              "0           0.817857           0.815238           0.811667  ...   \n",
              "1           0.814524           0.812381           0.808095  ...   \n",
              "2           0.811429           0.811190           0.805476  ...   \n",
              "3           0.811429           0.809762           0.803571  ...   \n",
              "4           0.809524           0.808810           0.804762  ...   \n",
              "\n",
              "   mean_test_score  std_test_score  rank_test_score  split0_train_score  \\\n",
              "0         0.814286        0.002433                1            0.817679   \n",
              "1         0.811095        0.002571                2            0.810952   \n",
              "2         0.809429        0.002316                3            0.808810   \n",
              "3         0.808524        0.002933                4            0.808631   \n",
              "4         0.807476        0.002133                5            0.807798   \n",
              "\n",
              "   split1_train_score  split2_train_score  split3_train_score  \\\n",
              "0            0.816012            0.816964            0.817619   \n",
              "1            0.812262            0.812500            0.814702   \n",
              "2            0.809821            0.809583            0.811131   \n",
              "3            0.808155            0.810298            0.810298   \n",
              "4            0.806429            0.808750            0.808988   \n",
              "\n",
              "   split4_train_score  mean_train_score  std_train_score  \n",
              "0            0.818333          0.817321         0.000785  \n",
              "1            0.812560          0.812595         0.001205  \n",
              "2            0.811845          0.810238         0.001098  \n",
              "3            0.810714          0.809619         0.001024  \n",
              "4            0.808869          0.808167         0.000966  \n",
              "\n",
              "[5 rows x 21 columns]"
            ],
            "text/html": [
              "\n",
              "  <div id=\"df-82ee4e39-d416-468d-96da-bae489585e09\">\n",
              "    <div class=\"colab-df-container\">\n",
              "      <div>\n",
              "<style scoped>\n",
              "    .dataframe tbody tr th:only-of-type {\n",
              "        vertical-align: middle;\n",
              "    }\n",
              "\n",
              "    .dataframe tbody tr th {\n",
              "        vertical-align: top;\n",
              "    }\n",
              "\n",
              "    .dataframe thead th {\n",
              "        text-align: right;\n",
              "    }\n",
              "</style>\n",
              "<table border=\"1\" class=\"dataframe\">\n",
              "  <thead>\n",
              "    <tr style=\"text-align: right;\">\n",
              "      <th></th>\n",
              "      <th>mean_fit_time</th>\n",
              "      <th>std_fit_time</th>\n",
              "      <th>mean_score_time</th>\n",
              "      <th>std_score_time</th>\n",
              "      <th>param_min_samples_leaf</th>\n",
              "      <th>params</th>\n",
              "      <th>split0_test_score</th>\n",
              "      <th>split1_test_score</th>\n",
              "      <th>split2_test_score</th>\n",
              "      <th>split3_test_score</th>\n",
              "      <th>...</th>\n",
              "      <th>mean_test_score</th>\n",
              "      <th>std_test_score</th>\n",
              "      <th>rank_test_score</th>\n",
              "      <th>split0_train_score</th>\n",
              "      <th>split1_train_score</th>\n",
              "      <th>split2_train_score</th>\n",
              "      <th>split3_train_score</th>\n",
              "      <th>split4_train_score</th>\n",
              "      <th>mean_train_score</th>\n",
              "      <th>std_train_score</th>\n",
              "    </tr>\n",
              "  </thead>\n",
              "  <tbody>\n",
              "    <tr>\n",
              "      <th>0</th>\n",
              "      <td>3.514081</td>\n",
              "      <td>0.832270</td>\n",
              "      <td>0.071240</td>\n",
              "      <td>0.014204</td>\n",
              "      <td>100</td>\n",
              "      <td>{'min_samples_leaf': 100}</td>\n",
              "      <td>0.815238</td>\n",
              "      <td>0.817857</td>\n",
              "      <td>0.815238</td>\n",
              "      <td>0.811667</td>\n",
              "      <td>...</td>\n",
              "      <td>0.814286</td>\n",
              "      <td>0.002433</td>\n",
              "      <td>1</td>\n",
              "      <td>0.817679</td>\n",
              "      <td>0.816012</td>\n",
              "      <td>0.816964</td>\n",
              "      <td>0.817619</td>\n",
              "      <td>0.818333</td>\n",
              "      <td>0.817321</td>\n",
              "      <td>0.000785</td>\n",
              "    </tr>\n",
              "    <tr>\n",
              "      <th>1</th>\n",
              "      <td>3.590456</td>\n",
              "      <td>0.557954</td>\n",
              "      <td>0.106768</td>\n",
              "      <td>0.038068</td>\n",
              "      <td>150</td>\n",
              "      <td>{'min_samples_leaf': 150}</td>\n",
              "      <td>0.812381</td>\n",
              "      <td>0.814524</td>\n",
              "      <td>0.812381</td>\n",
              "      <td>0.808095</td>\n",
              "      <td>...</td>\n",
              "      <td>0.811095</td>\n",
              "      <td>0.002571</td>\n",
              "      <td>2</td>\n",
              "      <td>0.810952</td>\n",
              "      <td>0.812262</td>\n",
              "      <td>0.812500</td>\n",
              "      <td>0.814702</td>\n",
              "      <td>0.812560</td>\n",
              "      <td>0.812595</td>\n",
              "      <td>0.001205</td>\n",
              "    </tr>\n",
              "    <tr>\n",
              "      <th>2</th>\n",
              "      <td>2.550455</td>\n",
              "      <td>0.440812</td>\n",
              "      <td>0.060988</td>\n",
              "      <td>0.009371</td>\n",
              "      <td>200</td>\n",
              "      <td>{'min_samples_leaf': 200}</td>\n",
              "      <td>0.810952</td>\n",
              "      <td>0.811429</td>\n",
              "      <td>0.811190</td>\n",
              "      <td>0.805476</td>\n",
              "      <td>...</td>\n",
              "      <td>0.809429</td>\n",
              "      <td>0.002316</td>\n",
              "      <td>3</td>\n",
              "      <td>0.808810</td>\n",
              "      <td>0.809821</td>\n",
              "      <td>0.809583</td>\n",
              "      <td>0.811131</td>\n",
              "      <td>0.811845</td>\n",
              "      <td>0.810238</td>\n",
              "      <td>0.001098</td>\n",
              "    </tr>\n",
              "    <tr>\n",
              "      <th>3</th>\n",
              "      <td>2.031867</td>\n",
              "      <td>0.024223</td>\n",
              "      <td>0.057391</td>\n",
              "      <td>0.002761</td>\n",
              "      <td>250</td>\n",
              "      <td>{'min_samples_leaf': 250}</td>\n",
              "      <td>0.810952</td>\n",
              "      <td>0.811429</td>\n",
              "      <td>0.809762</td>\n",
              "      <td>0.803571</td>\n",
              "      <td>...</td>\n",
              "      <td>0.808524</td>\n",
              "      <td>0.002933</td>\n",
              "      <td>4</td>\n",
              "      <td>0.808631</td>\n",
              "      <td>0.808155</td>\n",
              "      <td>0.810298</td>\n",
              "      <td>0.810298</td>\n",
              "      <td>0.810714</td>\n",
              "      <td>0.809619</td>\n",
              "      <td>0.001024</td>\n",
              "    </tr>\n",
              "    <tr>\n",
              "      <th>4</th>\n",
              "      <td>1.918486</td>\n",
              "      <td>0.027750</td>\n",
              "      <td>0.053430</td>\n",
              "      <td>0.002162</td>\n",
              "      <td>300</td>\n",
              "      <td>{'min_samples_leaf': 300}</td>\n",
              "      <td>0.809286</td>\n",
              "      <td>0.809524</td>\n",
              "      <td>0.808810</td>\n",
              "      <td>0.804762</td>\n",
              "      <td>...</td>\n",
              "      <td>0.807476</td>\n",
              "      <td>0.002133</td>\n",
              "      <td>5</td>\n",
              "      <td>0.807798</td>\n",
              "      <td>0.806429</td>\n",
              "      <td>0.808750</td>\n",
              "      <td>0.808988</td>\n",
              "      <td>0.808869</td>\n",
              "      <td>0.808167</td>\n",
              "      <td>0.000966</td>\n",
              "    </tr>\n",
              "  </tbody>\n",
              "</table>\n",
              "<p>5 rows × 21 columns</p>\n",
              "</div>\n",
              "      <button class=\"colab-df-convert\" onclick=\"convertToInteractive('df-82ee4e39-d416-468d-96da-bae489585e09')\"\n",
              "              title=\"Convert this dataframe to an interactive table.\"\n",
              "              style=\"display:none;\">\n",
              "        \n",
              "  <svg xmlns=\"http://www.w3.org/2000/svg\" height=\"24px\"viewBox=\"0 0 24 24\"\n",
              "       width=\"24px\">\n",
              "    <path d=\"M0 0h24v24H0V0z\" fill=\"none\"/>\n",
              "    <path d=\"M18.56 5.44l.94 2.06.94-2.06 2.06-.94-2.06-.94-.94-2.06-.94 2.06-2.06.94zm-11 1L8.5 8.5l.94-2.06 2.06-.94-2.06-.94L8.5 2.5l-.94 2.06-2.06.94zm10 10l.94 2.06.94-2.06 2.06-.94-2.06-.94-.94-2.06-.94 2.06-2.06.94z\"/><path d=\"M17.41 7.96l-1.37-1.37c-.4-.4-.92-.59-1.43-.59-.52 0-1.04.2-1.43.59L10.3 9.45l-7.72 7.72c-.78.78-.78 2.05 0 2.83L4 21.41c.39.39.9.59 1.41.59.51 0 1.02-.2 1.41-.59l7.78-7.78 2.81-2.81c.8-.78.8-2.07 0-2.86zM5.41 20L4 18.59l7.72-7.72 1.47 1.35L5.41 20z\"/>\n",
              "  </svg>\n",
              "      </button>\n",
              "      \n",
              "  <style>\n",
              "    .colab-df-container {\n",
              "      display:flex;\n",
              "      flex-wrap:wrap;\n",
              "      gap: 12px;\n",
              "    }\n",
              "\n",
              "    .colab-df-convert {\n",
              "      background-color: #E8F0FE;\n",
              "      border: none;\n",
              "      border-radius: 50%;\n",
              "      cursor: pointer;\n",
              "      display: none;\n",
              "      fill: #1967D2;\n",
              "      height: 32px;\n",
              "      padding: 0 0 0 0;\n",
              "      width: 32px;\n",
              "    }\n",
              "\n",
              "    .colab-df-convert:hover {\n",
              "      background-color: #E2EBFA;\n",
              "      box-shadow: 0px 1px 2px rgba(60, 64, 67, 0.3), 0px 1px 3px 1px rgba(60, 64, 67, 0.15);\n",
              "      fill: #174EA6;\n",
              "    }\n",
              "\n",
              "    [theme=dark] .colab-df-convert {\n",
              "      background-color: #3B4455;\n",
              "      fill: #D2E3FC;\n",
              "    }\n",
              "\n",
              "    [theme=dark] .colab-df-convert:hover {\n",
              "      background-color: #434B5C;\n",
              "      box-shadow: 0px 1px 3px 1px rgba(0, 0, 0, 0.15);\n",
              "      filter: drop-shadow(0px 1px 2px rgba(0, 0, 0, 0.3));\n",
              "      fill: #FFFFFF;\n",
              "    }\n",
              "  </style>\n",
              "\n",
              "      <script>\n",
              "        const buttonEl =\n",
              "          document.querySelector('#df-82ee4e39-d416-468d-96da-bae489585e09 button.colab-df-convert');\n",
              "        buttonEl.style.display =\n",
              "          google.colab.kernel.accessAllowed ? 'block' : 'none';\n",
              "\n",
              "        async function convertToInteractive(key) {\n",
              "          const element = document.querySelector('#df-82ee4e39-d416-468d-96da-bae489585e09');\n",
              "          const dataTable =\n",
              "            await google.colab.kernel.invokeFunction('convertToInteractive',\n",
              "                                                     [key], {});\n",
              "          if (!dataTable) return;\n",
              "\n",
              "          const docLinkHtml = 'Like what you see? Visit the ' +\n",
              "            '<a target=\"_blank\" href=https://colab.research.google.com/notebooks/data_table.ipynb>data table notebook</a>'\n",
              "            + ' to learn more about interactive tables.';\n",
              "          element.innerHTML = '';\n",
              "          dataTable['output_type'] = 'display_data';\n",
              "          await google.colab.output.renderOutput(dataTable, element);\n",
              "          const docLink = document.createElement('div');\n",
              "          docLink.innerHTML = docLinkHtml;\n",
              "          element.appendChild(docLink);\n",
              "        }\n",
              "      </script>\n",
              "    </div>\n",
              "  </div>\n",
              "  "
            ]
          },
          "metadata": {},
          "execution_count": 33
        }
      ],
      "source": [
        "# scores of GridSearch CV\n",
        "scores = rf.cv_results_\n",
        "\n",
        "# convert scores into df and print\n",
        "pd.DataFrame(scores).head()\n"
      ]
    },
    {
      "cell_type": "code",
      "execution_count": null,
      "metadata": {
        "id": "ISjd_QPjHWXs",
        "outputId": "b8b10b32-bbf2-45b0-8acd-0c355b9dd79a",
        "colab": {
          "base_uri": "https://localhost:8080/",
          "height": 280
        }
      },
      "outputs": [
        {
          "output_type": "display_data",
          "data": {
            "text/plain": [
              "<Figure size 432x288 with 1 Axes>"
            ],
            "image/png": "[encoded data removed]"
          },
          "metadata": {
            "needs_background": "light"
          }
        }
      ],
      "source": [
        "# plotting accuracies with min_samples_leaf\n",
        "plt.figure()\n",
        "\n",
        "# code below\n",
        "plt.plot(scores['param_min_samples_leaf'], scores['mean_train_score'], label='training accuracy')\n",
        "plt.plot(scores['param_min_samples_leaf'], scores['mean_test_score'], label='test accuracy')\n",
        "plt.xlabel('min_samples_leaf')\n",
        "plt.ylabel('accuracy')\n",
        "plt.legend()\n",
        "\n",
        "plt.show()"
      ]
    },
    {
      "cell_type": "markdown",
      "metadata": {
        "id": "FCtJx7cDHWXs"
      },
      "source": [
        "You can see that the model starts of overfit as you decrease the value of min_samples_leaf. \n",
        "\n",
        "### **`Tuning min_samples_split`**\n",
        "\n",
        "Let's now look at the performance of the ensemble as we vary min_samples_split.\n",
        "\n",
        "\n"
      ]
    },
    {
      "cell_type": "code",
      "execution_count": null,
      "metadata": {
        "id": "A25ecfRrHWXs",
        "outputId": "70bb565d-d1ac-4e27-8a49-e534bb941f5a",
        "colab": {
          "base_uri": "https://localhost:8080/"
        }
      },
      "outputs": [
        {
          "output_type": "execute_result",
          "data": {
            "text/plain": [
              "GridSearchCV(cv=5, estimator=RandomForestClassifier(random_state=1),\n",
              "             param_grid={'min_samples_split': range(200, 500, 50)},\n",
              "             return_train_score=True, scoring='accuracy')"
            ]
          },
          "metadata": {},
          "execution_count": 35
        }
      ],
      "source": [
        "\n",
        "\n",
        "# parameters to build the model on (min_samples_split with range(200, 500, 50))\n",
        "parameters = {'min_samples_split': range(200,500,50)}\n",
        "\n",
        "# instantiate the model with random_state as 1\n",
        "rf = RandomForestClassifier(random_state=1)\n",
        "\n",
        "\n",
        "# Instantiate GridSearchCVwith rf, parameter, cv and scoring as accuracy and return_train_score as True\n",
        "rf = GridSearchCV(rf, parameters, cv=n_folds, scoring='accuracy', return_train_score=True)\n",
        "\n",
        "\n",
        "#fitting model on training data\n",
        "\n",
        "rf.fit(X_train, y_train)\n",
        "       "
      ]
    },
    {
      "cell_type": "code",
      "execution_count": null,
      "metadata": {
        "id": "oqDewR8LHWXs",
        "outputId": "fa16d153-6ae8-4a55-b5ff-3fb1e18879f7",
        "colab": {
          "base_uri": "https://localhost:8080/",
          "height": 386
        }
      },
      "outputs": [
        {
          "output_type": "execute_result",
          "data": {
            "text/plain": [
              "   mean_fit_time  std_fit_time  mean_score_time  std_score_time  \\\n",
              "0       5.595708      1.163181         0.110499        0.052999   \n",
              "1       4.596767      0.692071         0.086284        0.015074   \n",
              "2       4.440550      0.346662         0.080610        0.007860   \n",
              "3       3.951760      0.353578         0.072817        0.010628   \n",
              "4       3.274845      0.048411         0.067636        0.001454   \n",
              "\n",
              "  param_min_samples_split                      params  split0_test_score  \\\n",
              "0                     200  {'min_samples_split': 200}           0.818571   \n",
              "1                     250  {'min_samples_split': 250}           0.818810   \n",
              "2                     300  {'min_samples_split': 300}           0.817381   \n",
              "3                     350  {'min_samples_split': 350}           0.817857   \n",
              "4                     400  {'min_samples_split': 400}           0.816905   \n",
              "\n",
              "   split1_test_score  split2_test_score  split3_test_score  ...  \\\n",
              "0           0.820714           0.820714           0.817381  ...   \n",
              "1           0.821667           0.820000           0.816905  ...   \n",
              "2           0.821667           0.822143           0.816667  ...   \n",
              "3           0.821429           0.820714           0.815714  ...   \n",
              "4           0.820476           0.820952           0.815952  ...   \n",
              "\n",
              "   mean_test_score  std_test_score  rank_test_score  split0_train_score  \\\n",
              "0         0.819190        0.001318                1            0.824286   \n",
              "1         0.819143        0.001605                2            0.822321   \n",
              "2         0.818714        0.002662                3            0.821667   \n",
              "3         0.818190        0.002522                6            0.820119   \n",
              "4         0.818381        0.001983                4            0.819762   \n",
              "\n",
              "   split1_train_score  split2_train_score  split3_train_score  \\\n",
              "0            0.823333            0.823274            0.824048   \n",
              "1            0.821607            0.822976            0.822976   \n",
              "2            0.821131            0.821726            0.821964   \n",
              "3            0.820833            0.820655            0.822440   \n",
              "4            0.819881            0.820298            0.820476   \n",
              "\n",
              "   split4_train_score  mean_train_score  std_train_score  \n",
              "0            0.823988          0.823786         0.000407  \n",
              "1            0.823274          0.822631         0.000599  \n",
              "2            0.822679          0.821833         0.000503  \n",
              "3            0.821726          0.821155         0.000825  \n",
              "4            0.821071          0.820298         0.000467  \n",
              "\n",
              "[5 rows x 21 columns]"
            ],
            "text/html": [
              "\n",
              "  <div id=\"df-8e314cce-b14c-48f3-aaf5-448b88536b7d\">\n",
              "    <div class=\"colab-df-container\">\n",
              "      <div>\n",
              "<style scoped>\n",
              "    .dataframe tbody tr th:only-of-type {\n",
              "        vertical-align: middle;\n",
              "    }\n",
              "\n",
              "    .dataframe tbody tr th {\n",
              "        vertical-align: top;\n",
              "    }\n",
              "\n",
              "    .dataframe thead th {\n",
              "        text-align: right;\n",
              "    }\n",
              "</style>\n",
              "<table border=\"1\" class=\"dataframe\">\n",
              "  <thead>\n",
              "    <tr style=\"text-align: right;\">\n",
              "      <th></th>\n",
              "      <th>mean_fit_time</th>\n",
              "      <th>std_fit_time</th>\n",
              "      <th>mean_score_time</th>\n",
              "      <th>std_score_time</th>\n",
              "      <th>param_min_samples_split</th>\n",
              "      <th>params</th>\n",
              "      <th>split0_test_score</th>\n",
              "      <th>split1_test_score</th>\n",
              "      <th>split2_test_score</th>\n",
              "      <th>split3_test_score</th>\n",
              "      <th>...</th>\n",
              "      <th>mean_test_score</th>\n",
              "      <th>std_test_score</th>\n",
              "      <th>rank_test_score</th>\n",
              "      <th>split0_train_score</th>\n",
              "      <th>split1_train_score</th>\n",
              "      <th>split2_train_score</th>\n",
              "      <th>split3_train_score</th>\n",
              "      <th>split4_train_score</th>\n",
              "      <th>mean_train_score</th>\n",
              "      <th>std_train_score</th>\n",
              "    </tr>\n",
              "  </thead>\n",
              "  <tbody>\n",
              "    <tr>\n",
              "      <th>0</th>\n",
              "      <td>5.595708</td>\n",
              "      <td>1.163181</td>\n",
              "      <td>0.110499</td>\n",
              "      <td>0.052999</td>\n",
              "      <td>200</td>\n",
              "      <td>{'min_samples_split': 200}</td>\n",
              "      <td>0.818571</td>\n",
              "      <td>0.820714</td>\n",
              "      <td>0.820714</td>\n",
              "      <td>0.817381</td>\n",
              "      <td>...</td>\n",
              "      <td>0.819190</td>\n",
              "      <td>0.001318</td>\n",
              "      <td>1</td>\n",
              "      <td>0.824286</td>\n",
              "      <td>0.823333</td>\n",
              "      <td>0.823274</td>\n",
              "      <td>0.824048</td>\n",
              "      <td>0.823988</td>\n",
              "      <td>0.823786</td>\n",
              "      <td>0.000407</td>\n",
              "    </tr>\n",
              "    <tr>\n",
              "      <th>1</th>\n",
              "      <td>4.596767</td>\n",
              "      <td>0.692071</td>\n",
              "      <td>0.086284</td>\n",
              "      <td>0.015074</td>\n",
              "      <td>250</td>\n",
              "      <td>{'min_samples_split': 250}</td>\n",
              "      <td>0.818810</td>\n",
              "      <td>0.821667</td>\n",
              "      <td>0.820000</td>\n",
              "      <td>0.816905</td>\n",
              "      <td>...</td>\n",
              "      <td>0.819143</td>\n",
              "      <td>0.001605</td>\n",
              "      <td>2</td>\n",
              "      <td>0.822321</td>\n",
              "      <td>0.821607</td>\n",
              "      <td>0.822976</td>\n",
              "      <td>0.822976</td>\n",
              "      <td>0.823274</td>\n",
              "      <td>0.822631</td>\n",
              "      <td>0.000599</td>\n",
              "    </tr>\n",
              "    <tr>\n",
              "      <th>2</th>\n",
              "      <td>4.440550</td>\n",
              "      <td>0.346662</td>\n",
              "      <td>0.080610</td>\n",
              "      <td>0.007860</td>\n",
              "      <td>300</td>\n",
              "      <td>{'min_samples_split': 300}</td>\n",
              "      <td>0.817381</td>\n",
              "      <td>0.821667</td>\n",
              "      <td>0.822143</td>\n",
              "      <td>0.816667</td>\n",
              "      <td>...</td>\n",
              "      <td>0.818714</td>\n",
              "      <td>0.002662</td>\n",
              "      <td>3</td>\n",
              "      <td>0.821667</td>\n",
              "      <td>0.821131</td>\n",
              "      <td>0.821726</td>\n",
              "      <td>0.821964</td>\n",
              "      <td>0.822679</td>\n",
              "      <td>0.821833</td>\n",
              "      <td>0.000503</td>\n",
              "    </tr>\n",
              "    <tr>\n",
              "      <th>3</th>\n",
              "      <td>3.951760</td>\n",
              "      <td>0.353578</td>\n",
              "      <td>0.072817</td>\n",
              "      <td>0.010628</td>\n",
              "      <td>350</td>\n",
              "      <td>{'min_samples_split': 350}</td>\n",
              "      <td>0.817857</td>\n",
              "      <td>0.821429</td>\n",
              "      <td>0.820714</td>\n",
              "      <td>0.815714</td>\n",
              "      <td>...</td>\n",
              "      <td>0.818190</td>\n",
              "      <td>0.002522</td>\n",
              "      <td>6</td>\n",
              "      <td>0.820119</td>\n",
              "      <td>0.820833</td>\n",
              "      <td>0.820655</td>\n",
              "      <td>0.822440</td>\n",
              "      <td>0.821726</td>\n",
              "      <td>0.821155</td>\n",
              "      <td>0.000825</td>\n",
              "    </tr>\n",
              "    <tr>\n",
              "      <th>4</th>\n",
              "      <td>3.274845</td>\n",
              "      <td>0.048411</td>\n",
              "      <td>0.067636</td>\n",
              "      <td>0.001454</td>\n",
              "      <td>400</td>\n",
              "      <td>{'min_samples_split': 400}</td>\n",
              "      <td>0.816905</td>\n",
              "      <td>0.820476</td>\n",
              "      <td>0.820952</td>\n",
              "      <td>0.815952</td>\n",
              "      <td>...</td>\n",
              "      <td>0.818381</td>\n",
              "      <td>0.001983</td>\n",
              "      <td>4</td>\n",
              "      <td>0.819762</td>\n",
              "      <td>0.819881</td>\n",
              "      <td>0.820298</td>\n",
              "      <td>0.820476</td>\n",
              "      <td>0.821071</td>\n",
              "      <td>0.820298</td>\n",
              "      <td>0.000467</td>\n",
              "    </tr>\n",
              "  </tbody>\n",
              "</table>\n",
              "<p>5 rows × 21 columns</p>\n",
              "</div>\n",
              "      <button class=\"colab-df-convert\" onclick=\"convertToInteractive('df-8e314cce-b14c-48f3-aaf5-448b88536b7d')\"\n",
              "              title=\"Convert this dataframe to an interactive table.\"\n",
              "              style=\"display:none;\">\n",
              "        \n",
              "  <svg xmlns=\"http://www.w3.org/2000/svg\" height=\"24px\"viewBox=\"0 0 24 24\"\n",
              "       width=\"24px\">\n",
              "    <path d=\"M0 0h24v24H0V0z\" fill=\"none\"/>\n",
              "    <path d=\"M18.56 5.44l.94 2.06.94-2.06 2.06-.94-2.06-.94-.94-2.06-.94 2.06-2.06.94zm-11 1L8.5 8.5l.94-2.06 2.06-.94-2.06-.94L8.5 2.5l-.94 2.06-2.06.94zm10 10l.94 2.06.94-2.06 2.06-.94-2.06-.94-.94-2.06-.94 2.06-2.06.94z\"/><path d=\"M17.41 7.96l-1.37-1.37c-.4-.4-.92-.59-1.43-.59-.52 0-1.04.2-1.43.59L10.3 9.45l-7.72 7.72c-.78.78-.78 2.05 0 2.83L4 21.41c.39.39.9.59 1.41.59.51 0 1.02-.2 1.41-.59l7.78-7.78 2.81-2.81c.8-.78.8-2.07 0-2.86zM5.41 20L4 18.59l7.72-7.72 1.47 1.35L5.41 20z\"/>\n",
              "  </svg>\n",
              "      </button>\n",
              "      \n",
              "  <style>\n",
              "    .colab-df-container {\n",
              "      display:flex;\n",
              "      flex-wrap:wrap;\n",
              "      gap: 12px;\n",
              "    }\n",
              "\n",
              "    .colab-df-convert {\n",
              "      background-color: #E8F0FE;\n",
              "      border: none;\n",
              "      border-radius: 50%;\n",
              "      cursor: pointer;\n",
              "      display: none;\n",
              "      fill: #1967D2;\n",
              "      height: 32px;\n",
              "      padding: 0 0 0 0;\n",
              "      width: 32px;\n",
              "    }\n",
              "\n",
              "    .colab-df-convert:hover {\n",
              "      background-color: #E2EBFA;\n",
              "      box-shadow: 0px 1px 2px rgba(60, 64, 67, 0.3), 0px 1px 3px 1px rgba(60, 64, 67, 0.15);\n",
              "      fill: #174EA6;\n",
              "    }\n",
              "\n",
              "    [theme=dark] .colab-df-convert {\n",
              "      background-color: #3B4455;\n",
              "      fill: #D2E3FC;\n",
              "    }\n",
              "\n",
              "    [theme=dark] .colab-df-convert:hover {\n",
              "      background-color: #434B5C;\n",
              "      box-shadow: 0px 1px 3px 1px rgba(0, 0, 0, 0.15);\n",
              "      filter: drop-shadow(0px 1px 2px rgba(0, 0, 0, 0.3));\n",
              "      fill: #FFFFFF;\n",
              "    }\n",
              "  </style>\n",
              "\n",
              "      <script>\n",
              "        const buttonEl =\n",
              "          document.querySelector('#df-8e314cce-b14c-48f3-aaf5-448b88536b7d button.colab-df-convert');\n",
              "        buttonEl.style.display =\n",
              "          google.colab.kernel.accessAllowed ? 'block' : 'none';\n",
              "\n",
              "        async function convertToInteractive(key) {\n",
              "          const element = document.querySelector('#df-8e314cce-b14c-48f3-aaf5-448b88536b7d');\n",
              "          const dataTable =\n",
              "            await google.colab.kernel.invokeFunction('convertToInteractive',\n",
              "                                                     [key], {});\n",
              "          if (!dataTable) return;\n",
              "\n",
              "          const docLinkHtml = 'Like what you see? Visit the ' +\n",
              "            '<a target=\"_blank\" href=https://colab.research.google.com/notebooks/data_table.ipynb>data table notebook</a>'\n",
              "            + ' to learn more about interactive tables.';\n",
              "          element.innerHTML = '';\n",
              "          dataTable['output_type'] = 'display_data';\n",
              "          await google.colab.output.renderOutput(dataTable, element);\n",
              "          const docLink = document.createElement('div');\n",
              "          docLink.innerHTML = docLinkHtml;\n",
              "          element.appendChild(docLink);\n",
              "        }\n",
              "      </script>\n",
              "    </div>\n",
              "  </div>\n",
              "  "
            ]
          },
          "metadata": {},
          "execution_count": 36
        }
      ],
      "source": [
        "# scores of GridSearch CV\n",
        "scores = rf.cv_results_\n",
        "\n",
        "# convert scores into df and print head\n",
        "\n",
        "pd.DataFrame(scores).head()\n"
      ]
    },
    {
      "cell_type": "code",
      "execution_count": null,
      "metadata": {
        "id": "t8QNpO7LHWXs",
        "outputId": "167af751-88ac-4eba-eba5-8a0cd879d597",
        "colab": {
          "base_uri": "https://localhost:8080/",
          "height": 282
        }
      },
      "outputs": [
        {
          "output_type": "display_data",
          "data": {
            "text/plain": [
              "<Figure size 432x288 with 1 Axes>"
            ],
            "image/png": "[encoded data removed]"
          },
          "metadata": {
            "needs_background": "light"
          }
        }
      ],
      "source": [
        "# plotting accuracies with min_samples_split\n",
        "plt.figure()\n",
        "#code below\n",
        "plt.plot(scores['param_min_samples_split'], scores['mean_train_score'], label='training accuracy')\n",
        "plt.plot(scores['param_min_samples_split'], scores['mean_test_score'], label='test accuracy')\n",
        "plt.xlabel('min_samples_split')\n",
        "plt.ylabel('accuracy')\n",
        "plt.legend()\n",
        "\n",
        "\n",
        "\n",
        "plt.show()"
      ]
    },
    {
      "cell_type": "markdown",
      "metadata": {
        "id": "rv5xf465HWXs"
      },
      "source": [
        "#### **`Random Search to Find Optimal Hyperparameters`**\n",
        "\n",
        "We can now find the optimal hyperparameters using RandomizedSearchCV. \n",
        "\n",
        "with following  parameter values: \n",
        "\n",
        "`'max_depth': [4,8,10],\n",
        "'min_samples_leaf': range(100, 400, 200),\n",
        "'min_samples_split': range(200, 500, 200),\n",
        "'n_estimators': [100,200, 300], \n",
        "'max_features': [5, 10]`\n",
        "\n",
        "Note : here we are avoiding grid search because using it your system might crash, whereas RandomizedSearchCV is fater than grid search  ;)"
      ]
    },
    {
      "cell_type": "code",
      "execution_count": null,
      "metadata": {
        "id": "5j1LDEZ7HWXs"
      },
      "outputs": [],
      "source": [
        "# import RandomizedSearchCV\n",
        "from sklearn.model_selection import RandomizedSearchCV\n",
        "\n",
        "# Create the parameter grid based on the results of random search \n",
        "param_grid ={'max_depth':[4,8,10],\n",
        "             'min_samples_leaf':range(100,400,200),\n",
        "             'min_samples_split': range(200,500,200),\n",
        "             'n_estimators':[100,200,300],\n",
        "             'max_features':[5,10]} \n",
        "\n",
        "\n",
        "\n",
        "\n",
        "# Create a based model (i.e RF) with random_state as 1\n",
        "rf = RandomForestClassifier(random_state=1)\n",
        "\n",
        "# Instantiate the radom search model with estimator, param_grid, and random_state as 1\n",
        "rs = RandomizedSearchCV(rf, param_grid, random_state=1)\n",
        "\n",
        "\n"
      ]
    },
    {
      "cell_type": "code",
      "execution_count": null,
      "metadata": {
        "id": "oHoHzBkUHWXt",
        "outputId": "16d41d44-1c53-48bf-e19d-0fb8b684dc79",
        "colab": {
          "base_uri": "https://localhost:8080/"
        }
      },
      "outputs": [
        {
          "output_type": "execute_result",
          "data": {
            "text/plain": [
              "RandomizedSearchCV(estimator=RandomForestClassifier(random_state=1),\n",
              "                   param_distributions={'max_depth': [4, 8, 10],\n",
              "                                        'max_features': [5, 10],\n",
              "                                        'min_samples_leaf': range(100, 400, 200),\n",
              "                                        'min_samples_split': range(200, 500, 200),\n",
              "                                        'n_estimators': [100, 200, 300]},\n",
              "                   random_state=1)"
            ]
          },
          "metadata": {},
          "execution_count": 39
        }
      ],
      "source": [
        "# Fit the grid search to the data\n",
        "rs.fit(X_train, y_train)\n"
      ]
    },
    {
      "cell_type": "code",
      "execution_count": null,
      "metadata": {
        "id": "KdKLr3jfHWXt",
        "outputId": "1586a2fd-324a-4b61-b01a-292c194eef80",
        "colab": {
          "base_uri": "https://localhost:8080/"
        }
      },
      "outputs": [
        {
          "output_type": "stream",
          "name": "stdout",
          "text": [
            "we can get accuracy of 0.8179047619047619 using {'n_estimators': 100, 'min_samples_split': 400, 'min_samples_leaf': 100, 'max_features': 10, 'max_depth': 8}\n"
          ]
        }
      ],
      "source": [
        "# printing the optimal accuracy score and hyperparameters\n",
        "print('we can get accuracy of', rs.best_score_, 'using', rs.best_params_)\n",
        "\n"
      ]
    },
    {
      "cell_type": "markdown",
      "metadata": {
        "id": "epWwLsqlHWXt"
      },
      "source": [
        "**Fitting the final model with the best parameters obtained from grid search.**"
      ]
    },
    {
      "cell_type": "code",
      "execution_count": null,
      "metadata": {
        "id": "pOKWvYGAHWXt"
      },
      "outputs": [],
      "source": [
        "# Instantiate RF model with the best hyperparameters along with random_state as 1\n",
        "rfc = RandomForestClassifier(max_depth=8,\n",
        "                             max_features=10,\n",
        "                             min_samples_leaf=100,\n",
        "                             min_samples_split=400,\n",
        "                             n_estimators=100,\n",
        "                             random_state=1)\n"
      ]
    },
    {
      "cell_type": "code",
      "execution_count": null,
      "metadata": {
        "id": "uXkq229JHWXt",
        "outputId": "486234f1-9546-44fc-d4b1-8999e292712c",
        "colab": {
          "base_uri": "https://localhost:8080/"
        }
      },
      "outputs": [
        {
          "output_type": "execute_result",
          "data": {
            "text/plain": [
              "RandomForestClassifier(max_depth=8, max_features=10, min_samples_leaf=100,\n",
              "                       min_samples_split=400, random_state=1)"
            ]
          },
          "metadata": {},
          "execution_count": 42
        }
      ],
      "source": [
        "# fit rfc on training data\n",
        "rfc.fit(X_train,y_train)\n"
      ]
    },
    {
      "cell_type": "code",
      "execution_count": null,
      "metadata": {
        "id": "yb6EfPKtHWXt"
      },
      "outputs": [],
      "source": [
        "# predict\n",
        "predictions = rfc.predict(X_test)\n"
      ]
    },
    {
      "cell_type": "code",
      "execution_count": null,
      "metadata": {
        "id": "cMIIc-m-HWXt",
        "outputId": "733ca61b-5bf9-496b-be57-c30ef5034953",
        "colab": {
          "base_uri": "https://localhost:8080/"
        }
      },
      "outputs": [
        {
          "output_type": "stream",
          "name": "stdout",
          "text": [
            "              precision    recall  f1-score   support\n",
            "\n",
            "           0       0.84      0.96      0.90      7058\n",
            "           1       0.69      0.36      0.47      1942\n",
            "\n",
            "    accuracy                           0.83      9000\n",
            "   macro avg       0.77      0.66      0.68      9000\n",
            "weighted avg       0.81      0.83      0.80      9000\n",
            "\n"
          ]
        }
      ],
      "source": [
        "# evaluation metrics using classification_report\n",
        "\n",
        "print(classification_report(y_test, predictions))\n"
      ]
    },
    {
      "cell_type": "code",
      "execution_count": null,
      "metadata": {
        "id": "Zlf2ucRFHWXt",
        "outputId": "ac0aff67-1a41-44ca-c09a-2ce7b389f7a2",
        "colab": {
          "base_uri": "https://localhost:8080/"
        }
      },
      "outputs": [
        {
          "output_type": "stream",
          "name": "stdout",
          "text": [
            "[[6748  310]\n",
            " [1249  693]]\n",
            "0.8267777777777777\n"
          ]
        }
      ],
      "source": [
        "#print confusion_matrix and \n",
        "print(confusion_matrix(y_test,predictions))\n",
        "\n",
        "#print accuracy\n",
        "print(accuracy_score(y_test, predictions))\n"
      ]
    },
    {
      "cell_type": "markdown",
      "metadata": {
        "id": "mgzWmlh_HWXu"
      },
      "source": [
        "Oh yeah ! after hyper parameter tuning Random forest accuracy is improved."
      ]
    },
    {
      "cell_type": "markdown",
      "metadata": {
        "id": "P3ml9JpWHWXu"
      },
      "source": [
        "### **`3. Extra Trees ALgorithm`**\n",
        "\n",
        "<p style='text-align: right;'> 20 points</p>\n",
        "\n",
        "Reference doc: https://scikit-learn.org/stable/modules/generated/sklearn.ensemble.ExtraTreesClassifier.html\n",
        "\n",
        " \n",
        "Extra Trees and Random Forest are two very similar ensemble methods\n",
        "The two ensembles have a lot in common. Both of them are composed of a large number of decision trees. The main difference between descision tree , random Forest and Extra trees are shown below:\n",
        "\n",
        "\n",
        "\n",
        "\n",
        "\n",
        "\n",
        "Unlike bagging and random forest that develop each decision tree from a bootstrap sample of the training dataset, the Extra Trees algorithm fits each decision tree on the whole training dataset.\n",
        "\n",
        "Like random forest, the Extra Trees algorithm will randomly sample the features at each split point of a decision tree. Unlike random forest, which uses a greedy algorithm to select an optimal split point, the Extra Trees algorithm selects a split point at random.\n",
        "\n",
        "Reference video below:"
      ]
    },
    {
      "cell_type": "code",
      "execution_count": null,
      "metadata": {
        "id": "SGnVFDjGHWXu",
        "outputId": "686393c7-3b9a-48d8-8a5c-7c5d46990ac9",
        "colab": {
          "base_uri": "https://localhost:8080/"
        }
      },
      "outputs": [
        {
          "output_type": "execute_result",
          "data": {
            "text/plain": [
              "ExtraTreesClassifier(random_state=1)"
            ]
          },
          "metadata": {},
          "execution_count": 46
        }
      ],
      "source": [
        "# import ExtraTreesClassifier \n",
        "from sklearn.ensemble import ExtraTreesClassifier\n",
        "\n",
        "#Instantiate ExtraTreesClassifier with default parameters except random_state as 1\n",
        "et = ExtraTreesClassifier(random_state=1) \n",
        "\n",
        "\n",
        "#fitting model on training data\n",
        "et.fit(X_train, y_train)\n",
        "\n",
        "\n",
        "\n"
      ]
    },
    {
      "cell_type": "code",
      "execution_count": null,
      "metadata": {
        "id": "K3LPZ6bCHWXu"
      },
      "outputs": [],
      "source": [
        "# Making predictions\n",
        "predictions = et.predict(X_test)\n",
        "\n",
        "\n"
      ]
    },
    {
      "cell_type": "code",
      "execution_count": null,
      "metadata": {
        "id": "PM9BnvElHWXu",
        "outputId": "d8808adc-c1e3-40c4-fae2-9309195d5852",
        "colab": {
          "base_uri": "https://localhost:8080/"
        }
      },
      "outputs": [
        {
          "output_type": "stream",
          "name": "stdout",
          "text": [
            "              precision    recall  f1-score   support\n",
            "\n",
            "           0       0.84      0.94      0.89      7058\n",
            "           1       0.62      0.36      0.45      1942\n",
            "\n",
            "    accuracy                           0.81      9000\n",
            "   macro avg       0.73      0.65      0.67      9000\n",
            "weighted avg       0.79      0.81      0.79      9000\n",
            "\n"
          ]
        }
      ],
      "source": [
        "# Let's check the report of our default model\n",
        "print(classification_report(y_test, predictions))\n"
      ]
    },
    {
      "cell_type": "code",
      "execution_count": null,
      "metadata": {
        "id": "Svfm3S-NHWXu",
        "outputId": "1e45460e-57fd-4c32-d13a-ca5ef4018fcf",
        "colab": {
          "base_uri": "https://localhost:8080/"
        }
      },
      "outputs": [
        {
          "output_type": "stream",
          "name": "stdout",
          "text": [
            "[[6629  429]\n",
            " [1248  694]]\n"
          ]
        }
      ],
      "source": [
        "# Printing confusion matrix\n",
        "\n",
        "print(confusion_matrix(y_test,predictions))\n"
      ]
    },
    {
      "cell_type": "code",
      "execution_count": null,
      "metadata": {
        "id": "JA1hU8cpHWXu",
        "outputId": "e7e6c5f4-051f-4801-ab16-1e5c5ad0ae6e",
        "colab": {
          "base_uri": "https://localhost:8080/"
        }
      },
      "outputs": [
        {
          "output_type": "stream",
          "name": "stdout",
          "text": [
            "0.8136666666666666\n"
          ]
        }
      ],
      "source": [
        "#printing accuracy_score\n",
        "\n",
        "print(accuracy_score(y_test, predictions))\n"
      ]
    },
    {
      "cell_type": "markdown",
      "metadata": {
        "id": "dtibLiYwHWXu"
      },
      "source": [
        "cool! so we got 81 % accuracy here. We can even try hyperparameter tuning here in order to improve the result. So lets Tune the mode\n",
        "\n",
        "\n",
        "##### Random Search to Find Optimal Hyperparameters\n",
        "\n",
        "<p style='text-align: right;'> 5 points</p>\n",
        "\n",
        "Reference doc: https://scikit-learn.org/stable/modules/generated/sklearn.model_selection.RandomizedSearchCV.html\n",
        "\n",
        "\n",
        "We can now find the optimal hyperparameters using GridSearchCV.\n",
        "\n",
        "Reference video below:\n",
        "- dataset used: https://drive.google.com/file/d/1tvkIwEbaXZPjDj6yThwweRfikkNdqpnQ/view?usp=sharing"
      ]
    },
    {
      "cell_type": "markdown",
      "metadata": {
        "id": "zllHhUb1HWXv"
      },
      "source": [
        "Now lets try using above chosen best parameters into extra trees and tune it."
      ]
    },
    {
      "cell_type": "code",
      "execution_count": null,
      "metadata": {
        "id": "fJa4ncJYHWXv",
        "outputId": "319ee3da-c904-404b-ea56-8f7704222231",
        "colab": {
          "base_uri": "https://localhost:8080/"
        }
      },
      "outputs": [
        {
          "output_type": "execute_result",
          "data": {
            "text/plain": [
              "ExtraTreesClassifier(max_depth=8, max_features=10, min_samples_leaf=100,\n",
              "                     min_samples_split=400)"
            ]
          },
          "metadata": {},
          "execution_count": 53
        }
      ],
      "source": [
        "\n",
        "#Instantiate ExtraTreesClassifier with default parameters\n",
        "et =  ExtraTreesClassifier(n_estimators=100, min_samples_split=400, min_samples_leaf=100, max_features=10, max_depth=8)\n",
        "\n",
        "#fitting model on training data\n",
        "\n",
        "et.fit(X_train, y_train)\n"
      ]
    },
    {
      "cell_type": "code",
      "execution_count": null,
      "metadata": {
        "id": "kFPvjzI6HWXv"
      },
      "outputs": [],
      "source": [
        "# Making predictions\n",
        "predictions = et.predict(X_test)\n",
        "\n"
      ]
    },
    {
      "cell_type": "code",
      "execution_count": null,
      "metadata": {
        "id": "4E_MPKyaHWXv",
        "outputId": "23ef0664-f24d-499c-de33-483311994239",
        "colab": {
          "base_uri": "https://localhost:8080/"
        }
      },
      "outputs": [
        {
          "output_type": "stream",
          "name": "stdout",
          "text": [
            "0.8198888888888889\n"
          ]
        }
      ],
      "source": [
        "#printing accuracy_score\n",
        "\n",
        "print(accuracy_score(y_test, predictions))\n",
        "\n",
        "\n",
        "\n"
      ]
    },
    {
      "cell_type": "markdown",
      "metadata": {
        "id": "HZgQiElCHWXv"
      },
      "source": [
        "`Note: We have used  random_state as 1 in all algorithms, in order to avoid change in solution on repeated code execution`\n",
        "\n",
        "Well here even after doing hyperparameter tuning, you can see that there is not much improvement on the model performance. \n",
        "\n",
        "Now you have seen ensemble bootstrap aggregation using 3 different methods, namely bagging classifier, Random Forest and Extra tree Regressor\n",
        "\n"
      ]
    }
  ],
  "metadata": {
    "kernelspec": {
      "display_name": "Python 3",
      "language": "python",
      "name": "python3"
    },
    "language_info": {
      "codemirror_mode": {
        "name": "ipython",
        "version": 3
      },
      "file_extension": ".py",
      "mimetype": "text/x-python",
      "name": "python",
      "nbconvert_exporter": "python",
      "pygments_lexer": "ipython3",
      "version": "3.8.5"
    },
    "latex_envs": {
      "LaTeX_envs_menu_present": true,
      "autoclose": false,
      "autocomplete": true,
      "bibliofile": "biblio.bib",
      "cite_by": "apalike",
      "current_citInitial": 1,
      "eqLabelWithNumbers": true,
      "eqNumInitial": 1,
      "hotkeys": {
        "equation": "Ctrl-E",
        "itemize": "Ctrl-I"
      },
      "labels_anchors": false,
      "latex_user_defs": false,
      "report_style_numbering": false,
      "user_envs_cfg": false
    },
    "colab": {
      "provenance": [],
      "collapsed_sections": []
    }
  },
  "nbformat": 4,
  "nbformat_minor": 0
}